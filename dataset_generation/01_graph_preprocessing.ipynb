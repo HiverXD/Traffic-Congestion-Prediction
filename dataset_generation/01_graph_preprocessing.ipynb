{
 "cells": [
  {
   "cell_type": "code",
   "execution_count": null,
   "metadata": {},
   "outputs": [],
   "source": [
    "import numpy as np\n",
    "from scipy.spatial.distance import euclidean\n",
    "\n",
    "def GraphPreprocessing(nodes, edges):\n",
    "    \"\"\"nodes, edges를 받아 converted nodes, edges를 반환\"\"\"\n",
    "    adj = make_adjacency_matrix(nodes, edges)  # 인접 행렬 생성\n",
    "    converted_nodes = convert_nodes(nodes)  # 노드 변환\n",
    "    converted_edges = convert_edges_to_links(converted_nodes, adj)  # 엣지 변환\n",
    "    return converted_nodes, converted_edges\n",
    "\n",
    "\n",
    "def make_adjacency_matrix(nodes, edges):\n",
    "    \"\"\"인접 행렬 생성\"\"\"\n",
    "    num_nodes = len(nodes)\n",
    "    adj = np.zeros((num_nodes, num_nodes))\n",
    "\n",
    "    for start, end in edges:\n",
    "        adj[start, end] = 1\n",
    "        adj[end, start] = 1  # 양방향 처리\n",
    "    \n",
    "    return adj\n",
    "\n",
    "\n",
    "def convert_nodes(nodes):\n",
    "    \"\"\"노드 리스트 변환 수행\"\"\"\n",
    "    converted_nodes = []\n",
    "    for i, (node_type, coords) in enumerate(nodes):\n",
    "        node_info = {\n",
    "            'id': i,\n",
    "            'type': node_type,\n",
    "            'coords': coords,\n",
    "        }\n",
    "        converted_nodes.append(node_info)\n",
    "    return converted_nodes\n",
    "\n",
    "\n",
    "def convert_edges_to_links(converted_nodes, adj_matrix):\n",
    "    \"\"\"엣지를 링크 리스트로 변환\"\"\"\n",
    "    links = []\n",
    "    num_nodes = len(converted_nodes)\n",
    "    \n",
    "    for i in range(num_nodes):\n",
    "        for j in range(i + 1, num_nodes):\n",
    "            if adj_matrix[i, j] == 1:  # 연결된 경우\n",
    "                distance = euclidean(converted_nodes[i]['coords'], converted_nodes[j]['coords'])\n",
    "                \n",
    "                # S-S 연결이면 highway, 나머지는 urban\n",
    "                road_type = 'highway' if (converted_nodes[i]['type'] == 'S' and converted_nodes[j]['type'] == 'S') else 'urban'\n",
    "                \n",
    "                links.append({'start': i, 'end': j, 'distance': distance, 'road_type': road_type})\n",
    "                links.append({'start': j, 'end': i, 'distance': distance, 'road_type': road_type})  # 양방향 추가\n",
    "\n",
    "    return links\n",
    "\n"
   ]
  },
  {
   "cell_type": "code",
   "execution_count": 8,
   "metadata": {},
   "outputs": [
    {
     "name": "stdout",
     "output_type": "stream",
     "text": [
      "converted_nodes = [{'id': 0, 'type': 'H', 'coords': (10, 10)}, {'id': 1, 'type': 'I', 'coords': (5, 8)}, {'id': 2, 'type': 'S', 'coords': (7, 2)}, {'id': 3, 'type': 'C', 'coords': (6, 0)}, {'id': 4, 'type': 'S', 'coords': (2, 7)}, {'id': 5, 'type': 'C', 'coords': (5, 0)}, {'id': 6, 'type': 'S', 'coords': (2, 2)}, {'id': 7, 'type': 'I', 'coords': (4, 9)}, {'id': 8, 'type': 'O', 'coords': (1, 1)}, {'id': 9, 'type': 'C', 'coords': (5, 1)}, {'id': 10, 'type': 'R', 'coords': (7, 1)}, {'id': 11, 'type': 'R', 'coords': (9, 3)}, {'id': 12, 'type': 'I', 'coords': (4, 8)}, {'id': 13, 'type': 'S', 'coords': (7, 7)}, {'id': 14, 'type': 'C', 'coords': (8, 4)}, {'id': 15, 'type': 'O', 'coords': (2, 1)}, {'id': 16, 'type': 'R', 'coords': (8, 1)}, {'id': 17, 'type': 'R', 'coords': (8, 2)}, {'id': 18, 'type': 'C', 'coords': (1, 3)}, {'id': 19, 'type': 'R', 'coords': (9, 4)}]\n",
      "converted_edges = [{'start': 0, 'end': 7, 'distance': 6.082762530298219, 'road_type': 'urban'}, {'start': 7, 'end': 0, 'distance': 6.082762530298219, 'road_type': 'urban'}, {'start': 1, 'end': 12, 'distance': 1.0, 'road_type': 'urban'}, {'start': 12, 'end': 1, 'distance': 1.0, 'road_type': 'urban'}, {'start': 2, 'end': 6, 'distance': 5.0, 'road_type': 'highway'}, {'start': 6, 'end': 2, 'distance': 5.0, 'road_type': 'highway'}, {'start': 2, 'end': 13, 'distance': 5.0, 'road_type': 'highway'}, {'start': 13, 'end': 2, 'distance': 5.0, 'road_type': 'highway'}, {'start': 2, 'end': 17, 'distance': 1.0, 'road_type': 'urban'}, {'start': 17, 'end': 2, 'distance': 1.0, 'road_type': 'urban'}, {'start': 3, 'end': 5, 'distance': 1.0, 'road_type': 'urban'}, {'start': 5, 'end': 3, 'distance': 1.0, 'road_type': 'urban'}, {'start': 4, 'end': 6, 'distance': 5.0, 'road_type': 'highway'}, {'start': 6, 'end': 4, 'distance': 5.0, 'road_type': 'highway'}, {'start': 4, 'end': 7, 'distance': 2.8284271247461903, 'road_type': 'urban'}, {'start': 7, 'end': 4, 'distance': 2.8284271247461903, 'road_type': 'urban'}, {'start': 4, 'end': 13, 'distance': 5.0, 'road_type': 'highway'}, {'start': 13, 'end': 4, 'distance': 5.0, 'road_type': 'highway'}, {'start': 5, 'end': 6, 'distance': 3.605551275463989, 'road_type': 'urban'}, {'start': 6, 'end': 5, 'distance': 3.605551275463989, 'road_type': 'urban'}, {'start': 5, 'end': 9, 'distance': 1.0, 'road_type': 'urban'}, {'start': 9, 'end': 5, 'distance': 1.0, 'road_type': 'urban'}, {'start': 5, 'end': 15, 'distance': 3.1622776601683795, 'road_type': 'urban'}, {'start': 15, 'end': 5, 'distance': 3.1622776601683795, 'road_type': 'urban'}, {'start': 5, 'end': 17, 'distance': 3.605551275463989, 'road_type': 'urban'}, {'start': 17, 'end': 5, 'distance': 3.605551275463989, 'road_type': 'urban'}, {'start': 6, 'end': 15, 'distance': 1.0, 'road_type': 'urban'}, {'start': 15, 'end': 6, 'distance': 1.0, 'road_type': 'urban'}, {'start': 6, 'end': 18, 'distance': 1.4142135623730951, 'road_type': 'urban'}, {'start': 18, 'end': 6, 'distance': 1.4142135623730951, 'road_type': 'urban'}, {'start': 7, 'end': 12, 'distance': 1.0, 'road_type': 'urban'}, {'start': 12, 'end': 7, 'distance': 1.0, 'road_type': 'urban'}, {'start': 8, 'end': 15, 'distance': 1.0, 'road_type': 'urban'}, {'start': 15, 'end': 8, 'distance': 1.0, 'road_type': 'urban'}, {'start': 10, 'end': 16, 'distance': 1.0, 'road_type': 'urban'}, {'start': 16, 'end': 10, 'distance': 1.0, 'road_type': 'urban'}, {'start': 10, 'end': 17, 'distance': 1.4142135623730951, 'road_type': 'urban'}, {'start': 17, 'end': 10, 'distance': 1.4142135623730951, 'road_type': 'urban'}, {'start': 11, 'end': 19, 'distance': 1.0, 'road_type': 'urban'}, {'start': 19, 'end': 11, 'distance': 1.0, 'road_type': 'urban'}, {'start': 13, 'end': 14, 'distance': 3.1622776601683795, 'road_type': 'urban'}, {'start': 14, 'end': 13, 'distance': 3.1622776601683795, 'road_type': 'urban'}, {'start': 14, 'end': 17, 'distance': 2.0, 'road_type': 'urban'}, {'start': 17, 'end': 14, 'distance': 2.0, 'road_type': 'urban'}, {'start': 14, 'end': 18, 'distance': 7.0710678118654755, 'road_type': 'urban'}, {'start': 18, 'end': 14, 'distance': 7.0710678118654755, 'road_type': 'urban'}, {'start': 14, 'end': 19, 'distance': 1.0, 'road_type': 'urban'}, {'start': 19, 'end': 14, 'distance': 1.0, 'road_type': 'urban'}, {'start': 15, 'end': 17, 'distance': 6.082762530298219, 'road_type': 'urban'}, {'start': 17, 'end': 15, 'distance': 6.082762530298219, 'road_type': 'urban'}]\n"
     ]
    }
   ],
   "source": [
    "\n",
    "# 예제 데이터\n",
    "dummy_nodes = [['H', (10, 10)], ['I', (5, 8)], ['S', (7, 2)], ['C', (6, 0)], \n",
    "               ['S', (2, 7)], ['C', (5, 0)], ['S', (2, 2)], ['I', (4, 9)], \n",
    "               ['O', (1, 1)], ['C', (5, 1)], ['R', (7, 1)], ['R', (9, 3)], \n",
    "               ['I', (4, 8)], ['S', (7, 7)], ['C', (8, 4)], ['O', (2, 1)], \n",
    "               ['R', (8, 1)], ['R', (8, 2)], ['C', (1, 3)], ['R', (9, 4)]]\n",
    "\n",
    "dummy_edges = [[17, 10], [16, 10], [19, 11], [7, 12], [1, 12], [5, 9], [5, 3], \n",
    "               [14, 18], [15, 8], [17, 5], [19, 14], [7, 0], [5, 15], [14, 17], \n",
    "               [15, 17], [2, 6], [2, 17], [4, 13], [4, 7], [6, 15], [6, 5], \n",
    "               [13, 14], [18, 6], [4, 6], [2, 13]]\n",
    "\n",
    "# 변환 실행\n",
    "converted_nodes, converted_edges = GraphPreprocessing(dummy_nodes, dummy_edges)\n",
    "\n",
    "# 출력 확인\n",
    "print(\"converted_nodes =\", converted_nodes)\n",
    "print(\"converted_edges =\", converted_edges)\n"
   ]
  },
  {
   "cell_type": "code",
   "execution_count": 17,
   "metadata": {},
   "outputs": [
    {
     "name": "stdout",
     "output_type": "stream",
     "text": [
      "20\n",
      "adj = \n",
      "[[0. 0. 0. 0. 0. 0. 0. 1. 0. 0. 0. 0. 0. 0. 0. 0. 0. 0. 0. 0.]\n",
      " [0. 0. 0. 0. 0. 0. 0. 0. 0. 0. 0. 0. 1. 0. 0. 0. 0. 0. 0. 0.]\n",
      " [0. 0. 0. 0. 0. 0. 1. 0. 0. 0. 0. 0. 0. 1. 0. 0. 0. 1. 0. 0.]\n",
      " [0. 0. 0. 0. 0. 1. 0. 0. 0. 0. 0. 0. 0. 0. 0. 0. 0. 0. 0. 0.]\n",
      " [0. 0. 0. 0. 0. 0. 1. 1. 0. 0. 0. 0. 0. 1. 0. 0. 0. 0. 0. 0.]\n",
      " [0. 0. 0. 1. 0. 0. 1. 0. 0. 1. 0. 0. 0. 0. 0. 1. 0. 1. 0. 0.]\n",
      " [0. 0. 1. 0. 1. 1. 0. 0. 0. 0. 0. 0. 0. 0. 0. 1. 0. 0. 1. 0.]\n",
      " [1. 0. 0. 0. 1. 0. 0. 0. 0. 0. 0. 0. 1. 0. 0. 0. 0. 0. 0. 0.]\n",
      " [0. 0. 0. 0. 0. 0. 0. 0. 0. 0. 0. 0. 0. 0. 0. 1. 0. 0. 0. 0.]\n",
      " [0. 0. 0. 0. 0. 1. 0. 0. 0. 0. 0. 0. 0. 0. 0. 0. 0. 0. 0. 0.]\n",
      " [0. 0. 0. 0. 0. 0. 0. 0. 0. 0. 0. 0. 0. 0. 0. 0. 1. 1. 0. 0.]\n",
      " [0. 0. 0. 0. 0. 0. 0. 0. 0. 0. 0. 0. 0. 0. 0. 0. 0. 0. 0. 1.]\n",
      " [0. 1. 0. 0. 0. 0. 0. 1. 0. 0. 0. 0. 0. 0. 0. 0. 0. 0. 0. 0.]\n",
      " [0. 0. 1. 0. 1. 0. 0. 0. 0. 0. 0. 0. 0. 0. 1. 0. 0. 0. 0. 0.]\n",
      " [0. 0. 0. 0. 0. 0. 0. 0. 0. 0. 0. 0. 0. 1. 0. 0. 0. 1. 1. 1.]\n",
      " [0. 0. 0. 0. 0. 1. 1. 0. 1. 0. 0. 0. 0. 0. 0. 0. 0. 1. 0. 0.]\n",
      " [0. 0. 0. 0. 0. 0. 0. 0. 0. 0. 1. 0. 0. 0. 0. 0. 0. 0. 0. 0.]\n",
      " [0. 0. 1. 0. 0. 1. 0. 0. 0. 0. 1. 0. 0. 0. 1. 1. 0. 0. 0. 0.]\n",
      " [0. 0. 0. 0. 0. 0. 1. 0. 0. 0. 0. 0. 0. 0. 1. 0. 0. 0. 0. 0.]\n",
      " [0. 0. 0. 0. 0. 0. 0. 0. 0. 0. 0. 1. 0. 0. 1. 0. 0. 0. 0. 0.]]\n"
     ]
    }
   ],
   "source": [
    "adj = make_adjacency_matrix(dummy_nodes, dummy_edges)\n",
    "print(f'adj = \\n{adj}')"
   ]
  }
 ],
 "metadata": {
  "kernelspec": {
   "display_name": "Python (d2l)",
   "language": "python",
   "name": "d2l"
  },
  "language_info": {
   "codemirror_mode": {
    "name": "ipython",
    "version": 3
   },
   "file_extension": ".py",
   "mimetype": "text/x-python",
   "name": "python",
   "nbconvert_exporter": "python",
   "pygments_lexer": "ipython3",
   "version": "3.9.19"
  }
 },
 "nbformat": 4,
 "nbformat_minor": 2
}
