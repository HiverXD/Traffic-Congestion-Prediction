{
 "cells": [
  {
   "cell_type": "markdown",
   "id": "574a1218",
   "metadata": {},
   "source": [
    "# STLinear vs. Hop‑Biased STLinear 비교 실험\n",
    "\n",
    "이 노트북에서는 다음을 수행합니다:\n",
    "1. 데이터 로드 및 전처리 (첨부된 `baseline_train_refactoring.ipynb` 참고)\n",
    "2. STLinear (기존 모델)과 STLinear_HopBiased (홉 기반 어텐션 바이어스 모델)를 정의\n",
    "3. 32가지 하이퍼파라미터 조합을 미리 생성\n",
    "4. 16개의 랜덤 시드를 고정한 상태로, 각 조합별로 두 모델을 동일한 데이터로 30 에폭 학습\n",
    "5. 각각의 학습 과정에서 다음 정보를 기록:\n",
    "   - 각 에폭의 검증 MAPE 기록 (history)\n",
    "   - MAPE=1과 MAPE=0.5를 달성한 첫 번째 에폭 (달성 못 하면 None)\n",
    "   - 30 에폭 동안 달성한 최소 MAPE, 최소 Loss\n",
    "6. 조합별로 두 모델의 검증 MAPE-에폭 그래프를 그려 비교\n",
    "7. 실험 종료 후, Hop‑Biased 모델이 얼마나 빠르게 MAPE를 낮췄는지, 최종적으로 얼마나 낮은 MAPE를 달성했는지 요약"
   ]
  },
  {
   "cell_type": "code",
   "execution_count": 1,
   "id": "bbdf4f5f",
   "metadata": {},
   "outputs": [
    {
     "name": "stderr",
     "output_type": "stream",
     "text": [
      "c:\\Users\\gauoo\\miniconda3\\envs\\d2l\\lib\\site-packages\\torch_geometric\\graphgym\\config.py:19: UserWarning: Could not define global config object. Please install 'yacs' via 'pip install yacs' in order to use GraphGym\n",
      "  warnings.warn(\"Could not define global config object. Please install \"\n",
      "c:\\Users\\gauoo\\miniconda3\\envs\\d2l\\lib\\site-packages\\torch_geometric\\graphgym\\imports.py:14: UserWarning: Please install 'pytorch_lightning' via  'pip install pytorch_lightning' in order to use GraphGym\n",
      "  warnings.warn(\"Please install 'pytorch_lightning' via  \"\n"
     ]
    }
   ],
   "source": [
    "# 기본\n",
    "import numpy as np\n",
    "import os\n",
    "import pandas as pd\n",
    "import matplotlib.pyplot as plt\n",
    "import time\n",
    "import random\n",
    "from collections import defaultdict\n",
    "\n",
    "# torch\n",
    "import torch\n",
    "import torch.nn as nn\n",
    "import torch.nn.functional as F\n",
    "from torch.optim import AdamW\n",
    "from torch.utils.data import DataLoader\n",
    "\n",
    "# 프로젝트\n",
    "from dataset.dataset_config import edge_index, edge_attr, week_steps\n",
    "from dataset.traffic_dataset import TrafficDataset\n",
    "from utils.Trainer import Trainer\n",
    "from utils.calculate_performance_index import calculate_performance_index\n",
    "from models.baselines import GCNMLP, DCRNN, STGCN, MLPBASED, STGAT\n",
    "from models.STGCN_with_auxiliary_network_model import STGCNWithAux\n",
    "from models.STLinear import STLinear\n",
    "from models.STLinear_deriven import STLinear_HopBiased"
   ]
  },
  {
   "cell_type": "code",
   "execution_count": 8,
   "id": "ba7352ee",
   "metadata": {},
   "outputs": [],
   "source": [
    "# reproducibility 확보\n",
    "def set_seed(seed):\n",
    "    random.seed(seed)\n",
    "    np.random.seed(seed)\n",
    "    torch.manual_seed(seed)\n",
    "    torch.cuda.manual_seed_all(seed)\n",
    "\n",
    "# 하이퍼파라미터 & 데이터셋 준비\n",
    "BATCH_SIZE = 128\n",
    "EPOCHS = 50\n",
    "WINDOW = 12                   # 입력 시퀀스 길이\n",
    "N_PRED = 3                    # 예측 시퀀스 길이\n",
    "DEVICE = 'cuda' if torch.cuda.is_available() else 'cpu'\n",
    "\n",
    "data = np.load('dataset/traffic_dataset_13_smoothen.npy')  # (T_total, E, C) (33600, 50, 3)\n",
    "# train/valid split (예: 시계열 뒤쪽 20%를 검증으로)\n",
    "\n",
    "split_idx = int(data.shape[0] * 0.8)\n",
    "train_data, valid_data = data[:split_idx], data[split_idx:]\n",
    "\n",
    "def collate_fn(batch):\n",
    "    xs = torch.stack([item.x for item in batch], dim=0)\n",
    "    ys = torch.stack([item.y for item in batch], dim=0)\n",
    "    return xs, ys\n",
    "\n",
    "train_ds = TrafficDataset(train_data, window=WINDOW, randomize=True)\n",
    "valid_ds = TrafficDataset(valid_data, window=WINDOW, randomize=False)\n",
    "train_loader = DataLoader(train_ds, batch_size=BATCH_SIZE, shuffle=False, collate_fn=collate_fn)\n",
    "valid_loader = DataLoader(valid_ds, batch_size=BATCH_SIZE, shuffle=False, collate_fn=collate_fn)"
   ]
  },
  {
   "cell_type": "code",
   "execution_count": 9,
   "id": "5642fc8e",
   "metadata": {},
   "outputs": [],
   "source": [
    "# 모델 생성 함수 (하이퍼파라미터를 인자로 받아 초기화)\n",
    "def make_models(params, distance_hop_tensor):\n",
    "    \"\"\"\n",
    "    params: dict, 하이퍼파라미터 조합 예시\n",
    "    distance_hop_tensor: torch.LongTensor, shape (E, E)\n",
    "    반환: (model_base, model_hopbias)\n",
    "    \"\"\"\n",
    "    common_args = {\n",
    "        'num_nodes': params['num_nodes'],\n",
    "        'kernel_size': params['kernel_size'],\n",
    "        'in_steps': params['in_steps'],\n",
    "        'out_steps': params['out_steps'],\n",
    "        'input_embedding_dim': params['input_embedding_dim'],\n",
    "        'tod_embedding_dim': params['tod_embedding_dim'],\n",
    "        'dow_embedding_dim': params['dow_embedding_dim'],\n",
    "        'spatial_embedding_dim': params['spatial_embedding_dim'],\n",
    "        'adaptive_embedding_dim': params['adaptive_embedding_dim'],\n",
    "        'feed_forward_dim': params['feed_forward_dim'],\n",
    "        'num_heads': params['num_heads'],  # base 모델도 num_heads 인자는 있지만, 실제로 사용하지 않을 수 있음\n",
    "        'num_layers': params['num_layers'],\n",
    "        'dropout': params['dropout'],\n",
    "        'use_mixed_proj': True,\n",
    "    }\n",
    "    # Base STLinear 모델\n",
    "    model_base = STLinear(**common_args).to(DEVICE)\n",
    "    # Hop‑Biased 모델\n",
    "    common_args_hop = common_args.copy()\n",
    "    common_args_hop['num_heads'] = params['num_heads']  # d_model % num_heads == 0인지 확인 필요\n",
    "    # distance_hop_tensor은 미리 준비된 (E,E) LongTensor\n",
    "    model_hop = STLinear_HopBiased(\n",
    "        **common_args_hop\n",
    "    ).to(DEVICE)\n",
    "    return model_base, model_hop\n"
   ]
  },
  {
   "cell_type": "code",
   "execution_count": 10,
   "id": "a5f3d537",
   "metadata": {},
   "outputs": [
    {
     "name": "stdout",
     "output_type": "stream",
     "text": [
      "총 조합 수: 2048, 선택된 실험 조합 수: 32\n"
     ]
    }
   ],
   "source": [
    "# 3. 하이퍼파라미터 조합 생성 (32가지)\n",
    "from itertools import product\n",
    "\n",
    "# 후보 값 정의\n",
    "param_space = {\n",
    "    'num_nodes': [50],\n",
    "    'in_steps': [12],\n",
    "    'out_steps': [3],\n",
    "    'kernel_size': [11, 13, 15, 17],\n",
    "    'input_embedding_dim': [32, 64],\n",
    "    'tod_embedding_dim': [32, 64],\n",
    "    'dow_embedding_dim': [32, 64],\n",
    "    'spatial_embedding_dim': [0, 32],\n",
    "    'adaptive_embedding_dim': [0, 32],\n",
    "    'feed_forward_dim': [64, 128],\n",
    "    'num_heads': [4, 8],           # d_model = input_emb+tod+dow+... = e.g.32+32+32 =96 → 96 % heads ==0? 확인 필요\n",
    "    'num_layers': [1, 2],\n",
    "    'dropout': [0.1, 0.2],\n",
    "}\n",
    "\n",
    "# 가능한 모든 조합\n",
    "all_combinations = list(product(*param_space.values()))\n",
    "\n",
    "# 딕셔너리 목록으로 변환\n",
    "keys = list(param_space.keys())\n",
    "param_dicts = [dict(zip(keys, comb)) for comb in all_combinations]\n",
    "\n",
    "# 32개만 랜덤으로 추출 (혹은 앞 32개)\n",
    "random.seed(42)\n",
    "selected_params = random.sample(param_dicts, 32)\n",
    "\n",
    "print(f\"총 조합 수: {len(all_combinations)}, 선택된 실험 조합 수: {len(selected_params)}\")"
   ]
  },
  {
   "cell_type": "code",
   "execution_count": 12,
   "id": "fa36e477",
   "metadata": {},
   "outputs": [
    {
     "name": "stdout",
     "output_type": "stream",
     "text": [
      "Seed=0, 조합 인덱스=0\n"
     ]
    },
    {
     "data": {
      "application/vnd.jupyter.widget-view+json": {
       "model_id": "684ed24f870e4f64b0c7618c7b953cdc",
       "version_major": 2,
       "version_minor": 0
      },
      "text/plain": [
       "Epoch:   0%|          | 0/30 [00:00<?, ?it/s]"
      ]
     },
     "metadata": {},
     "output_type": "display_data"
    },
    {
     "data": {
      "application/vnd.jupyter.widget-view+json": {
       "model_id": "4ebc935c97834da7abcb4b33c91bd946",
       "version_major": 2,
       "version_minor": 0
      },
      "text/plain": [
       "Train 1/30:   0%|          | 0/27 [00:00<?, ?it/s]"
      ]
     },
     "metadata": {},
     "output_type": "display_data"
    },
    {
     "data": {
      "application/vnd.jupyter.widget-view+json": {
       "model_id": "4980183d4311403281b7d68798a6da0d",
       "version_major": 2,
       "version_minor": 0
      },
      "text/plain": [
       "Valid 1/30:   0%|          | 0/27 [00:00<?, ?it/s]"
      ]
     },
     "metadata": {},
     "output_type": "display_data"
    },
    {
     "data": {
      "application/vnd.jupyter.widget-view+json": {
       "model_id": "e7c304ea84c549cdb481eaa8be0d77e8",
       "version_major": 2,
       "version_minor": 0
      },
      "text/plain": [
       "Train 2/30:   0%|          | 0/27 [00:00<?, ?it/s]"
      ]
     },
     "metadata": {},
     "output_type": "display_data"
    },
    {
     "data": {
      "application/vnd.jupyter.widget-view+json": {
       "model_id": "372e22e4025444b7990c45f704f89380",
       "version_major": 2,
       "version_minor": 0
      },
      "text/plain": [
       "Valid 2/30:   0%|          | 0/27 [00:00<?, ?it/s]"
      ]
     },
     "metadata": {},
     "output_type": "display_data"
    },
    {
     "data": {
      "application/vnd.jupyter.widget-view+json": {
       "model_id": "68f98e30f5f34b5db8ad77352e2ebee6",
       "version_major": 2,
       "version_minor": 0
      },
      "text/plain": [
       "Train 3/30:   0%|          | 0/27 [00:00<?, ?it/s]"
      ]
     },
     "metadata": {},
     "output_type": "display_data"
    },
    {
     "data": {
      "application/vnd.jupyter.widget-view+json": {
       "model_id": "524f956f23ae41a59de0cfe0d7337de7",
       "version_major": 2,
       "version_minor": 0
      },
      "text/plain": [
       "Valid 3/30:   0%|          | 0/27 [00:00<?, ?it/s]"
      ]
     },
     "metadata": {},
     "output_type": "display_data"
    },
    {
     "data": {
      "application/vnd.jupyter.widget-view+json": {
       "model_id": "cc793a04635b450fb4a79ca8563e4835",
       "version_major": 2,
       "version_minor": 0
      },
      "text/plain": [
       "Train 4/30:   0%|          | 0/27 [00:00<?, ?it/s]"
      ]
     },
     "metadata": {},
     "output_type": "display_data"
    },
    {
     "data": {
      "application/vnd.jupyter.widget-view+json": {
       "model_id": "a94d31c24b154509aefc960a8a893df8",
       "version_major": 2,
       "version_minor": 0
      },
      "text/plain": [
       "Valid 4/30:   0%|          | 0/27 [00:00<?, ?it/s]"
      ]
     },
     "metadata": {},
     "output_type": "display_data"
    },
    {
     "data": {
      "application/vnd.jupyter.widget-view+json": {
       "model_id": "14d1dc010705409699850a4df8b21e22",
       "version_major": 2,
       "version_minor": 0
      },
      "text/plain": [
       "Train 5/30:   0%|          | 0/27 [00:00<?, ?it/s]"
      ]
     },
     "metadata": {},
     "output_type": "display_data"
    },
    {
     "data": {
      "application/vnd.jupyter.widget-view+json": {
       "model_id": "db28aade09ad43b1a17b6be33fca7183",
       "version_major": 2,
       "version_minor": 0
      },
      "text/plain": [
       "Valid 5/30:   0%|          | 0/27 [00:00<?, ?it/s]"
      ]
     },
     "metadata": {},
     "output_type": "display_data"
    },
    {
     "name": "stdout",
     "output_type": "stream",
     "text": [
      "[Epoch 5] Train Loss=1.3651, Valid Loss=1.2830, Train MAPE=1.4578, Valid MAPE=1.0390\n"
     ]
    },
    {
     "data": {
      "application/vnd.jupyter.widget-view+json": {
       "model_id": "df71643cb4d14a9ba7c32b4d5ea5cfd0",
       "version_major": 2,
       "version_minor": 0
      },
      "text/plain": [
       "Train 6/30:   0%|          | 0/27 [00:00<?, ?it/s]"
      ]
     },
     "metadata": {},
     "output_type": "display_data"
    },
    {
     "data": {
      "application/vnd.jupyter.widget-view+json": {
       "model_id": "bb5ed6ec04d84dec940b1c1184d66723",
       "version_major": 2,
       "version_minor": 0
      },
      "text/plain": [
       "Valid 6/30:   0%|          | 0/27 [00:00<?, ?it/s]"
      ]
     },
     "metadata": {},
     "output_type": "display_data"
    },
    {
     "data": {
      "application/vnd.jupyter.widget-view+json": {
       "model_id": "6cef66495ef84f00900c741889661f14",
       "version_major": 2,
       "version_minor": 0
      },
      "text/plain": [
       "Train 7/30:   0%|          | 0/27 [00:00<?, ?it/s]"
      ]
     },
     "metadata": {},
     "output_type": "display_data"
    },
    {
     "data": {
      "application/vnd.jupyter.widget-view+json": {
       "model_id": "03a042ffca3d4b2fb1d4e14aa0df763e",
       "version_major": 2,
       "version_minor": 0
      },
      "text/plain": [
       "Valid 7/30:   0%|          | 0/27 [00:00<?, ?it/s]"
      ]
     },
     "metadata": {},
     "output_type": "display_data"
    },
    {
     "data": {
      "application/vnd.jupyter.widget-view+json": {
       "model_id": "4ac2dae0083843bea9f0998b0a7f1f9d",
       "version_major": 2,
       "version_minor": 0
      },
      "text/plain": [
       "Train 8/30:   0%|          | 0/27 [00:00<?, ?it/s]"
      ]
     },
     "metadata": {},
     "output_type": "display_data"
    },
    {
     "data": {
      "application/vnd.jupyter.widget-view+json": {
       "model_id": "78f110e6fcf94dd4af23f80f5c2cfdd4",
       "version_major": 2,
       "version_minor": 0
      },
      "text/plain": [
       "Valid 8/30:   0%|          | 0/27 [00:00<?, ?it/s]"
      ]
     },
     "metadata": {},
     "output_type": "display_data"
    },
    {
     "data": {
      "application/vnd.jupyter.widget-view+json": {
       "model_id": "9ba34bad34494f0aa11698dae308e13d",
       "version_major": 2,
       "version_minor": 0
      },
      "text/plain": [
       "Train 9/30:   0%|          | 0/27 [00:00<?, ?it/s]"
      ]
     },
     "metadata": {},
     "output_type": "display_data"
    },
    {
     "data": {
      "application/vnd.jupyter.widget-view+json": {
       "model_id": "a321e97c33a34967a54838ed920b1dd1",
       "version_major": 2,
       "version_minor": 0
      },
      "text/plain": [
       "Valid 9/30:   0%|          | 0/27 [00:00<?, ?it/s]"
      ]
     },
     "metadata": {},
     "output_type": "display_data"
    },
    {
     "data": {
      "application/vnd.jupyter.widget-view+json": {
       "model_id": "378035a79a65481db7d5ad6ebf66b060",
       "version_major": 2,
       "version_minor": 0
      },
      "text/plain": [
       "Train 10/30:   0%|          | 0/27 [00:00<?, ?it/s]"
      ]
     },
     "metadata": {},
     "output_type": "display_data"
    },
    {
     "data": {
      "application/vnd.jupyter.widget-view+json": {
       "model_id": "e05387470a344138a914fa7fb03c61fe",
       "version_major": 2,
       "version_minor": 0
      },
      "text/plain": [
       "Valid 10/30:   0%|          | 0/27 [00:00<?, ?it/s]"
      ]
     },
     "metadata": {},
     "output_type": "display_data"
    },
    {
     "name": "stdout",
     "output_type": "stream",
     "text": [
      "[Epoch 10] Train Loss=1.0279, Valid Loss=1.0238, Train MAPE=1.2262, Valid MAPE=0.7384\n"
     ]
    },
    {
     "data": {
      "application/vnd.jupyter.widget-view+json": {
       "model_id": "3f4d174a7898427689757e5916403f74",
       "version_major": 2,
       "version_minor": 0
      },
      "text/plain": [
       "Train 11/30:   0%|          | 0/27 [00:00<?, ?it/s]"
      ]
     },
     "metadata": {},
     "output_type": "display_data"
    },
    {
     "data": {
      "application/vnd.jupyter.widget-view+json": {
       "model_id": "a98117aec0404d53a584a5c7e80343da",
       "version_major": 2,
       "version_minor": 0
      },
      "text/plain": [
       "Valid 11/30:   0%|          | 0/27 [00:00<?, ?it/s]"
      ]
     },
     "metadata": {},
     "output_type": "display_data"
    },
    {
     "data": {
      "application/vnd.jupyter.widget-view+json": {
       "model_id": "4a4a24acf468402d9cad9f01ef81d5cc",
       "version_major": 2,
       "version_minor": 0
      },
      "text/plain": [
       "Train 12/30:   0%|          | 0/27 [00:00<?, ?it/s]"
      ]
     },
     "metadata": {},
     "output_type": "display_data"
    },
    {
     "data": {
      "application/vnd.jupyter.widget-view+json": {
       "model_id": "02d81eebb5554d6cacbc69410015d8ba",
       "version_major": 2,
       "version_minor": 0
      },
      "text/plain": [
       "Valid 12/30:   0%|          | 0/27 [00:00<?, ?it/s]"
      ]
     },
     "metadata": {},
     "output_type": "display_data"
    },
    {
     "data": {
      "application/vnd.jupyter.widget-view+json": {
       "model_id": "97c4c85c5e2246b7a8f1dbaf0d8e10aa",
       "version_major": 2,
       "version_minor": 0
      },
      "text/plain": [
       "Train 13/30:   0%|          | 0/27 [00:00<?, ?it/s]"
      ]
     },
     "metadata": {},
     "output_type": "display_data"
    },
    {
     "data": {
      "application/vnd.jupyter.widget-view+json": {
       "model_id": "2088506219b349f09276b0555edff7a6",
       "version_major": 2,
       "version_minor": 0
      },
      "text/plain": [
       "Valid 13/30:   0%|          | 0/27 [00:00<?, ?it/s]"
      ]
     },
     "metadata": {},
     "output_type": "display_data"
    },
    {
     "data": {
      "application/vnd.jupyter.widget-view+json": {
       "model_id": "f7887b492d0749b49c86cf595125e21e",
       "version_major": 2,
       "version_minor": 0
      },
      "text/plain": [
       "Train 14/30:   0%|          | 0/27 [00:00<?, ?it/s]"
      ]
     },
     "metadata": {},
     "output_type": "display_data"
    },
    {
     "data": {
      "application/vnd.jupyter.widget-view+json": {
       "model_id": "e2c0cbe615ca42bc8312585d31b79a13",
       "version_major": 2,
       "version_minor": 0
      },
      "text/plain": [
       "Valid 14/30:   0%|          | 0/27 [00:00<?, ?it/s]"
      ]
     },
     "metadata": {},
     "output_type": "display_data"
    },
    {
     "data": {
      "application/vnd.jupyter.widget-view+json": {
       "model_id": "3a1b137b231b4cba863f293c08de84ad",
       "version_major": 2,
       "version_minor": 0
      },
      "text/plain": [
       "Train 15/30:   0%|          | 0/27 [00:00<?, ?it/s]"
      ]
     },
     "metadata": {},
     "output_type": "display_data"
    },
    {
     "data": {
      "application/vnd.jupyter.widget-view+json": {
       "model_id": "1ebfc58cb88445d98a048ff327bd8c4f",
       "version_major": 2,
       "version_minor": 0
      },
      "text/plain": [
       "Valid 15/30:   0%|          | 0/27 [00:00<?, ?it/s]"
      ]
     },
     "metadata": {},
     "output_type": "display_data"
    },
    {
     "name": "stdout",
     "output_type": "stream",
     "text": [
      "[Epoch 15] Train Loss=0.9568, Valid Loss=0.9436, Train MAPE=1.1022, Valid MAPE=0.6900\n"
     ]
    },
    {
     "data": {
      "application/vnd.jupyter.widget-view+json": {
       "model_id": "9d202ba1bbfd441a8fd860d7867067f4",
       "version_major": 2,
       "version_minor": 0
      },
      "text/plain": [
       "Train 16/30:   0%|          | 0/27 [00:00<?, ?it/s]"
      ]
     },
     "metadata": {},
     "output_type": "display_data"
    },
    {
     "data": {
      "application/vnd.jupyter.widget-view+json": {
       "model_id": "9aea9bd835ab4f46bcb956c903393461",
       "version_major": 2,
       "version_minor": 0
      },
      "text/plain": [
       "Valid 16/30:   0%|          | 0/27 [00:00<?, ?it/s]"
      ]
     },
     "metadata": {},
     "output_type": "display_data"
    },
    {
     "data": {
      "application/vnd.jupyter.widget-view+json": {
       "model_id": "b8eb934fc9c84cd3940d761b9a06ce46",
       "version_major": 2,
       "version_minor": 0
      },
      "text/plain": [
       "Train 17/30:   0%|          | 0/27 [00:00<?, ?it/s]"
      ]
     },
     "metadata": {},
     "output_type": "display_data"
    },
    {
     "data": {
      "application/vnd.jupyter.widget-view+json": {
       "model_id": "75808a30187b4a53b9894d1467767212",
       "version_major": 2,
       "version_minor": 0
      },
      "text/plain": [
       "Valid 17/30:   0%|          | 0/27 [00:00<?, ?it/s]"
      ]
     },
     "metadata": {},
     "output_type": "display_data"
    },
    {
     "data": {
      "application/vnd.jupyter.widget-view+json": {
       "model_id": "bd0aa605bf0f49ec87deead9aa761bdb",
       "version_major": 2,
       "version_minor": 0
      },
      "text/plain": [
       "Train 18/30:   0%|          | 0/27 [00:00<?, ?it/s]"
      ]
     },
     "metadata": {},
     "output_type": "display_data"
    },
    {
     "data": {
      "application/vnd.jupyter.widget-view+json": {
       "model_id": "d08de06bc6854c528f662f940376d720",
       "version_major": 2,
       "version_minor": 0
      },
      "text/plain": [
       "Valid 18/30:   0%|          | 0/27 [00:00<?, ?it/s]"
      ]
     },
     "metadata": {},
     "output_type": "display_data"
    },
    {
     "data": {
      "application/vnd.jupyter.widget-view+json": {
       "model_id": "44208d4ed66b4c0289a2d68c885c0970",
       "version_major": 2,
       "version_minor": 0
      },
      "text/plain": [
       "Train 19/30:   0%|          | 0/27 [00:00<?, ?it/s]"
      ]
     },
     "metadata": {},
     "output_type": "display_data"
    },
    {
     "data": {
      "application/vnd.jupyter.widget-view+json": {
       "model_id": "57137e2d4eab458bada10a1985adb4f0",
       "version_major": 2,
       "version_minor": 0
      },
      "text/plain": [
       "Valid 19/30:   0%|          | 0/27 [00:00<?, ?it/s]"
      ]
     },
     "metadata": {},
     "output_type": "display_data"
    },
    {
     "data": {
      "application/vnd.jupyter.widget-view+json": {
       "model_id": "2fa7b38bd3da4cfea9a35586c5bc0d00",
       "version_major": 2,
       "version_minor": 0
      },
      "text/plain": [
       "Train 20/30:   0%|          | 0/27 [00:00<?, ?it/s]"
      ]
     },
     "metadata": {},
     "output_type": "display_data"
    },
    {
     "data": {
      "application/vnd.jupyter.widget-view+json": {
       "model_id": "c87abcef95f04c9782dcad8472f4b2c9",
       "version_major": 2,
       "version_minor": 0
      },
      "text/plain": [
       "Valid 20/30:   0%|          | 0/27 [00:00<?, ?it/s]"
      ]
     },
     "metadata": {},
     "output_type": "display_data"
    },
    {
     "name": "stdout",
     "output_type": "stream",
     "text": [
      "[Epoch 20] Train Loss=0.9152, Valid Loss=0.8902, Train MAPE=1.0026, Valid MAPE=0.5931\n"
     ]
    },
    {
     "data": {
      "application/vnd.jupyter.widget-view+json": {
       "model_id": "b9d2998875d549b9aa4ccee6d3c88023",
       "version_major": 2,
       "version_minor": 0
      },
      "text/plain": [
       "Train 21/30:   0%|          | 0/27 [00:00<?, ?it/s]"
      ]
     },
     "metadata": {},
     "output_type": "display_data"
    },
    {
     "data": {
      "application/vnd.jupyter.widget-view+json": {
       "model_id": "894b0c46f0744986adc187903101a6f4",
       "version_major": 2,
       "version_minor": 0
      },
      "text/plain": [
       "Valid 21/30:   0%|          | 0/27 [00:00<?, ?it/s]"
      ]
     },
     "metadata": {},
     "output_type": "display_data"
    },
    {
     "data": {
      "application/vnd.jupyter.widget-view+json": {
       "model_id": "8eccf305ce054895b924f346612966c1",
       "version_major": 2,
       "version_minor": 0
      },
      "text/plain": [
       "Train 22/30:   0%|          | 0/27 [00:00<?, ?it/s]"
      ]
     },
     "metadata": {},
     "output_type": "display_data"
    },
    {
     "data": {
      "application/vnd.jupyter.widget-view+json": {
       "model_id": "4c154dc2eb7f4ffe850f483e34973cb2",
       "version_major": 2,
       "version_minor": 0
      },
      "text/plain": [
       "Valid 22/30:   0%|          | 0/27 [00:00<?, ?it/s]"
      ]
     },
     "metadata": {},
     "output_type": "display_data"
    },
    {
     "data": {
      "application/vnd.jupyter.widget-view+json": {
       "model_id": "ec405d07d1024988a6b02395ce9be501",
       "version_major": 2,
       "version_minor": 0
      },
      "text/plain": [
       "Train 23/30:   0%|          | 0/27 [00:00<?, ?it/s]"
      ]
     },
     "metadata": {},
     "output_type": "display_data"
    },
    {
     "data": {
      "application/vnd.jupyter.widget-view+json": {
       "model_id": "b56c4941cdc14afc8deb6fc1c673ef9b",
       "version_major": 2,
       "version_minor": 0
      },
      "text/plain": [
       "Valid 23/30:   0%|          | 0/27 [00:00<?, ?it/s]"
      ]
     },
     "metadata": {},
     "output_type": "display_data"
    },
    {
     "data": {
      "application/vnd.jupyter.widget-view+json": {
       "model_id": "86907f772ed74505b080be1982faa114",
       "version_major": 2,
       "version_minor": 0
      },
      "text/plain": [
       "Train 24/30:   0%|          | 0/27 [00:00<?, ?it/s]"
      ]
     },
     "metadata": {},
     "output_type": "display_data"
    },
    {
     "data": {
      "application/vnd.jupyter.widget-view+json": {
       "model_id": "15a3931a59c449a290b0ff63fcb1ce9f",
       "version_major": 2,
       "version_minor": 0
      },
      "text/plain": [
       "Valid 24/30:   0%|          | 0/27 [00:00<?, ?it/s]"
      ]
     },
     "metadata": {},
     "output_type": "display_data"
    },
    {
     "data": {
      "application/vnd.jupyter.widget-view+json": {
       "model_id": "85772f1d94dd4e51b8c7fe5618cfd2d9",
       "version_major": 2,
       "version_minor": 0
      },
      "text/plain": [
       "Train 25/30:   0%|          | 0/27 [00:00<?, ?it/s]"
      ]
     },
     "metadata": {},
     "output_type": "display_data"
    },
    {
     "data": {
      "application/vnd.jupyter.widget-view+json": {
       "model_id": "a88d5c45958f459787efc28fd0c02a57",
       "version_major": 2,
       "version_minor": 0
      },
      "text/plain": [
       "Valid 25/30:   0%|          | 0/27 [00:00<?, ?it/s]"
      ]
     },
     "metadata": {},
     "output_type": "display_data"
    },
    {
     "name": "stdout",
     "output_type": "stream",
     "text": [
      "[Epoch 25] Train Loss=0.8869, Valid Loss=0.8570, Train MAPE=0.9006, Valid MAPE=0.5219\n"
     ]
    },
    {
     "data": {
      "application/vnd.jupyter.widget-view+json": {
       "model_id": "3e92264a9b234e5c850269709a90844a",
       "version_major": 2,
       "version_minor": 0
      },
      "text/plain": [
       "Train 26/30:   0%|          | 0/27 [00:00<?, ?it/s]"
      ]
     },
     "metadata": {},
     "output_type": "display_data"
    },
    {
     "data": {
      "application/vnd.jupyter.widget-view+json": {
       "model_id": "1638ff7ccbe64ad8983f2c5a099b3733",
       "version_major": 2,
       "version_minor": 0
      },
      "text/plain": [
       "Valid 26/30:   0%|          | 0/27 [00:00<?, ?it/s]"
      ]
     },
     "metadata": {},
     "output_type": "display_data"
    },
    {
     "data": {
      "application/vnd.jupyter.widget-view+json": {
       "model_id": "4df4b30fa2a84d798e918d11f036d1e5",
       "version_major": 2,
       "version_minor": 0
      },
      "text/plain": [
       "Train 27/30:   0%|          | 0/27 [00:00<?, ?it/s]"
      ]
     },
     "metadata": {},
     "output_type": "display_data"
    },
    {
     "data": {
      "application/vnd.jupyter.widget-view+json": {
       "model_id": "4830de9822b24a9389bba7ad6fa0293f",
       "version_major": 2,
       "version_minor": 0
      },
      "text/plain": [
       "Valid 27/30:   0%|          | 0/27 [00:00<?, ?it/s]"
      ]
     },
     "metadata": {},
     "output_type": "display_data"
    },
    {
     "data": {
      "application/vnd.jupyter.widget-view+json": {
       "model_id": "ca21181bade148239a092e5aac62be13",
       "version_major": 2,
       "version_minor": 0
      },
      "text/plain": [
       "Train 28/30:   0%|          | 0/27 [00:00<?, ?it/s]"
      ]
     },
     "metadata": {},
     "output_type": "display_data"
    },
    {
     "data": {
      "application/vnd.jupyter.widget-view+json": {
       "model_id": "40eb34311bd04ac386987b43e874fbb6",
       "version_major": 2,
       "version_minor": 0
      },
      "text/plain": [
       "Valid 28/30:   0%|          | 0/27 [00:00<?, ?it/s]"
      ]
     },
     "metadata": {},
     "output_type": "display_data"
    },
    {
     "data": {
      "application/vnd.jupyter.widget-view+json": {
       "model_id": "87620bc6cf464ecf93021e0c8f01e03c",
       "version_major": 2,
       "version_minor": 0
      },
      "text/plain": [
       "Train 29/30:   0%|          | 0/27 [00:00<?, ?it/s]"
      ]
     },
     "metadata": {},
     "output_type": "display_data"
    },
    {
     "data": {
      "application/vnd.jupyter.widget-view+json": {
       "model_id": "7add8d62a80d4bd4b056e9002edcdd85",
       "version_major": 2,
       "version_minor": 0
      },
      "text/plain": [
       "Valid 29/30:   0%|          | 0/27 [00:00<?, ?it/s]"
      ]
     },
     "metadata": {},
     "output_type": "display_data"
    },
    {
     "data": {
      "application/vnd.jupyter.widget-view+json": {
       "model_id": "0fd3a75182134e9bb32f4eb1bba61d9e",
       "version_major": 2,
       "version_minor": 0
      },
      "text/plain": [
       "Train 30/30:   0%|          | 0/27 [00:00<?, ?it/s]"
      ]
     },
     "metadata": {},
     "output_type": "display_data"
    },
    {
     "data": {
      "application/vnd.jupyter.widget-view+json": {
       "model_id": "cf58ecc486304fbf864c83cb829fd14a",
       "version_major": 2,
       "version_minor": 0
      },
      "text/plain": [
       "Valid 30/30:   0%|          | 0/27 [00:00<?, ?it/s]"
      ]
     },
     "metadata": {},
     "output_type": "display_data"
    },
    {
     "name": "stdout",
     "output_type": "stream",
     "text": [
      "[Epoch 30] Train Loss=0.8644, Valid Loss=0.8369, Train MAPE=0.8282, Valid MAPE=0.5586\n"
     ]
    },
    {
     "data": {
      "application/vnd.jupyter.widget-view+json": {
       "model_id": "5a160be5d8e8402a981c566f762af3f2",
       "version_major": 2,
       "version_minor": 0
      },
      "text/plain": [
       "Epoch:   0%|          | 0/30 [00:00<?, ?it/s]"
      ]
     },
     "metadata": {},
     "output_type": "display_data"
    },
    {
     "data": {
      "application/vnd.jupyter.widget-view+json": {
       "model_id": "890f9bdd7bef43b0940a7a50b306df2f",
       "version_major": 2,
       "version_minor": 0
      },
      "text/plain": [
       "Train 1/30:   0%|          | 0/27 [00:00<?, ?it/s]"
      ]
     },
     "metadata": {},
     "output_type": "display_data"
    },
    {
     "data": {
      "application/vnd.jupyter.widget-view+json": {
       "model_id": "e80fd909e0da4e5cad0879109b91155b",
       "version_major": 2,
       "version_minor": 0
      },
      "text/plain": [
       "Valid 1/30:   0%|          | 0/27 [00:00<?, ?it/s]"
      ]
     },
     "metadata": {},
     "output_type": "display_data"
    },
    {
     "data": {
      "application/vnd.jupyter.widget-view+json": {
       "model_id": "b8d71d4cb7d9442c89a2160d52793fa3",
       "version_major": 2,
       "version_minor": 0
      },
      "text/plain": [
       "Train 2/30:   0%|          | 0/27 [00:00<?, ?it/s]"
      ]
     },
     "metadata": {},
     "output_type": "display_data"
    },
    {
     "data": {
      "application/vnd.jupyter.widget-view+json": {
       "model_id": "16be1d61f9a3438682934a3e6780b8a1",
       "version_major": 2,
       "version_minor": 0
      },
      "text/plain": [
       "Valid 2/30:   0%|          | 0/27 [00:00<?, ?it/s]"
      ]
     },
     "metadata": {},
     "output_type": "display_data"
    },
    {
     "data": {
      "application/vnd.jupyter.widget-view+json": {
       "model_id": "a9d8987591f74f1ba6760e50d4d5a236",
       "version_major": 2,
       "version_minor": 0
      },
      "text/plain": [
       "Train 3/30:   0%|          | 0/27 [00:00<?, ?it/s]"
      ]
     },
     "metadata": {},
     "output_type": "display_data"
    },
    {
     "data": {
      "application/vnd.jupyter.widget-view+json": {
       "model_id": "7bba33722eb24144b3dea52d7ffa259c",
       "version_major": 2,
       "version_minor": 0
      },
      "text/plain": [
       "Valid 3/30:   0%|          | 0/27 [00:00<?, ?it/s]"
      ]
     },
     "metadata": {},
     "output_type": "display_data"
    },
    {
     "data": {
      "application/vnd.jupyter.widget-view+json": {
       "model_id": "f7d7818bb42e4f3d9fad0a2f8f091617",
       "version_major": 2,
       "version_minor": 0
      },
      "text/plain": [
       "Train 4/30:   0%|          | 0/27 [00:00<?, ?it/s]"
      ]
     },
     "metadata": {},
     "output_type": "display_data"
    },
    {
     "data": {
      "application/vnd.jupyter.widget-view+json": {
       "model_id": "2730351cdc6b4e86aea30ac0bd13575b",
       "version_major": 2,
       "version_minor": 0
      },
      "text/plain": [
       "Valid 4/30:   0%|          | 0/27 [00:00<?, ?it/s]"
      ]
     },
     "metadata": {},
     "output_type": "display_data"
    },
    {
     "data": {
      "application/vnd.jupyter.widget-view+json": {
       "model_id": "ef61b6f9205c42829ba93b147865a2aa",
       "version_major": 2,
       "version_minor": 0
      },
      "text/plain": [
       "Train 5/30:   0%|          | 0/27 [00:00<?, ?it/s]"
      ]
     },
     "metadata": {},
     "output_type": "display_data"
    },
    {
     "data": {
      "application/vnd.jupyter.widget-view+json": {
       "model_id": "eb72be069aa14267b6e4b923f217467d",
       "version_major": 2,
       "version_minor": 0
      },
      "text/plain": [
       "Valid 5/30:   0%|          | 0/27 [00:00<?, ?it/s]"
      ]
     },
     "metadata": {},
     "output_type": "display_data"
    },
    {
     "name": "stdout",
     "output_type": "stream",
     "text": [
      "[Epoch 5] Train Loss=1.3950, Valid Loss=1.3276, Train MAPE=1.4696, Valid MAPE=1.0631\n"
     ]
    },
    {
     "data": {
      "application/vnd.jupyter.widget-view+json": {
       "model_id": "c76a744b893b43dd86d9064093036e62",
       "version_major": 2,
       "version_minor": 0
      },
      "text/plain": [
       "Train 6/30:   0%|          | 0/27 [00:00<?, ?it/s]"
      ]
     },
     "metadata": {},
     "output_type": "display_data"
    },
    {
     "data": {
      "application/vnd.jupyter.widget-view+json": {
       "model_id": "88f7e63bb9114e389c1a51b59a96a240",
       "version_major": 2,
       "version_minor": 0
      },
      "text/plain": [
       "Valid 6/30:   0%|          | 0/27 [00:00<?, ?it/s]"
      ]
     },
     "metadata": {},
     "output_type": "display_data"
    },
    {
     "data": {
      "application/vnd.jupyter.widget-view+json": {
       "model_id": "e929acaa687f49ab9f0b71166a034fc1",
       "version_major": 2,
       "version_minor": 0
      },
      "text/plain": [
       "Train 7/30:   0%|          | 0/27 [00:00<?, ?it/s]"
      ]
     },
     "metadata": {},
     "output_type": "display_data"
    },
    {
     "data": {
      "application/vnd.jupyter.widget-view+json": {
       "model_id": "a23c33e47eab44c3bf7b730fa8f52db8",
       "version_major": 2,
       "version_minor": 0
      },
      "text/plain": [
       "Valid 7/30:   0%|          | 0/27 [00:00<?, ?it/s]"
      ]
     },
     "metadata": {},
     "output_type": "display_data"
    },
    {
     "data": {
      "application/vnd.jupyter.widget-view+json": {
       "model_id": "3f4663bae7c448528b3eac79bd45724f",
       "version_major": 2,
       "version_minor": 0
      },
      "text/plain": [
       "Train 8/30:   0%|          | 0/27 [00:00<?, ?it/s]"
      ]
     },
     "metadata": {},
     "output_type": "display_data"
    },
    {
     "data": {
      "application/vnd.jupyter.widget-view+json": {
       "model_id": "c08ebe21d29f49769af906f7a38d2f8c",
       "version_major": 2,
       "version_minor": 0
      },
      "text/plain": [
       "Valid 8/30:   0%|          | 0/27 [00:00<?, ?it/s]"
      ]
     },
     "metadata": {},
     "output_type": "display_data"
    },
    {
     "data": {
      "application/vnd.jupyter.widget-view+json": {
       "model_id": "0903a8dd7f5d40bbba02bc18f46f6a8b",
       "version_major": 2,
       "version_minor": 0
      },
      "text/plain": [
       "Train 9/30:   0%|          | 0/27 [00:00<?, ?it/s]"
      ]
     },
     "metadata": {},
     "output_type": "display_data"
    },
    {
     "data": {
      "application/vnd.jupyter.widget-view+json": {
       "model_id": "1b140cb0647c4fa485caf46b407f8fe3",
       "version_major": 2,
       "version_minor": 0
      },
      "text/plain": [
       "Valid 9/30:   0%|          | 0/27 [00:00<?, ?it/s]"
      ]
     },
     "metadata": {},
     "output_type": "display_data"
    },
    {
     "data": {
      "application/vnd.jupyter.widget-view+json": {
       "model_id": "3769715f12aa4aadb7ceeba1076aac30",
       "version_major": 2,
       "version_minor": 0
      },
      "text/plain": [
       "Train 10/30:   0%|          | 0/27 [00:00<?, ?it/s]"
      ]
     },
     "metadata": {},
     "output_type": "display_data"
    },
    {
     "data": {
      "application/vnd.jupyter.widget-view+json": {
       "model_id": "aafbe68f5cac488eb8cc56c5a5969338",
       "version_major": 2,
       "version_minor": 0
      },
      "text/plain": [
       "Valid 10/30:   0%|          | 0/27 [00:00<?, ?it/s]"
      ]
     },
     "metadata": {},
     "output_type": "display_data"
    },
    {
     "name": "stdout",
     "output_type": "stream",
     "text": [
      "[Epoch 10] Train Loss=1.0796, Valid Loss=1.0759, Train MAPE=1.2299, Valid MAPE=0.7652\n"
     ]
    },
    {
     "data": {
      "application/vnd.jupyter.widget-view+json": {
       "model_id": "88abdde237594949bce6ef6194d1c680",
       "version_major": 2,
       "version_minor": 0
      },
      "text/plain": [
       "Train 11/30:   0%|          | 0/27 [00:00<?, ?it/s]"
      ]
     },
     "metadata": {},
     "output_type": "display_data"
    },
    {
     "data": {
      "application/vnd.jupyter.widget-view+json": {
       "model_id": "04195434967e4b5e9648797fe843227a",
       "version_major": 2,
       "version_minor": 0
      },
      "text/plain": [
       "Valid 11/30:   0%|          | 0/27 [00:00<?, ?it/s]"
      ]
     },
     "metadata": {},
     "output_type": "display_data"
    },
    {
     "data": {
      "application/vnd.jupyter.widget-view+json": {
       "model_id": "31514b5ad7c6426c901e6424f5ef4878",
       "version_major": 2,
       "version_minor": 0
      },
      "text/plain": [
       "Train 12/30:   0%|          | 0/27 [00:00<?, ?it/s]"
      ]
     },
     "metadata": {},
     "output_type": "display_data"
    },
    {
     "data": {
      "application/vnd.jupyter.widget-view+json": {
       "model_id": "07c297304f54449da5332d581b29d8bf",
       "version_major": 2,
       "version_minor": 0
      },
      "text/plain": [
       "Valid 12/30:   0%|          | 0/27 [00:00<?, ?it/s]"
      ]
     },
     "metadata": {},
     "output_type": "display_data"
    },
    {
     "data": {
      "application/vnd.jupyter.widget-view+json": {
       "model_id": "254160f869ec469dbf5d941248cf191c",
       "version_major": 2,
       "version_minor": 0
      },
      "text/plain": [
       "Train 13/30:   0%|          | 0/27 [00:00<?, ?it/s]"
      ]
     },
     "metadata": {},
     "output_type": "display_data"
    },
    {
     "data": {
      "application/vnd.jupyter.widget-view+json": {
       "model_id": "5b58aed8abf54b5eb72a41cdea79563a",
       "version_major": 2,
       "version_minor": 0
      },
      "text/plain": [
       "Valid 13/30:   0%|          | 0/27 [00:00<?, ?it/s]"
      ]
     },
     "metadata": {},
     "output_type": "display_data"
    },
    {
     "data": {
      "application/vnd.jupyter.widget-view+json": {
       "model_id": "24f98ff5e76846df996bca56f996f7d8",
       "version_major": 2,
       "version_minor": 0
      },
      "text/plain": [
       "Train 14/30:   0%|          | 0/27 [00:00<?, ?it/s]"
      ]
     },
     "metadata": {},
     "output_type": "display_data"
    },
    {
     "data": {
      "application/vnd.jupyter.widget-view+json": {
       "model_id": "d02e3c30eb584465a5a7b788510c6052",
       "version_major": 2,
       "version_minor": 0
      },
      "text/plain": [
       "Valid 14/30:   0%|          | 0/27 [00:00<?, ?it/s]"
      ]
     },
     "metadata": {},
     "output_type": "display_data"
    },
    {
     "data": {
      "application/vnd.jupyter.widget-view+json": {
       "model_id": "1504d973b5a341a0815c32c12260f0b8",
       "version_major": 2,
       "version_minor": 0
      },
      "text/plain": [
       "Train 15/30:   0%|          | 0/27 [00:00<?, ?it/s]"
      ]
     },
     "metadata": {},
     "output_type": "display_data"
    },
    {
     "data": {
      "application/vnd.jupyter.widget-view+json": {
       "model_id": "315bbede39c54bb1a0e4ccffcad426fb",
       "version_major": 2,
       "version_minor": 0
      },
      "text/plain": [
       "Valid 15/30:   0%|          | 0/27 [00:00<?, ?it/s]"
      ]
     },
     "metadata": {},
     "output_type": "display_data"
    },
    {
     "name": "stdout",
     "output_type": "stream",
     "text": [
      "[Epoch 15] Train Loss=0.9793, Valid Loss=0.9561, Train MAPE=1.1065, Valid MAPE=0.6641\n"
     ]
    },
    {
     "data": {
      "application/vnd.jupyter.widget-view+json": {
       "model_id": "2833807c2dbe4e459b34adf830bddb7b",
       "version_major": 2,
       "version_minor": 0
      },
      "text/plain": [
       "Train 16/30:   0%|          | 0/27 [00:00<?, ?it/s]"
      ]
     },
     "metadata": {},
     "output_type": "display_data"
    },
    {
     "data": {
      "application/vnd.jupyter.widget-view+json": {
       "model_id": "41a9383f6cc94d7299074361ded968cf",
       "version_major": 2,
       "version_minor": 0
      },
      "text/plain": [
       "Valid 16/30:   0%|          | 0/27 [00:00<?, ?it/s]"
      ]
     },
     "metadata": {},
     "output_type": "display_data"
    },
    {
     "data": {
      "application/vnd.jupyter.widget-view+json": {
       "model_id": "9a34d2ecdc134131b5dab193a203b944",
       "version_major": 2,
       "version_minor": 0
      },
      "text/plain": [
       "Train 17/30:   0%|          | 0/27 [00:00<?, ?it/s]"
      ]
     },
     "metadata": {},
     "output_type": "display_data"
    },
    {
     "data": {
      "application/vnd.jupyter.widget-view+json": {
       "model_id": "2221a4c1d5664fa7a08effa7fd754f6e",
       "version_major": 2,
       "version_minor": 0
      },
      "text/plain": [
       "Valid 17/30:   0%|          | 0/27 [00:00<?, ?it/s]"
      ]
     },
     "metadata": {},
     "output_type": "display_data"
    },
    {
     "data": {
      "application/vnd.jupyter.widget-view+json": {
       "model_id": "0b25fdb20b834887bab8f2a655170f54",
       "version_major": 2,
       "version_minor": 0
      },
      "text/plain": [
       "Train 18/30:   0%|          | 0/27 [00:00<?, ?it/s]"
      ]
     },
     "metadata": {},
     "output_type": "display_data"
    },
    {
     "data": {
      "application/vnd.jupyter.widget-view+json": {
       "model_id": "f525da4310304aa78fc0d46a3af80f04",
       "version_major": 2,
       "version_minor": 0
      },
      "text/plain": [
       "Valid 18/30:   0%|          | 0/27 [00:00<?, ?it/s]"
      ]
     },
     "metadata": {},
     "output_type": "display_data"
    },
    {
     "data": {
      "application/vnd.jupyter.widget-view+json": {
       "model_id": "fb9231ff760a4fa48c5178f0acb2075f",
       "version_major": 2,
       "version_minor": 0
      },
      "text/plain": [
       "Train 19/30:   0%|          | 0/27 [00:00<?, ?it/s]"
      ]
     },
     "metadata": {},
     "output_type": "display_data"
    },
    {
     "data": {
      "application/vnd.jupyter.widget-view+json": {
       "model_id": "fccab9402c244b158c2bea32429f7ec5",
       "version_major": 2,
       "version_minor": 0
      },
      "text/plain": [
       "Valid 19/30:   0%|          | 0/27 [00:00<?, ?it/s]"
      ]
     },
     "metadata": {},
     "output_type": "display_data"
    },
    {
     "data": {
      "application/vnd.jupyter.widget-view+json": {
       "model_id": "07f89b15ff79495e9eb722677bc37fe8",
       "version_major": 2,
       "version_minor": 0
      },
      "text/plain": [
       "Train 20/30:   0%|          | 0/27 [00:00<?, ?it/s]"
      ]
     },
     "metadata": {},
     "output_type": "display_data"
    },
    {
     "data": {
      "application/vnd.jupyter.widget-view+json": {
       "model_id": "efce7f5e405c4404b5a83486fbbd99c9",
       "version_major": 2,
       "version_minor": 0
      },
      "text/plain": [
       "Valid 20/30:   0%|          | 0/27 [00:00<?, ?it/s]"
      ]
     },
     "metadata": {},
     "output_type": "display_data"
    },
    {
     "name": "stdout",
     "output_type": "stream",
     "text": [
      "[Epoch 20] Train Loss=0.9169, Valid Loss=0.8935, Train MAPE=1.0083, Valid MAPE=0.6225\n"
     ]
    },
    {
     "data": {
      "application/vnd.jupyter.widget-view+json": {
       "model_id": "c59428208d024e538faeaff1ad099886",
       "version_major": 2,
       "version_minor": 0
      },
      "text/plain": [
       "Train 21/30:   0%|          | 0/27 [00:00<?, ?it/s]"
      ]
     },
     "metadata": {},
     "output_type": "display_data"
    },
    {
     "data": {
      "application/vnd.jupyter.widget-view+json": {
       "model_id": "6d555154ee124140a6d7be485a72e1e1",
       "version_major": 2,
       "version_minor": 0
      },
      "text/plain": [
       "Valid 21/30:   0%|          | 0/27 [00:00<?, ?it/s]"
      ]
     },
     "metadata": {},
     "output_type": "display_data"
    },
    {
     "data": {
      "application/vnd.jupyter.widget-view+json": {
       "model_id": "42d0ae526a8c4b4e8f73293353583491",
       "version_major": 2,
       "version_minor": 0
      },
      "text/plain": [
       "Train 22/30:   0%|          | 0/27 [00:00<?, ?it/s]"
      ]
     },
     "metadata": {},
     "output_type": "display_data"
    },
    {
     "data": {
      "application/vnd.jupyter.widget-view+json": {
       "model_id": "57c5207857b74282acb3996d64f1c491",
       "version_major": 2,
       "version_minor": 0
      },
      "text/plain": [
       "Valid 22/30:   0%|          | 0/27 [00:00<?, ?it/s]"
      ]
     },
     "metadata": {},
     "output_type": "display_data"
    },
    {
     "data": {
      "application/vnd.jupyter.widget-view+json": {
       "model_id": "9c69eab9397d492caa368fbac3487a8d",
       "version_major": 2,
       "version_minor": 0
      },
      "text/plain": [
       "Train 23/30:   0%|          | 0/27 [00:00<?, ?it/s]"
      ]
     },
     "metadata": {},
     "output_type": "display_data"
    },
    {
     "data": {
      "application/vnd.jupyter.widget-view+json": {
       "model_id": "bb5a0aff5bc1481d96ec7c0520cc561c",
       "version_major": 2,
       "version_minor": 0
      },
      "text/plain": [
       "Valid 23/30:   0%|          | 0/27 [00:00<?, ?it/s]"
      ]
     },
     "metadata": {},
     "output_type": "display_data"
    },
    {
     "data": {
      "application/vnd.jupyter.widget-view+json": {
       "model_id": "83c6accc513845ba819033f096dbf5d5",
       "version_major": 2,
       "version_minor": 0
      },
      "text/plain": [
       "Train 24/30:   0%|          | 0/27 [00:00<?, ?it/s]"
      ]
     },
     "metadata": {},
     "output_type": "display_data"
    },
    {
     "data": {
      "application/vnd.jupyter.widget-view+json": {
       "model_id": "08720464f4684ade9e589d286c176157",
       "version_major": 2,
       "version_minor": 0
      },
      "text/plain": [
       "Valid 24/30:   0%|          | 0/27 [00:00<?, ?it/s]"
      ]
     },
     "metadata": {},
     "output_type": "display_data"
    },
    {
     "data": {
      "application/vnd.jupyter.widget-view+json": {
       "model_id": "a7642eb3d12f4b6abf4b358f8b30d249",
       "version_major": 2,
       "version_minor": 0
      },
      "text/plain": [
       "Train 25/30:   0%|          | 0/27 [00:00<?, ?it/s]"
      ]
     },
     "metadata": {},
     "output_type": "display_data"
    },
    {
     "data": {
      "application/vnd.jupyter.widget-view+json": {
       "model_id": "81fa8e73bfb344cda7bb246cfc10c970",
       "version_major": 2,
       "version_minor": 0
      },
      "text/plain": [
       "Valid 25/30:   0%|          | 0/27 [00:00<?, ?it/s]"
      ]
     },
     "metadata": {},
     "output_type": "display_data"
    },
    {
     "name": "stdout",
     "output_type": "stream",
     "text": [
      "[Epoch 25] Train Loss=0.8814, Valid Loss=0.8511, Train MAPE=0.9103, Valid MAPE=0.5412\n"
     ]
    },
    {
     "data": {
      "application/vnd.jupyter.widget-view+json": {
       "model_id": "089dc33c1dd341a3a16320953298aa63",
       "version_major": 2,
       "version_minor": 0
      },
      "text/plain": [
       "Train 26/30:   0%|          | 0/27 [00:00<?, ?it/s]"
      ]
     },
     "metadata": {},
     "output_type": "display_data"
    },
    {
     "data": {
      "application/vnd.jupyter.widget-view+json": {
       "model_id": "1606c04b1f0844af9c320ccb34a9bd83",
       "version_major": 2,
       "version_minor": 0
      },
      "text/plain": [
       "Valid 26/30:   0%|          | 0/27 [00:00<?, ?it/s]"
      ]
     },
     "metadata": {},
     "output_type": "display_data"
    },
    {
     "data": {
      "application/vnd.jupyter.widget-view+json": {
       "model_id": "a689f33fa0fe4d05acc7d080e6142d3c",
       "version_major": 2,
       "version_minor": 0
      },
      "text/plain": [
       "Train 27/30:   0%|          | 0/27 [00:00<?, ?it/s]"
      ]
     },
     "metadata": {},
     "output_type": "display_data"
    },
    {
     "data": {
      "application/vnd.jupyter.widget-view+json": {
       "model_id": "6e005b843c5245d0a193269dd9210635",
       "version_major": 2,
       "version_minor": 0
      },
      "text/plain": [
       "Valid 27/30:   0%|          | 0/27 [00:00<?, ?it/s]"
      ]
     },
     "metadata": {},
     "output_type": "display_data"
    },
    {
     "data": {
      "application/vnd.jupyter.widget-view+json": {
       "model_id": "d4dcf3e2d145471aa8fb12f4757f77ff",
       "version_major": 2,
       "version_minor": 0
      },
      "text/plain": [
       "Train 28/30:   0%|          | 0/27 [00:00<?, ?it/s]"
      ]
     },
     "metadata": {},
     "output_type": "display_data"
    },
    {
     "data": {
      "application/vnd.jupyter.widget-view+json": {
       "model_id": "94b92cdf4aaf4fa0824cc43b7c9f371f",
       "version_major": 2,
       "version_minor": 0
      },
      "text/plain": [
       "Valid 28/30:   0%|          | 0/27 [00:00<?, ?it/s]"
      ]
     },
     "metadata": {},
     "output_type": "display_data"
    },
    {
     "data": {
      "application/vnd.jupyter.widget-view+json": {
       "model_id": "68b2ea60fa6a4ba6b209faee9ba88b9d",
       "version_major": 2,
       "version_minor": 0
      },
      "text/plain": [
       "Train 29/30:   0%|          | 0/27 [00:00<?, ?it/s]"
      ]
     },
     "metadata": {},
     "output_type": "display_data"
    },
    {
     "data": {
      "application/vnd.jupyter.widget-view+json": {
       "model_id": "5a67c1a862a5493ba05b9b24b493a7e3",
       "version_major": 2,
       "version_minor": 0
      },
      "text/plain": [
       "Valid 29/30:   0%|          | 0/27 [00:00<?, ?it/s]"
      ]
     },
     "metadata": {},
     "output_type": "display_data"
    },
    {
     "data": {
      "application/vnd.jupyter.widget-view+json": {
       "model_id": "2a064271065a4b8695e79faf2dfc1a39",
       "version_major": 2,
       "version_minor": 0
      },
      "text/plain": [
       "Train 30/30:   0%|          | 0/27 [00:00<?, ?it/s]"
      ]
     },
     "metadata": {},
     "output_type": "display_data"
    },
    {
     "data": {
      "application/vnd.jupyter.widget-view+json": {
       "model_id": "82505e4e902f4a9aa5cf6c466ce38696",
       "version_major": 2,
       "version_minor": 0
      },
      "text/plain": [
       "Valid 30/30:   0%|          | 0/27 [00:00<?, ?it/s]"
      ]
     },
     "metadata": {},
     "output_type": "display_data"
    },
    {
     "name": "stdout",
     "output_type": "stream",
     "text": [
      "[Epoch 30] Train Loss=0.8570, Valid Loss=0.8267, Train MAPE=0.8394, Valid MAPE=0.5085\n"
     ]
    },
    {
     "data": {
      "image/png": "[encoded data removed]",
      "text/plain": [
       "<Figure size 640x480 with 1 Axes>"
      ]
     },
     "metadata": {},
     "output_type": "display_data"
    },
    {
     "data": {
      "image/png": "[encoded data removed]",
      "text/plain": [
       "<Figure size 640x480 with 1 Axes>"
      ]
     },
     "metadata": {},
     "output_type": "display_data"
    },
    {
     "data": {
      "image/png": "[encoded data removed]",
      "text/plain": [
       "<Figure size 600x400 with 1 Axes>"
      ]
     },
     "metadata": {},
     "output_type": "display_data"
    },
    {
     "name": "stdout",
     "output_type": "stream",
     "text": [
      "Seed=0, 조합 인덱스=1\n"
     ]
    },
    {
     "data": {
      "application/vnd.jupyter.widget-view+json": {
       "model_id": "5d07cb37f10741e1ae887fb6fcd3955b",
       "version_major": 2,
       "version_minor": 0
      },
      "text/plain": [
       "Epoch:   0%|          | 0/30 [00:00<?, ?it/s]"
      ]
     },
     "metadata": {},
     "output_type": "display_data"
    },
    {
     "data": {
      "application/vnd.jupyter.widget-view+json": {
       "model_id": "451385dd5df84e48a18f3dcf51751fd3",
       "version_major": 2,
       "version_minor": 0
      },
      "text/plain": [
       "Train 1/30:   0%|          | 0/27 [00:00<?, ?it/s]"
      ]
     },
     "metadata": {},
     "output_type": "display_data"
    },
    {
     "data": {
      "application/vnd.jupyter.widget-view+json": {
       "model_id": "839a7d423db542b7ada6b44b1136d9da",
       "version_major": 2,
       "version_minor": 0
      },
      "text/plain": [
       "Valid 1/30:   0%|          | 0/27 [00:00<?, ?it/s]"
      ]
     },
     "metadata": {},
     "output_type": "display_data"
    },
    {
     "data": {
      "application/vnd.jupyter.widget-view+json": {
       "model_id": "0e3f0008291d456a88ce0822fa12848b",
       "version_major": 2,
       "version_minor": 0
      },
      "text/plain": [
       "Train 2/30:   0%|          | 0/27 [00:00<?, ?it/s]"
      ]
     },
     "metadata": {},
     "output_type": "display_data"
    },
    {
     "data": {
      "application/vnd.jupyter.widget-view+json": {
       "model_id": "c0bb006c554143b58ca9741b5d972e3d",
       "version_major": 2,
       "version_minor": 0
      },
      "text/plain": [
       "Valid 2/30:   0%|          | 0/27 [00:00<?, ?it/s]"
      ]
     },
     "metadata": {},
     "output_type": "display_data"
    },
    {
     "data": {
      "application/vnd.jupyter.widget-view+json": {
       "model_id": "de917b98141547d9a50c26724c1ee0b2",
       "version_major": 2,
       "version_minor": 0
      },
      "text/plain": [
       "Train 3/30:   0%|          | 0/27 [00:00<?, ?it/s]"
      ]
     },
     "metadata": {},
     "output_type": "display_data"
    },
    {
     "data": {
      "application/vnd.jupyter.widget-view+json": {
       "model_id": "28125afaa06a49e8a5c6e80e278540bb",
       "version_major": 2,
       "version_minor": 0
      },
      "text/plain": [
       "Valid 3/30:   0%|          | 0/27 [00:00<?, ?it/s]"
      ]
     },
     "metadata": {},
     "output_type": "display_data"
    },
    {
     "data": {
      "application/vnd.jupyter.widget-view+json": {
       "model_id": "85042cdb8bc5430081a55b89f996b754",
       "version_major": 2,
       "version_minor": 0
      },
      "text/plain": [
       "Train 4/30:   0%|          | 0/27 [00:00<?, ?it/s]"
      ]
     },
     "metadata": {},
     "output_type": "display_data"
    },
    {
     "data": {
      "application/vnd.jupyter.widget-view+json": {
       "model_id": "5ccb079a3cea492290ab4e7ed407720a",
       "version_major": 2,
       "version_minor": 0
      },
      "text/plain": [
       "Valid 4/30:   0%|          | 0/27 [00:00<?, ?it/s]"
      ]
     },
     "metadata": {},
     "output_type": "display_data"
    },
    {
     "data": {
      "application/vnd.jupyter.widget-view+json": {
       "model_id": "cdc201fc58534406a73b7e20159e4d79",
       "version_major": 2,
       "version_minor": 0
      },
      "text/plain": [
       "Train 5/30:   0%|          | 0/27 [00:00<?, ?it/s]"
      ]
     },
     "metadata": {},
     "output_type": "display_data"
    },
    {
     "data": {
      "application/vnd.jupyter.widget-view+json": {
       "model_id": "0ddb0b9c91b94a6f845faf48993a99aa",
       "version_major": 2,
       "version_minor": 0
      },
      "text/plain": [
       "Valid 5/30:   0%|          | 0/27 [00:00<?, ?it/s]"
      ]
     },
     "metadata": {},
     "output_type": "display_data"
    },
    {
     "name": "stdout",
     "output_type": "stream",
     "text": [
      "[Epoch 5] Train Loss=1.3099, Valid Loss=1.2311, Train MAPE=1.4776, Valid MAPE=0.9675\n"
     ]
    },
    {
     "data": {
      "application/vnd.jupyter.widget-view+json": {
       "model_id": "8da8b24decd042f39d7ce298eb5e0622",
       "version_major": 2,
       "version_minor": 0
      },
      "text/plain": [
       "Train 6/30:   0%|          | 0/27 [00:00<?, ?it/s]"
      ]
     },
     "metadata": {},
     "output_type": "display_data"
    },
    {
     "data": {
      "application/vnd.jupyter.widget-view+json": {
       "model_id": "dcacbfdc2b6542398d2245375202df1c",
       "version_major": 2,
       "version_minor": 0
      },
      "text/plain": [
       "Valid 6/30:   0%|          | 0/27 [00:00<?, ?it/s]"
      ]
     },
     "metadata": {},
     "output_type": "display_data"
    },
    {
     "data": {
      "application/vnd.jupyter.widget-view+json": {
       "model_id": "37f00f4be3694458aa3704f01a03260c",
       "version_major": 2,
       "version_minor": 0
      },
      "text/plain": [
       "Train 7/30:   0%|          | 0/27 [00:00<?, ?it/s]"
      ]
     },
     "metadata": {},
     "output_type": "display_data"
    },
    {
     "data": {
      "application/vnd.jupyter.widget-view+json": {
       "model_id": "60cda745ad4d4d4186fe4c553cc469e4",
       "version_major": 2,
       "version_minor": 0
      },
      "text/plain": [
       "Valid 7/30:   0%|          | 0/27 [00:00<?, ?it/s]"
      ]
     },
     "metadata": {},
     "output_type": "display_data"
    },
    {
     "data": {
      "application/vnd.jupyter.widget-view+json": {
       "model_id": "cf61494ac8834c12b507259e9fa6bb90",
       "version_major": 2,
       "version_minor": 0
      },
      "text/plain": [
       "Train 8/30:   0%|          | 0/27 [00:00<?, ?it/s]"
      ]
     },
     "metadata": {},
     "output_type": "display_data"
    },
    {
     "data": {
      "application/vnd.jupyter.widget-view+json": {
       "model_id": "d2b410e933164058b09c3dd753a0cfd2",
       "version_major": 2,
       "version_minor": 0
      },
      "text/plain": [
       "Valid 8/30:   0%|          | 0/27 [00:00<?, ?it/s]"
      ]
     },
     "metadata": {},
     "output_type": "display_data"
    },
    {
     "data": {
      "application/vnd.jupyter.widget-view+json": {
       "model_id": "361abcadd9ac4741bb6fa2ba557dcb5e",
       "version_major": 2,
       "version_minor": 0
      },
      "text/plain": [
       "Train 9/30:   0%|          | 0/27 [00:00<?, ?it/s]"
      ]
     },
     "metadata": {},
     "output_type": "display_data"
    },
    {
     "data": {
      "application/vnd.jupyter.widget-view+json": {
       "model_id": "50c9c0d03c1e4b2d9b103439a00bf110",
       "version_major": 2,
       "version_minor": 0
      },
      "text/plain": [
       "Valid 9/30:   0%|          | 0/27 [00:00<?, ?it/s]"
      ]
     },
     "metadata": {},
     "output_type": "display_data"
    },
    {
     "data": {
      "application/vnd.jupyter.widget-view+json": {
       "model_id": "6202847090e54c028b859aeef278afd7",
       "version_major": 2,
       "version_minor": 0
      },
      "text/plain": [
       "Train 10/30:   0%|          | 0/27 [00:00<?, ?it/s]"
      ]
     },
     "metadata": {},
     "output_type": "display_data"
    },
    {
     "data": {
      "application/vnd.jupyter.widget-view+json": {
       "model_id": "c8efc0f5f8e4421f8f91e660f4045d0c",
       "version_major": 2,
       "version_minor": 0
      },
      "text/plain": [
       "Valid 10/30:   0%|          | 0/27 [00:00<?, ?it/s]"
      ]
     },
     "metadata": {},
     "output_type": "display_data"
    },
    {
     "name": "stdout",
     "output_type": "stream",
     "text": [
      "[Epoch 10] Train Loss=1.0158, Valid Loss=1.0062, Train MAPE=1.1741, Valid MAPE=0.7150\n"
     ]
    },
    {
     "data": {
      "application/vnd.jupyter.widget-view+json": {
       "model_id": "e3016c88f7d845c49366dca605e91152",
       "version_major": 2,
       "version_minor": 0
      },
      "text/plain": [
       "Train 11/30:   0%|          | 0/27 [00:00<?, ?it/s]"
      ]
     },
     "metadata": {},
     "output_type": "display_data"
    },
    {
     "data": {
      "application/vnd.jupyter.widget-view+json": {
       "model_id": "fd64dff2aa264560b35e7ad7a87d482d",
       "version_major": 2,
       "version_minor": 0
      },
      "text/plain": [
       "Valid 11/30:   0%|          | 0/27 [00:00<?, ?it/s]"
      ]
     },
     "metadata": {},
     "output_type": "display_data"
    },
    {
     "data": {
      "application/vnd.jupyter.widget-view+json": {
       "model_id": "c6823639f9f74080902e6b9b616e08a9",
       "version_major": 2,
       "version_minor": 0
      },
      "text/plain": [
       "Train 12/30:   0%|          | 0/27 [00:00<?, ?it/s]"
      ]
     },
     "metadata": {},
     "output_type": "display_data"
    },
    {
     "data": {
      "application/vnd.jupyter.widget-view+json": {
       "model_id": "2984cb9711844768bc3ccef826e8cf71",
       "version_major": 2,
       "version_minor": 0
      },
      "text/plain": [
       "Valid 12/30:   0%|          | 0/27 [00:00<?, ?it/s]"
      ]
     },
     "metadata": {},
     "output_type": "display_data"
    },
    {
     "data": {
      "application/vnd.jupyter.widget-view+json": {
       "model_id": "9cba5d8909524d19b6a7d38134a5af52",
       "version_major": 2,
       "version_minor": 0
      },
      "text/plain": [
       "Train 13/30:   0%|          | 0/27 [00:00<?, ?it/s]"
      ]
     },
     "metadata": {},
     "output_type": "display_data"
    },
    {
     "data": {
      "application/vnd.jupyter.widget-view+json": {
       "model_id": "be02da544d8f403c9eb339e6e755035c",
       "version_major": 2,
       "version_minor": 0
      },
      "text/plain": [
       "Valid 13/30:   0%|          | 0/27 [00:00<?, ?it/s]"
      ]
     },
     "metadata": {},
     "output_type": "display_data"
    },
    {
     "data": {
      "application/vnd.jupyter.widget-view+json": {
       "model_id": "d51a0c4cdc424cdb9ee268f2114385e3",
       "version_major": 2,
       "version_minor": 0
      },
      "text/plain": [
       "Train 14/30:   0%|          | 0/27 [00:00<?, ?it/s]"
      ]
     },
     "metadata": {},
     "output_type": "display_data"
    },
    {
     "data": {
      "application/vnd.jupyter.widget-view+json": {
       "model_id": "2e5ad620a1df441fa6a96b778cd99249",
       "version_major": 2,
       "version_minor": 0
      },
      "text/plain": [
       "Valid 14/30:   0%|          | 0/27 [00:00<?, ?it/s]"
      ]
     },
     "metadata": {},
     "output_type": "display_data"
    },
    {
     "data": {
      "application/vnd.jupyter.widget-view+json": {
       "model_id": "d55053258b5c4f2da2db025397a68d08",
       "version_major": 2,
       "version_minor": 0
      },
      "text/plain": [
       "Train 15/30:   0%|          | 0/27 [00:00<?, ?it/s]"
      ]
     },
     "metadata": {},
     "output_type": "display_data"
    },
    {
     "data": {
      "application/vnd.jupyter.widget-view+json": {
       "model_id": "c52e4e7dc6054a84a10537803579d261",
       "version_major": 2,
       "version_minor": 0
      },
      "text/plain": [
       "Valid 15/30:   0%|          | 0/27 [00:00<?, ?it/s]"
      ]
     },
     "metadata": {},
     "output_type": "display_data"
    },
    {
     "name": "stdout",
     "output_type": "stream",
     "text": [
      "[Epoch 15] Train Loss=0.9450, Valid Loss=0.9317, Train MAPE=1.0283, Valid MAPE=0.6807\n"
     ]
    },
    {
     "data": {
      "application/vnd.jupyter.widget-view+json": {
       "model_id": "5986e77b7cb34c0b8fc1e21c63aa22a6",
       "version_major": 2,
       "version_minor": 0
      },
      "text/plain": [
       "Train 16/30:   0%|          | 0/27 [00:00<?, ?it/s]"
      ]
     },
     "metadata": {},
     "output_type": "display_data"
    },
    {
     "data": {
      "application/vnd.jupyter.widget-view+json": {
       "model_id": "a1a92764a529453a8e62a7d7d3b7b55f",
       "version_major": 2,
       "version_minor": 0
      },
      "text/plain": [
       "Valid 16/30:   0%|          | 0/27 [00:00<?, ?it/s]"
      ]
     },
     "metadata": {},
     "output_type": "display_data"
    },
    {
     "data": {
      "application/vnd.jupyter.widget-view+json": {
       "model_id": "35e3ce6785754141954c9df34a7b1723",
       "version_major": 2,
       "version_minor": 0
      },
      "text/plain": [
       "Train 17/30:   0%|          | 0/27 [00:00<?, ?it/s]"
      ]
     },
     "metadata": {},
     "output_type": "display_data"
    },
    {
     "data": {
      "application/vnd.jupyter.widget-view+json": {
       "model_id": "0c575e6b2d9d41ad983d22f5554d52b7",
       "version_major": 2,
       "version_minor": 0
      },
      "text/plain": [
       "Valid 17/30:   0%|          | 0/27 [00:00<?, ?it/s]"
      ]
     },
     "metadata": {},
     "output_type": "display_data"
    },
    {
     "data": {
      "application/vnd.jupyter.widget-view+json": {
       "model_id": "69dd3f9f5fd8455d81223a6690c89b7f",
       "version_major": 2,
       "version_minor": 0
      },
      "text/plain": [
       "Train 18/30:   0%|          | 0/27 [00:00<?, ?it/s]"
      ]
     },
     "metadata": {},
     "output_type": "display_data"
    },
    {
     "data": {
      "application/vnd.jupyter.widget-view+json": {
       "model_id": "109514f86308442c87622f09d0fb4d38",
       "version_major": 2,
       "version_minor": 0
      },
      "text/plain": [
       "Valid 18/30:   0%|          | 0/27 [00:00<?, ?it/s]"
      ]
     },
     "metadata": {},
     "output_type": "display_data"
    },
    {
     "data": {
      "application/vnd.jupyter.widget-view+json": {
       "model_id": "0ba25bf578944c919c6c69cd98508d0c",
       "version_major": 2,
       "version_minor": 0
      },
      "text/plain": [
       "Train 19/30:   0%|          | 0/27 [00:00<?, ?it/s]"
      ]
     },
     "metadata": {},
     "output_type": "display_data"
    },
    {
     "data": {
      "application/vnd.jupyter.widget-view+json": {
       "model_id": "3ce98809e18745aab2f15ad81dde7a7b",
       "version_major": 2,
       "version_minor": 0
      },
      "text/plain": [
       "Valid 19/30:   0%|          | 0/27 [00:00<?, ?it/s]"
      ]
     },
     "metadata": {},
     "output_type": "display_data"
    },
    {
     "data": {
      "application/vnd.jupyter.widget-view+json": {
       "model_id": "afc7a873dd4f49508e6e081cceb24d19",
       "version_major": 2,
       "version_minor": 0
      },
      "text/plain": [
       "Train 20/30:   0%|          | 0/27 [00:00<?, ?it/s]"
      ]
     },
     "metadata": {},
     "output_type": "display_data"
    },
    {
     "data": {
      "application/vnd.jupyter.widget-view+json": {
       "model_id": "d81aae548b0e48589c6a9b59a245bbb6",
       "version_major": 2,
       "version_minor": 0
      },
      "text/plain": [
       "Valid 20/30:   0%|          | 0/27 [00:00<?, ?it/s]"
      ]
     },
     "metadata": {},
     "output_type": "display_data"
    },
    {
     "name": "stdout",
     "output_type": "stream",
     "text": [
      "[Epoch 20] Train Loss=0.9019, Valid Loss=0.8773, Train MAPE=0.9362, Valid MAPE=0.6524\n"
     ]
    },
    {
     "data": {
      "application/vnd.jupyter.widget-view+json": {
       "model_id": "b63f6704d4fb44b9a9e2668a69b1eeb0",
       "version_major": 2,
       "version_minor": 0
      },
      "text/plain": [
       "Train 21/30:   0%|          | 0/27 [00:00<?, ?it/s]"
      ]
     },
     "metadata": {},
     "output_type": "display_data"
    },
    {
     "data": {
      "application/vnd.jupyter.widget-view+json": {
       "model_id": "dc7db8152566459bb1a2b326ec3943b7",
       "version_major": 2,
       "version_minor": 0
      },
      "text/plain": [
       "Valid 21/30:   0%|          | 0/27 [00:00<?, ?it/s]"
      ]
     },
     "metadata": {},
     "output_type": "display_data"
    },
    {
     "data": {
      "application/vnd.jupyter.widget-view+json": {
       "model_id": "9304000a2cfb419a86d3b24706cabda8",
       "version_major": 2,
       "version_minor": 0
      },
      "text/plain": [
       "Train 22/30:   0%|          | 0/27 [00:00<?, ?it/s]"
      ]
     },
     "metadata": {},
     "output_type": "display_data"
    },
    {
     "data": {
      "application/vnd.jupyter.widget-view+json": {
       "model_id": "ab54dee609c14173849dd1fae8aa5ac5",
       "version_major": 2,
       "version_minor": 0
      },
      "text/plain": [
       "Valid 22/30:   0%|          | 0/27 [00:00<?, ?it/s]"
      ]
     },
     "metadata": {},
     "output_type": "display_data"
    },
    {
     "data": {
      "application/vnd.jupyter.widget-view+json": {
       "model_id": "95da11369e5d4f38a4c8d2516e10ea8e",
       "version_major": 2,
       "version_minor": 0
      },
      "text/plain": [
       "Train 23/30:   0%|          | 0/27 [00:00<?, ?it/s]"
      ]
     },
     "metadata": {},
     "output_type": "display_data"
    },
    {
     "data": {
      "application/vnd.jupyter.widget-view+json": {
       "model_id": "f58e602a568e462aa8d913e6e892472b",
       "version_major": 2,
       "version_minor": 0
      },
      "text/plain": [
       "Valid 23/30:   0%|          | 0/27 [00:00<?, ?it/s]"
      ]
     },
     "metadata": {},
     "output_type": "display_data"
    },
    {
     "data": {
      "application/vnd.jupyter.widget-view+json": {
       "model_id": "ea05ea195cce46c79de9bcaef46e2261",
       "version_major": 2,
       "version_minor": 0
      },
      "text/plain": [
       "Train 24/30:   0%|          | 0/27 [00:00<?, ?it/s]"
      ]
     },
     "metadata": {},
     "output_type": "display_data"
    },
    {
     "data": {
      "application/vnd.jupyter.widget-view+json": {
       "model_id": "6f940b4702544a72bd1162860a5ba0ae",
       "version_major": 2,
       "version_minor": 0
      },
      "text/plain": [
       "Valid 24/30:   0%|          | 0/27 [00:00<?, ?it/s]"
      ]
     },
     "metadata": {},
     "output_type": "display_data"
    },
    {
     "data": {
      "application/vnd.jupyter.widget-view+json": {
       "model_id": "8d2abe648b214c9fb43897c50c15e813",
       "version_major": 2,
       "version_minor": 0
      },
      "text/plain": [
       "Train 25/30:   0%|          | 0/27 [00:00<?, ?it/s]"
      ]
     },
     "metadata": {},
     "output_type": "display_data"
    },
    {
     "data": {
      "application/vnd.jupyter.widget-view+json": {
       "model_id": "998de21146b541c2a170380a75072711",
       "version_major": 2,
       "version_minor": 0
      },
      "text/plain": [
       "Valid 25/30:   0%|          | 0/27 [00:00<?, ?it/s]"
      ]
     },
     "metadata": {},
     "output_type": "display_data"
    },
    {
     "name": "stdout",
     "output_type": "stream",
     "text": [
      "[Epoch 25] Train Loss=0.8705, Valid Loss=0.8413, Train MAPE=0.8558, Valid MAPE=0.5381\n"
     ]
    },
    {
     "data": {
      "application/vnd.jupyter.widget-view+json": {
       "model_id": "59a0a73305094e51b5ca077c7e9446f9",
       "version_major": 2,
       "version_minor": 0
      },
      "text/plain": [
       "Train 26/30:   0%|          | 0/27 [00:00<?, ?it/s]"
      ]
     },
     "metadata": {},
     "output_type": "display_data"
    },
    {
     "data": {
      "application/vnd.jupyter.widget-view+json": {
       "model_id": "61e1f314acf84c90a22fd4152d15c6b2",
       "version_major": 2,
       "version_minor": 0
      },
      "text/plain": [
       "Valid 26/30:   0%|          | 0/27 [00:00<?, ?it/s]"
      ]
     },
     "metadata": {},
     "output_type": "display_data"
    },
    {
     "data": {
      "application/vnd.jupyter.widget-view+json": {
       "model_id": "71d5b7d461ba4a7d8b66c1f088a2a71d",
       "version_major": 2,
       "version_minor": 0
      },
      "text/plain": [
       "Train 27/30:   0%|          | 0/27 [00:00<?, ?it/s]"
      ]
     },
     "metadata": {},
     "output_type": "display_data"
    },
    {
     "data": {
      "application/vnd.jupyter.widget-view+json": {
       "model_id": "69db70d6d6e14731b5cca91af261f2d1",
       "version_major": 2,
       "version_minor": 0
      },
      "text/plain": [
       "Valid 27/30:   0%|          | 0/27 [00:00<?, ?it/s]"
      ]
     },
     "metadata": {},
     "output_type": "display_data"
    },
    {
     "data": {
      "application/vnd.jupyter.widget-view+json": {
       "model_id": "cc89419459f54e92a7bdfcb592e5c056",
       "version_major": 2,
       "version_minor": 0
      },
      "text/plain": [
       "Train 28/30:   0%|          | 0/27 [00:00<?, ?it/s]"
      ]
     },
     "metadata": {},
     "output_type": "display_data"
    },
    {
     "data": {
      "application/vnd.jupyter.widget-view+json": {
       "model_id": "6e2d13b31085417abcf9c79a31531c6e",
       "version_major": 2,
       "version_minor": 0
      },
      "text/plain": [
       "Valid 28/30:   0%|          | 0/27 [00:00<?, ?it/s]"
      ]
     },
     "metadata": {},
     "output_type": "display_data"
    },
    {
     "data": {
      "application/vnd.jupyter.widget-view+json": {
       "model_id": "0525ff41bce84057a4ea02d38b52a0f7",
       "version_major": 2,
       "version_minor": 0
      },
      "text/plain": [
       "Train 29/30:   0%|          | 0/27 [00:00<?, ?it/s]"
      ]
     },
     "metadata": {},
     "output_type": "display_data"
    },
    {
     "data": {
      "application/vnd.jupyter.widget-view+json": {
       "model_id": "68fb37930fc74f8d99a7105800360a15",
       "version_major": 2,
       "version_minor": 0
      },
      "text/plain": [
       "Valid 29/30:   0%|          | 0/27 [00:00<?, ?it/s]"
      ]
     },
     "metadata": {},
     "output_type": "display_data"
    },
    {
     "data": {
      "application/vnd.jupyter.widget-view+json": {
       "model_id": "f11342c4cfcc4581a6014c3f4b3395c0",
       "version_major": 2,
       "version_minor": 0
      },
      "text/plain": [
       "Train 30/30:   0%|          | 0/27 [00:00<?, ?it/s]"
      ]
     },
     "metadata": {},
     "output_type": "display_data"
    },
    {
     "data": {
      "application/vnd.jupyter.widget-view+json": {
       "model_id": "b17c065ebab54e8091980d54fa40689b",
       "version_major": 2,
       "version_minor": 0
      },
      "text/plain": [
       "Valid 30/30:   0%|          | 0/27 [00:00<?, ?it/s]"
      ]
     },
     "metadata": {},
     "output_type": "display_data"
    },
    {
     "name": "stdout",
     "output_type": "stream",
     "text": [
      "[Epoch 30] Train Loss=0.8393, Valid Loss=0.8128, Train MAPE=0.7841, Valid MAPE=0.4992\n"
     ]
    },
    {
     "data": {
      "application/vnd.jupyter.widget-view+json": {
       "model_id": "ff45c826fb994c5c9deab44edfdd0b0b",
       "version_major": 2,
       "version_minor": 0
      },
      "text/plain": [
       "Epoch:   0%|          | 0/30 [00:00<?, ?it/s]"
      ]
     },
     "metadata": {},
     "output_type": "display_data"
    },
    {
     "data": {
      "application/vnd.jupyter.widget-view+json": {
       "model_id": "e19200dfe4504cdfbbe41e300f5f09a5",
       "version_major": 2,
       "version_minor": 0
      },
      "text/plain": [
       "Train 1/30:   0%|          | 0/27 [00:00<?, ?it/s]"
      ]
     },
     "metadata": {},
     "output_type": "display_data"
    },
    {
     "data": {
      "application/vnd.jupyter.widget-view+json": {
       "model_id": "b38a95c877464e0ea560aa3ade137cc7",
       "version_major": 2,
       "version_minor": 0
      },
      "text/plain": [
       "Valid 1/30:   0%|          | 0/27 [00:00<?, ?it/s]"
      ]
     },
     "metadata": {},
     "output_type": "display_data"
    },
    {
     "data": {
      "application/vnd.jupyter.widget-view+json": {
       "model_id": "4f668c876bfa449a95a3374507d34b91",
       "version_major": 2,
       "version_minor": 0
      },
      "text/plain": [
       "Train 2/30:   0%|          | 0/27 [00:00<?, ?it/s]"
      ]
     },
     "metadata": {},
     "output_type": "display_data"
    },
    {
     "data": {
      "application/vnd.jupyter.widget-view+json": {
       "model_id": "9e42a21a43ed421a9aa6bcf25fe90538",
       "version_major": 2,
       "version_minor": 0
      },
      "text/plain": [
       "Valid 2/30:   0%|          | 0/27 [00:00<?, ?it/s]"
      ]
     },
     "metadata": {},
     "output_type": "display_data"
    },
    {
     "data": {
      "application/vnd.jupyter.widget-view+json": {
       "model_id": "54fa27563ce742cc93877d1bfda997e9",
       "version_major": 2,
       "version_minor": 0
      },
      "text/plain": [
       "Train 3/30:   0%|          | 0/27 [00:00<?, ?it/s]"
      ]
     },
     "metadata": {},
     "output_type": "display_data"
    },
    {
     "data": {
      "application/vnd.jupyter.widget-view+json": {
       "model_id": "855d050c6e4d43049b72de017d0c6492",
       "version_major": 2,
       "version_minor": 0
      },
      "text/plain": [
       "Valid 3/30:   0%|          | 0/27 [00:00<?, ?it/s]"
      ]
     },
     "metadata": {},
     "output_type": "display_data"
    },
    {
     "data": {
      "application/vnd.jupyter.widget-view+json": {
       "model_id": "16e18e013756432492e00fcc897de492",
       "version_major": 2,
       "version_minor": 0
      },
      "text/plain": [
       "Train 4/30:   0%|          | 0/27 [00:00<?, ?it/s]"
      ]
     },
     "metadata": {},
     "output_type": "display_data"
    },
    {
     "data": {
      "application/vnd.jupyter.widget-view+json": {
       "model_id": "5733498f70304be0a46a9486efad3494",
       "version_major": 2,
       "version_minor": 0
      },
      "text/plain": [
       "Valid 4/30:   0%|          | 0/27 [00:00<?, ?it/s]"
      ]
     },
     "metadata": {},
     "output_type": "display_data"
    },
    {
     "data": {
      "application/vnd.jupyter.widget-view+json": {
       "model_id": "84f32650ccfc493f903403fd41342871",
       "version_major": 2,
       "version_minor": 0
      },
      "text/plain": [
       "Train 5/30:   0%|          | 0/27 [00:00<?, ?it/s]"
      ]
     },
     "metadata": {},
     "output_type": "display_data"
    },
    {
     "data": {
      "application/vnd.jupyter.widget-view+json": {
       "model_id": "634a28a0dc594adeb1bd7cf0057dfe07",
       "version_major": 2,
       "version_minor": 0
      },
      "text/plain": [
       "Valid 5/30:   0%|          | 0/27 [00:00<?, ?it/s]"
      ]
     },
     "metadata": {},
     "output_type": "display_data"
    },
    {
     "name": "stdout",
     "output_type": "stream",
     "text": [
      "[Epoch 5] Train Loss=1.4340, Valid Loss=1.3490, Train MAPE=1.5033, Valid MAPE=0.9774\n"
     ]
    },
    {
     "data": {
      "application/vnd.jupyter.widget-view+json": {
       "model_id": "21b32e449f524d2aa05b6ca732afe831",
       "version_major": 2,
       "version_minor": 0
      },
      "text/plain": [
       "Train 6/30:   0%|          | 0/27 [00:00<?, ?it/s]"
      ]
     },
     "metadata": {},
     "output_type": "display_data"
    },
    {
     "data": {
      "application/vnd.jupyter.widget-view+json": {
       "model_id": "a3f008696cbc416e968de82731ea566a",
       "version_major": 2,
       "version_minor": 0
      },
      "text/plain": [
       "Valid 6/30:   0%|          | 0/27 [00:00<?, ?it/s]"
      ]
     },
     "metadata": {},
     "output_type": "display_data"
    },
    {
     "data": {
      "application/vnd.jupyter.widget-view+json": {
       "model_id": "4afa891ed6c14bb696f225626690b771",
       "version_major": 2,
       "version_minor": 0
      },
      "text/plain": [
       "Train 7/30:   0%|          | 0/27 [00:00<?, ?it/s]"
      ]
     },
     "metadata": {},
     "output_type": "display_data"
    },
    {
     "data": {
      "application/vnd.jupyter.widget-view+json": {
       "model_id": "c164925a1adc4f1d9185aefd9df33678",
       "version_major": 2,
       "version_minor": 0
      },
      "text/plain": [
       "Valid 7/30:   0%|          | 0/27 [00:00<?, ?it/s]"
      ]
     },
     "metadata": {},
     "output_type": "display_data"
    },
    {
     "data": {
      "application/vnd.jupyter.widget-view+json": {
       "model_id": "76f1992453134ac4b67a22946ecb58c7",
       "version_major": 2,
       "version_minor": 0
      },
      "text/plain": [
       "Train 8/30:   0%|          | 0/27 [00:00<?, ?it/s]"
      ]
     },
     "metadata": {},
     "output_type": "display_data"
    },
    {
     "data": {
      "application/vnd.jupyter.widget-view+json": {
       "model_id": "0cbc5d2ea4d44da1929305c4b8ffeff2",
       "version_major": 2,
       "version_minor": 0
      },
      "text/plain": [
       "Valid 8/30:   0%|          | 0/27 [00:00<?, ?it/s]"
      ]
     },
     "metadata": {},
     "output_type": "display_data"
    },
    {
     "data": {
      "application/vnd.jupyter.widget-view+json": {
       "model_id": "7009ef7f4ea54960a3e899f7537a23af",
       "version_major": 2,
       "version_minor": 0
      },
      "text/plain": [
       "Train 9/30:   0%|          | 0/27 [00:00<?, ?it/s]"
      ]
     },
     "metadata": {},
     "output_type": "display_data"
    },
    {
     "data": {
      "application/vnd.jupyter.widget-view+json": {
       "model_id": "4e7bb17ca4b14d728fc0050be1819e3c",
       "version_major": 2,
       "version_minor": 0
      },
      "text/plain": [
       "Valid 9/30:   0%|          | 0/27 [00:00<?, ?it/s]"
      ]
     },
     "metadata": {},
     "output_type": "display_data"
    },
    {
     "data": {
      "application/vnd.jupyter.widget-view+json": {
       "model_id": "e63d4f7e60e5453a87bddfd86e009daf",
       "version_major": 2,
       "version_minor": 0
      },
      "text/plain": [
       "Train 10/30:   0%|          | 0/27 [00:00<?, ?it/s]"
      ]
     },
     "metadata": {},
     "output_type": "display_data"
    },
    {
     "data": {
      "application/vnd.jupyter.widget-view+json": {
       "model_id": "8e32a5250b034226addb3f6ac670bb8c",
       "version_major": 2,
       "version_minor": 0
      },
      "text/plain": [
       "Valid 10/30:   0%|          | 0/27 [00:00<?, ?it/s]"
      ]
     },
     "metadata": {},
     "output_type": "display_data"
    },
    {
     "name": "stdout",
     "output_type": "stream",
     "text": [
      "[Epoch 10] Train Loss=1.0215, Valid Loss=1.0186, Train MAPE=1.1982, Valid MAPE=0.7500\n"
     ]
    },
    {
     "data": {
      "application/vnd.jupyter.widget-view+json": {
       "model_id": "e15096995b9f43d5a9eee191bfcd5ecd",
       "version_major": 2,
       "version_minor": 0
      },
      "text/plain": [
       "Train 11/30:   0%|          | 0/27 [00:00<?, ?it/s]"
      ]
     },
     "metadata": {},
     "output_type": "display_data"
    },
    {
     "data": {
      "application/vnd.jupyter.widget-view+json": {
       "model_id": "d38daee7d71f4936bda21852c898747a",
       "version_major": 2,
       "version_minor": 0
      },
      "text/plain": [
       "Valid 11/30:   0%|          | 0/27 [00:00<?, ?it/s]"
      ]
     },
     "metadata": {},
     "output_type": "display_data"
    },
    {
     "data": {
      "application/vnd.jupyter.widget-view+json": {
       "model_id": "90a25e509559452b94bc6ed287fb603f",
       "version_major": 2,
       "version_minor": 0
      },
      "text/plain": [
       "Train 12/30:   0%|          | 0/27 [00:00<?, ?it/s]"
      ]
     },
     "metadata": {},
     "output_type": "display_data"
    },
    {
     "data": {
      "application/vnd.jupyter.widget-view+json": {
       "model_id": "2dc4661e143a4b03857d8fefead6865f",
       "version_major": 2,
       "version_minor": 0
      },
      "text/plain": [
       "Valid 12/30:   0%|          | 0/27 [00:00<?, ?it/s]"
      ]
     },
     "metadata": {},
     "output_type": "display_data"
    },
    {
     "data": {
      "application/vnd.jupyter.widget-view+json": {
       "model_id": "3701c041c74c41d9b19d92c8bd7fd83d",
       "version_major": 2,
       "version_minor": 0
      },
      "text/plain": [
       "Train 13/30:   0%|          | 0/27 [00:00<?, ?it/s]"
      ]
     },
     "metadata": {},
     "output_type": "display_data"
    },
    {
     "data": {
      "application/vnd.jupyter.widget-view+json": {
       "model_id": "78c9e3279ea84b388451a3e854d7ebc1",
       "version_major": 2,
       "version_minor": 0
      },
      "text/plain": [
       "Valid 13/30:   0%|          | 0/27 [00:00<?, ?it/s]"
      ]
     },
     "metadata": {},
     "output_type": "display_data"
    },
    {
     "data": {
      "application/vnd.jupyter.widget-view+json": {
       "model_id": "de67da3f280845558552475de068af04",
       "version_major": 2,
       "version_minor": 0
      },
      "text/plain": [
       "Train 14/30:   0%|          | 0/27 [00:00<?, ?it/s]"
      ]
     },
     "metadata": {},
     "output_type": "display_data"
    },
    {
     "data": {
      "application/vnd.jupyter.widget-view+json": {
       "model_id": "0a4570bc448c43b58998ef27c7eda9f2",
       "version_major": 2,
       "version_minor": 0
      },
      "text/plain": [
       "Valid 14/30:   0%|          | 0/27 [00:00<?, ?it/s]"
      ]
     },
     "metadata": {},
     "output_type": "display_data"
    },
    {
     "data": {
      "application/vnd.jupyter.widget-view+json": {
       "model_id": "ec3a63dfdc6f49e3ac2bd75cce228ff5",
       "version_major": 2,
       "version_minor": 0
      },
      "text/plain": [
       "Train 15/30:   0%|          | 0/27 [00:00<?, ?it/s]"
      ]
     },
     "metadata": {},
     "output_type": "display_data"
    },
    {
     "data": {
      "application/vnd.jupyter.widget-view+json": {
       "model_id": "d97b00975e384d30b8094cd5bc336d76",
       "version_major": 2,
       "version_minor": 0
      },
      "text/plain": [
       "Valid 15/30:   0%|          | 0/27 [00:00<?, ?it/s]"
      ]
     },
     "metadata": {},
     "output_type": "display_data"
    },
    {
     "name": "stdout",
     "output_type": "stream",
     "text": [
      "[Epoch 15] Train Loss=0.9309, Valid Loss=0.9081, Train MAPE=1.0525, Valid MAPE=0.6020\n"
     ]
    },
    {
     "data": {
      "application/vnd.jupyter.widget-view+json": {
       "model_id": "af64c844de0443dc8f87cf00d11d02de",
       "version_major": 2,
       "version_minor": 0
      },
      "text/plain": [
       "Train 16/30:   0%|          | 0/27 [00:00<?, ?it/s]"
      ]
     },
     "metadata": {},
     "output_type": "display_data"
    },
    {
     "data": {
      "application/vnd.jupyter.widget-view+json": {
       "model_id": "7a5adccac9ff4dbb83bdbd02879b4268",
       "version_major": 2,
       "version_minor": 0
      },
      "text/plain": [
       "Valid 16/30:   0%|          | 0/27 [00:00<?, ?it/s]"
      ]
     },
     "metadata": {},
     "output_type": "display_data"
    },
    {
     "data": {
      "application/vnd.jupyter.widget-view+json": {
       "model_id": "b9602741d011453490fdc72764a4dabb",
       "version_major": 2,
       "version_minor": 0
      },
      "text/plain": [
       "Train 17/30:   0%|          | 0/27 [00:00<?, ?it/s]"
      ]
     },
     "metadata": {},
     "output_type": "display_data"
    },
    {
     "data": {
      "application/vnd.jupyter.widget-view+json": {
       "model_id": "7c0a517d0bcd4032b7ddc80dda61a1d4",
       "version_major": 2,
       "version_minor": 0
      },
      "text/plain": [
       "Valid 17/30:   0%|          | 0/27 [00:00<?, ?it/s]"
      ]
     },
     "metadata": {},
     "output_type": "display_data"
    },
    {
     "data": {
      "application/vnd.jupyter.widget-view+json": {
       "model_id": "7596784dfe2f4cd79fbea395ca534c20",
       "version_major": 2,
       "version_minor": 0
      },
      "text/plain": [
       "Train 18/30:   0%|          | 0/27 [00:00<?, ?it/s]"
      ]
     },
     "metadata": {},
     "output_type": "display_data"
    },
    {
     "data": {
      "application/vnd.jupyter.widget-view+json": {
       "model_id": "4b6f98b4a42e40f6bc2b12cd6d3145a9",
       "version_major": 2,
       "version_minor": 0
      },
      "text/plain": [
       "Valid 18/30:   0%|          | 0/27 [00:00<?, ?it/s]"
      ]
     },
     "metadata": {},
     "output_type": "display_data"
    },
    {
     "data": {
      "application/vnd.jupyter.widget-view+json": {
       "model_id": "e02ec04930cb485c9debb8bd97ccf9ed",
       "version_major": 2,
       "version_minor": 0
      },
      "text/plain": [
       "Train 19/30:   0%|          | 0/27 [00:00<?, ?it/s]"
      ]
     },
     "metadata": {},
     "output_type": "display_data"
    },
    {
     "data": {
      "application/vnd.jupyter.widget-view+json": {
       "model_id": "0b419f0f24314d18b8d62a17e06a14ab",
       "version_major": 2,
       "version_minor": 0
      },
      "text/plain": [
       "Valid 19/30:   0%|          | 0/27 [00:00<?, ?it/s]"
      ]
     },
     "metadata": {},
     "output_type": "display_data"
    },
    {
     "data": {
      "application/vnd.jupyter.widget-view+json": {
       "model_id": "2e0bd7df677b4493a259420943781972",
       "version_major": 2,
       "version_minor": 0
      },
      "text/plain": [
       "Train 20/30:   0%|          | 0/27 [00:00<?, ?it/s]"
      ]
     },
     "metadata": {},
     "output_type": "display_data"
    },
    {
     "data": {
      "application/vnd.jupyter.widget-view+json": {
       "model_id": "53e77943ff674a0494f851e7586e9a3c",
       "version_major": 2,
       "version_minor": 0
      },
      "text/plain": [
       "Valid 20/30:   0%|          | 0/27 [00:00<?, ?it/s]"
      ]
     },
     "metadata": {},
     "output_type": "display_data"
    },
    {
     "name": "stdout",
     "output_type": "stream",
     "text": [
      "[Epoch 20] Train Loss=0.8916, Valid Loss=0.8782, Train MAPE=0.9571, Valid MAPE=0.6607\n"
     ]
    },
    {
     "data": {
      "application/vnd.jupyter.widget-view+json": {
       "model_id": "3dea8a546db74c4cb2784cff811f7738",
       "version_major": 2,
       "version_minor": 0
      },
      "text/plain": [
       "Train 21/30:   0%|          | 0/27 [00:00<?, ?it/s]"
      ]
     },
     "metadata": {},
     "output_type": "display_data"
    },
    {
     "data": {
      "application/vnd.jupyter.widget-view+json": {
       "model_id": "3d3aff4fbe0d4ca4b091fda3e30a58a9",
       "version_major": 2,
       "version_minor": 0
      },
      "text/plain": [
       "Valid 21/30:   0%|          | 0/27 [00:00<?, ?it/s]"
      ]
     },
     "metadata": {},
     "output_type": "display_data"
    },
    {
     "data": {
      "application/vnd.jupyter.widget-view+json": {
       "model_id": "629ba80f610c4145ba33662baf1e92ac",
       "version_major": 2,
       "version_minor": 0
      },
      "text/plain": [
       "Train 22/30:   0%|          | 0/27 [00:00<?, ?it/s]"
      ]
     },
     "metadata": {},
     "output_type": "display_data"
    },
    {
     "data": {
      "application/vnd.jupyter.widget-view+json": {
       "model_id": "68bb4162f48b4f809bfc4b00ad7d7738",
       "version_major": 2,
       "version_minor": 0
      },
      "text/plain": [
       "Valid 22/30:   0%|          | 0/27 [00:00<?, ?it/s]"
      ]
     },
     "metadata": {},
     "output_type": "display_data"
    },
    {
     "data": {
      "application/vnd.jupyter.widget-view+json": {
       "model_id": "8503e434ebc446109bf90bc608e51f75",
       "version_major": 2,
       "version_minor": 0
      },
      "text/plain": [
       "Train 23/30:   0%|          | 0/27 [00:00<?, ?it/s]"
      ]
     },
     "metadata": {},
     "output_type": "display_data"
    },
    {
     "data": {
      "application/vnd.jupyter.widget-view+json": {
       "model_id": "d70042cdffad41069d5e585dd6f55132",
       "version_major": 2,
       "version_minor": 0
      },
      "text/plain": [
       "Valid 23/30:   0%|          | 0/27 [00:00<?, ?it/s]"
      ]
     },
     "metadata": {},
     "output_type": "display_data"
    },
    {
     "data": {
      "application/vnd.jupyter.widget-view+json": {
       "model_id": "2718f187bab748bda058702918c5ffbd",
       "version_major": 2,
       "version_minor": 0
      },
      "text/plain": [
       "Train 24/30:   0%|          | 0/27 [00:00<?, ?it/s]"
      ]
     },
     "metadata": {},
     "output_type": "display_data"
    },
    {
     "data": {
      "application/vnd.jupyter.widget-view+json": {
       "model_id": "17fb0793a2c14d7bbfaf92563d1086ca",
       "version_major": 2,
       "version_minor": 0
      },
      "text/plain": [
       "Valid 24/30:   0%|          | 0/27 [00:00<?, ?it/s]"
      ]
     },
     "metadata": {},
     "output_type": "display_data"
    },
    {
     "data": {
      "application/vnd.jupyter.widget-view+json": {
       "model_id": "9407110fb81b436086168e2120e17cfe",
       "version_major": 2,
       "version_minor": 0
      },
      "text/plain": [
       "Train 25/30:   0%|          | 0/27 [00:00<?, ?it/s]"
      ]
     },
     "metadata": {},
     "output_type": "display_data"
    },
    {
     "data": {
      "application/vnd.jupyter.widget-view+json": {
       "model_id": "e2e445ee96054898a5de079644e1474f",
       "version_major": 2,
       "version_minor": 0
      },
      "text/plain": [
       "Valid 25/30:   0%|          | 0/27 [00:00<?, ?it/s]"
      ]
     },
     "metadata": {},
     "output_type": "display_data"
    },
    {
     "name": "stdout",
     "output_type": "stream",
     "text": [
      "[Epoch 25] Train Loss=0.8647, Valid Loss=0.8352, Train MAPE=0.8708, Valid MAPE=0.5094\n"
     ]
    },
    {
     "data": {
      "application/vnd.jupyter.widget-view+json": {
       "model_id": "3472fa6dd3514c0fb743e895b5ef39a7",
       "version_major": 2,
       "version_minor": 0
      },
      "text/plain": [
       "Train 26/30:   0%|          | 0/27 [00:00<?, ?it/s]"
      ]
     },
     "metadata": {},
     "output_type": "display_data"
    },
    {
     "data": {
      "application/vnd.jupyter.widget-view+json": {
       "model_id": "2e7153d2be19421cbdb41897a493b1c7",
       "version_major": 2,
       "version_minor": 0
      },
      "text/plain": [
       "Valid 26/30:   0%|          | 0/27 [00:00<?, ?it/s]"
      ]
     },
     "metadata": {},
     "output_type": "display_data"
    },
    {
     "data": {
      "application/vnd.jupyter.widget-view+json": {
       "model_id": "322ecfe7f87e4f1eb71e24a4abd405c7",
       "version_major": 2,
       "version_minor": 0
      },
      "text/plain": [
       "Train 27/30:   0%|          | 0/27 [00:00<?, ?it/s]"
      ]
     },
     "metadata": {},
     "output_type": "display_data"
    },
    {
     "data": {
      "application/vnd.jupyter.widget-view+json": {
       "model_id": "42b53a00e6ea436ab49ed74a44e7f2e7",
       "version_major": 2,
       "version_minor": 0
      },
      "text/plain": [
       "Valid 27/30:   0%|          | 0/27 [00:00<?, ?it/s]"
      ]
     },
     "metadata": {},
     "output_type": "display_data"
    },
    {
     "data": {
      "application/vnd.jupyter.widget-view+json": {
       "model_id": "88a751c9bbe84e12832041babc762cce",
       "version_major": 2,
       "version_minor": 0
      },
      "text/plain": [
       "Train 28/30:   0%|          | 0/27 [00:00<?, ?it/s]"
      ]
     },
     "metadata": {},
     "output_type": "display_data"
    },
    {
     "data": {
      "application/vnd.jupyter.widget-view+json": {
       "model_id": "1480014898ec43299097b4961cc7cfaf",
       "version_major": 2,
       "version_minor": 0
      },
      "text/plain": [
       "Valid 28/30:   0%|          | 0/27 [00:00<?, ?it/s]"
      ]
     },
     "metadata": {},
     "output_type": "display_data"
    },
    {
     "data": {
      "application/vnd.jupyter.widget-view+json": {
       "model_id": "626e261f73344ad696a48c719c1178e4",
       "version_major": 2,
       "version_minor": 0
      },
      "text/plain": [
       "Train 29/30:   0%|          | 0/27 [00:00<?, ?it/s]"
      ]
     },
     "metadata": {},
     "output_type": "display_data"
    },
    {
     "data": {
      "application/vnd.jupyter.widget-view+json": {
       "model_id": "88de62b81f1b4201b746a63666bb0d37",
       "version_major": 2,
       "version_minor": 0
      },
      "text/plain": [
       "Valid 29/30:   0%|          | 0/27 [00:00<?, ?it/s]"
      ]
     },
     "metadata": {},
     "output_type": "display_data"
    },
    {
     "data": {
      "application/vnd.jupyter.widget-view+json": {
       "model_id": "beea0cb40bb243a5826acb7832a806d4",
       "version_major": 2,
       "version_minor": 0
      },
      "text/plain": [
       "Train 30/30:   0%|          | 0/27 [00:00<?, ?it/s]"
      ]
     },
     "metadata": {},
     "output_type": "display_data"
    },
    {
     "data": {
      "application/vnd.jupyter.widget-view+json": {
       "model_id": "558d78a69e04496185a04cdc60af5548",
       "version_major": 2,
       "version_minor": 0
      },
      "text/plain": [
       "Valid 30/30:   0%|          | 0/27 [00:00<?, ?it/s]"
      ]
     },
     "metadata": {},
     "output_type": "display_data"
    },
    {
     "name": "stdout",
     "output_type": "stream",
     "text": [
      "[Epoch 30] Train Loss=0.8395, Valid Loss=0.8124, Train MAPE=0.8075, Valid MAPE=0.5013\n"
     ]
    },
    {
     "data": {
      "image/png": "[encoded data removed]",
      "text/plain": [
       "<Figure size 640x480 with 1 Axes>"
      ]
     },
     "metadata": {},
     "output_type": "display_data"
    },
    {
     "data": {
      "image/png": "[encoded data removed]",
      "text/plain": [
       "<Figure size 640x480 with 1 Axes>"
      ]
     },
     "metadata": {},
     "output_type": "display_data"
    },
    {
     "data": {
      "image/png": "[encoded data removed]",
      "text/plain": [
       "<Figure size 600x400 with 1 Axes>"
      ]
     },
     "metadata": {},
     "output_type": "display_data"
    },
    {
     "name": "stdout",
     "output_type": "stream",
     "text": [
      "Seed=0, 조합 인덱스=2\n"
     ]
    },
    {
     "data": {
      "application/vnd.jupyter.widget-view+json": {
       "model_id": "df39190cebfc47f1ab95a182f0e22c30",
       "version_major": 2,
       "version_minor": 0
      },
      "text/plain": [
       "Epoch:   0%|          | 0/30 [00:00<?, ?it/s]"
      ]
     },
     "metadata": {},
     "output_type": "display_data"
    },
    {
     "data": {
      "application/vnd.jupyter.widget-view+json": {
       "model_id": "56acb63dba09477cbfc43ed3dbeb1fd7",
       "version_major": 2,
       "version_minor": 0
      },
      "text/plain": [
       "Train 1/30:   0%|          | 0/27 [00:00<?, ?it/s]"
      ]
     },
     "metadata": {},
     "output_type": "display_data"
    },
    {
     "data": {
      "application/vnd.jupyter.widget-view+json": {
       "model_id": "00b4a50d2e794e9eb6046abc4a9543b9",
       "version_major": 2,
       "version_minor": 0
      },
      "text/plain": [
       "Valid 1/30:   0%|          | 0/27 [00:00<?, ?it/s]"
      ]
     },
     "metadata": {},
     "output_type": "display_data"
    },
    {
     "data": {
      "application/vnd.jupyter.widget-view+json": {
       "model_id": "1ded360023d24c8995c421445e3f1d19",
       "version_major": 2,
       "version_minor": 0
      },
      "text/plain": [
       "Train 2/30:   0%|          | 0/27 [00:00<?, ?it/s]"
      ]
     },
     "metadata": {},
     "output_type": "display_data"
    },
    {
     "data": {
      "application/vnd.jupyter.widget-view+json": {
       "model_id": "38ca542d658e46a38c1d9a971615e28b",
       "version_major": 2,
       "version_minor": 0
      },
      "text/plain": [
       "Valid 2/30:   0%|          | 0/27 [00:00<?, ?it/s]"
      ]
     },
     "metadata": {},
     "output_type": "display_data"
    },
    {
     "data": {
      "application/vnd.jupyter.widget-view+json": {
       "model_id": "1262946dd252445a8a9f926ea26cb9cb",
       "version_major": 2,
       "version_minor": 0
      },
      "text/plain": [
       "Train 3/30:   0%|          | 0/27 [00:00<?, ?it/s]"
      ]
     },
     "metadata": {},
     "output_type": "display_data"
    },
    {
     "data": {
      "application/vnd.jupyter.widget-view+json": {
       "model_id": "917c01da0a354f109ad137a2ef5d8680",
       "version_major": 2,
       "version_minor": 0
      },
      "text/plain": [
       "Valid 3/30:   0%|          | 0/27 [00:00<?, ?it/s]"
      ]
     },
     "metadata": {},
     "output_type": "display_data"
    },
    {
     "data": {
      "application/vnd.jupyter.widget-view+json": {
       "model_id": "ec7b336b7c6b44a98279e30a585395a4",
       "version_major": 2,
       "version_minor": 0
      },
      "text/plain": [
       "Train 4/30:   0%|          | 0/27 [00:00<?, ?it/s]"
      ]
     },
     "metadata": {},
     "output_type": "display_data"
    },
    {
     "data": {
      "application/vnd.jupyter.widget-view+json": {
       "model_id": "7f2acd021dc8440d81bf94a701dcd3a0",
       "version_major": 2,
       "version_minor": 0
      },
      "text/plain": [
       "Valid 4/30:   0%|          | 0/27 [00:00<?, ?it/s]"
      ]
     },
     "metadata": {},
     "output_type": "display_data"
    },
    {
     "data": {
      "application/vnd.jupyter.widget-view+json": {
       "model_id": "7704aa5c159e484e91a4a1892ac4265c",
       "version_major": 2,
       "version_minor": 0
      },
      "text/plain": [
       "Train 5/30:   0%|          | 0/27 [00:00<?, ?it/s]"
      ]
     },
     "metadata": {},
     "output_type": "display_data"
    },
    {
     "data": {
      "application/vnd.jupyter.widget-view+json": {
       "model_id": "bf46dc3dd10643c4a940b6a254c92d59",
       "version_major": 2,
       "version_minor": 0
      },
      "text/plain": [
       "Valid 5/30:   0%|          | 0/27 [00:00<?, ?it/s]"
      ]
     },
     "metadata": {},
     "output_type": "display_data"
    },
    {
     "name": "stdout",
     "output_type": "stream",
     "text": [
      "[Epoch 5] Train Loss=1.2996, Valid Loss=1.2191, Train MAPE=1.5036, Valid MAPE=0.9532\n"
     ]
    },
    {
     "data": {
      "application/vnd.jupyter.widget-view+json": {
       "model_id": "44eeee033a98408bb7576d5e8ff4a871",
       "version_major": 2,
       "version_minor": 0
      },
      "text/plain": [
       "Train 6/30:   0%|          | 0/27 [00:00<?, ?it/s]"
      ]
     },
     "metadata": {},
     "output_type": "display_data"
    },
    {
     "data": {
      "application/vnd.jupyter.widget-view+json": {
       "model_id": "3299a0e4ac1f44d4b4134cc4b7eaee57",
       "version_major": 2,
       "version_minor": 0
      },
      "text/plain": [
       "Valid 6/30:   0%|          | 0/27 [00:00<?, ?it/s]"
      ]
     },
     "metadata": {},
     "output_type": "display_data"
    },
    {
     "data": {
      "application/vnd.jupyter.widget-view+json": {
       "model_id": "36da80859dc34d0f9a654e2548542c52",
       "version_major": 2,
       "version_minor": 0
      },
      "text/plain": [
       "Train 7/30:   0%|          | 0/27 [00:00<?, ?it/s]"
      ]
     },
     "metadata": {},
     "output_type": "display_data"
    },
    {
     "data": {
      "application/vnd.jupyter.widget-view+json": {
       "model_id": "ce5ed0ada6e441eb9bbcd2576ba37019",
       "version_major": 2,
       "version_minor": 0
      },
      "text/plain": [
       "Valid 7/30:   0%|          | 0/27 [00:00<?, ?it/s]"
      ]
     },
     "metadata": {},
     "output_type": "display_data"
    },
    {
     "data": {
      "application/vnd.jupyter.widget-view+json": {
       "model_id": "f3be44957362401eb2ee69ff1a4475f9",
       "version_major": 2,
       "version_minor": 0
      },
      "text/plain": [
       "Train 8/30:   0%|          | 0/27 [00:00<?, ?it/s]"
      ]
     },
     "metadata": {},
     "output_type": "display_data"
    },
    {
     "data": {
      "application/vnd.jupyter.widget-view+json": {
       "model_id": "63153970374e43eca2390372ae1ddbdd",
       "version_major": 2,
       "version_minor": 0
      },
      "text/plain": [
       "Valid 8/30:   0%|          | 0/27 [00:00<?, ?it/s]"
      ]
     },
     "metadata": {},
     "output_type": "display_data"
    },
    {
     "data": {
      "application/vnd.jupyter.widget-view+json": {
       "model_id": "70b55457eda94efa920231e945a427c2",
       "version_major": 2,
       "version_minor": 0
      },
      "text/plain": [
       "Train 9/30:   0%|          | 0/27 [00:00<?, ?it/s]"
      ]
     },
     "metadata": {},
     "output_type": "display_data"
    },
    {
     "data": {
      "application/vnd.jupyter.widget-view+json": {
       "model_id": "5f0684aa145a4757b19eeaa219384316",
       "version_major": 2,
       "version_minor": 0
      },
      "text/plain": [
       "Valid 9/30:   0%|          | 0/27 [00:00<?, ?it/s]"
      ]
     },
     "metadata": {},
     "output_type": "display_data"
    },
    {
     "data": {
      "application/vnd.jupyter.widget-view+json": {
       "model_id": "e9487524cbf84e25b067c5463907cf8b",
       "version_major": 2,
       "version_minor": 0
      },
      "text/plain": [
       "Train 10/30:   0%|          | 0/27 [00:00<?, ?it/s]"
      ]
     },
     "metadata": {},
     "output_type": "display_data"
    },
    {
     "data": {
      "application/vnd.jupyter.widget-view+json": {
       "model_id": "81a47a775a86421bbc748a8659effed7",
       "version_major": 2,
       "version_minor": 0
      },
      "text/plain": [
       "Valid 10/30:   0%|          | 0/27 [00:00<?, ?it/s]"
      ]
     },
     "metadata": {},
     "output_type": "display_data"
    },
    {
     "name": "stdout",
     "output_type": "stream",
     "text": [
      "[Epoch 10] Train Loss=0.9971, Valid Loss=0.9886, Train MAPE=1.1835, Valid MAPE=0.7000\n"
     ]
    },
    {
     "data": {
      "application/vnd.jupyter.widget-view+json": {
       "model_id": "3e45739ff8ff419fb2e92665040bb54d",
       "version_major": 2,
       "version_minor": 0
      },
      "text/plain": [
       "Train 11/30:   0%|          | 0/27 [00:00<?, ?it/s]"
      ]
     },
     "metadata": {},
     "output_type": "display_data"
    },
    {
     "data": {
      "application/vnd.jupyter.widget-view+json": {
       "model_id": "2bba0a62860d455f8fcae9f06e952d25",
       "version_major": 2,
       "version_minor": 0
      },
      "text/plain": [
       "Valid 11/30:   0%|          | 0/27 [00:00<?, ?it/s]"
      ]
     },
     "metadata": {},
     "output_type": "display_data"
    },
    {
     "data": {
      "application/vnd.jupyter.widget-view+json": {
       "model_id": "e57a71a9bc0b41308fc6f61557ea010f",
       "version_major": 2,
       "version_minor": 0
      },
      "text/plain": [
       "Train 12/30:   0%|          | 0/27 [00:00<?, ?it/s]"
      ]
     },
     "metadata": {},
     "output_type": "display_data"
    },
    {
     "data": {
      "application/vnd.jupyter.widget-view+json": {
       "model_id": "1c9c57f6916d4d52ba200f90c86e30c4",
       "version_major": 2,
       "version_minor": 0
      },
      "text/plain": [
       "Valid 12/30:   0%|          | 0/27 [00:00<?, ?it/s]"
      ]
     },
     "metadata": {},
     "output_type": "display_data"
    },
    {
     "data": {
      "application/vnd.jupyter.widget-view+json": {
       "model_id": "f32e0165b9fd45768bc1c71df7a3030e",
       "version_major": 2,
       "version_minor": 0
      },
      "text/plain": [
       "Train 13/30:   0%|          | 0/27 [00:00<?, ?it/s]"
      ]
     },
     "metadata": {},
     "output_type": "display_data"
    },
    {
     "data": {
      "application/vnd.jupyter.widget-view+json": {
       "model_id": "8187b6dd43ac49da8b8a9598b0bddf09",
       "version_major": 2,
       "version_minor": 0
      },
      "text/plain": [
       "Valid 13/30:   0%|          | 0/27 [00:00<?, ?it/s]"
      ]
     },
     "metadata": {},
     "output_type": "display_data"
    },
    {
     "data": {
      "application/vnd.jupyter.widget-view+json": {
       "model_id": "554134d56b394980a3ed9d62328893e5",
       "version_major": 2,
       "version_minor": 0
      },
      "text/plain": [
       "Train 14/30:   0%|          | 0/27 [00:00<?, ?it/s]"
      ]
     },
     "metadata": {},
     "output_type": "display_data"
    },
    {
     "data": {
      "application/vnd.jupyter.widget-view+json": {
       "model_id": "9ad570c65967452984ddc8629514d1d4",
       "version_major": 2,
       "version_minor": 0
      },
      "text/plain": [
       "Valid 14/30:   0%|          | 0/27 [00:00<?, ?it/s]"
      ]
     },
     "metadata": {},
     "output_type": "display_data"
    },
    {
     "data": {
      "application/vnd.jupyter.widget-view+json": {
       "model_id": "c169ea42c7384af1b86d8eacab6d3715",
       "version_major": 2,
       "version_minor": 0
      },
      "text/plain": [
       "Train 15/30:   0%|          | 0/27 [00:00<?, ?it/s]"
      ]
     },
     "metadata": {},
     "output_type": "display_data"
    },
    {
     "data": {
      "application/vnd.jupyter.widget-view+json": {
       "model_id": "8c0d008da66c474fb777764ba39179f5",
       "version_major": 2,
       "version_minor": 0
      },
      "text/plain": [
       "Valid 15/30:   0%|          | 0/27 [00:00<?, ?it/s]"
      ]
     },
     "metadata": {},
     "output_type": "display_data"
    },
    {
     "name": "stdout",
     "output_type": "stream",
     "text": [
      "[Epoch 15] Train Loss=0.9352, Valid Loss=0.9126, Train MAPE=1.0300, Valid MAPE=0.6346\n"
     ]
    },
    {
     "data": {
      "application/vnd.jupyter.widget-view+json": {
       "model_id": "8d349d5d55e44d09aebc92ae5bd283d2",
       "version_major": 2,
       "version_minor": 0
      },
      "text/plain": [
       "Train 16/30:   0%|          | 0/27 [00:00<?, ?it/s]"
      ]
     },
     "metadata": {},
     "output_type": "display_data"
    },
    {
     "data": {
      "application/vnd.jupyter.widget-view+json": {
       "model_id": "5998463d070247a6b4b3632a0b89597e",
       "version_major": 2,
       "version_minor": 0
      },
      "text/plain": [
       "Valid 16/30:   0%|          | 0/27 [00:00<?, ?it/s]"
      ]
     },
     "metadata": {},
     "output_type": "display_data"
    },
    {
     "data": {
      "application/vnd.jupyter.widget-view+json": {
       "model_id": "1f2c9e1bfbcd46bdaef57c5f9a2be0c3",
       "version_major": 2,
       "version_minor": 0
      },
      "text/plain": [
       "Train 17/30:   0%|          | 0/27 [00:00<?, ?it/s]"
      ]
     },
     "metadata": {},
     "output_type": "display_data"
    },
    {
     "data": {
      "application/vnd.jupyter.widget-view+json": {
       "model_id": "03ad34f20f614c2bae2adfbcdad871e6",
       "version_major": 2,
       "version_minor": 0
      },
      "text/plain": [
       "Valid 17/30:   0%|          | 0/27 [00:00<?, ?it/s]"
      ]
     },
     "metadata": {},
     "output_type": "display_data"
    },
    {
     "data": {
      "application/vnd.jupyter.widget-view+json": {
       "model_id": "a2945f7161ba43a696afc5229c5a88da",
       "version_major": 2,
       "version_minor": 0
      },
      "text/plain": [
       "Train 18/30:   0%|          | 0/27 [00:00<?, ?it/s]"
      ]
     },
     "metadata": {},
     "output_type": "display_data"
    },
    {
     "data": {
      "application/vnd.jupyter.widget-view+json": {
       "model_id": "bb26981efb3d4b8e8b77a9ec94f56577",
       "version_major": 2,
       "version_minor": 0
      },
      "text/plain": [
       "Valid 18/30:   0%|          | 0/27 [00:00<?, ?it/s]"
      ]
     },
     "metadata": {},
     "output_type": "display_data"
    },
    {
     "data": {
      "application/vnd.jupyter.widget-view+json": {
       "model_id": "302911c950e742eea302963f24df14ad",
       "version_major": 2,
       "version_minor": 0
      },
      "text/plain": [
       "Train 19/30:   0%|          | 0/27 [00:00<?, ?it/s]"
      ]
     },
     "metadata": {},
     "output_type": "display_data"
    },
    {
     "data": {
      "application/vnd.jupyter.widget-view+json": {
       "model_id": "db53c750efa94ca689aca03a7712997a",
       "version_major": 2,
       "version_minor": 0
      },
      "text/plain": [
       "Valid 19/30:   0%|          | 0/27 [00:00<?, ?it/s]"
      ]
     },
     "metadata": {},
     "output_type": "display_data"
    },
    {
     "data": {
      "application/vnd.jupyter.widget-view+json": {
       "model_id": "a5803f4294714f48af9333bafbe3b82e",
       "version_major": 2,
       "version_minor": 0
      },
      "text/plain": [
       "Train 20/30:   0%|          | 0/27 [00:00<?, ?it/s]"
      ]
     },
     "metadata": {},
     "output_type": "display_data"
    },
    {
     "data": {
      "application/vnd.jupyter.widget-view+json": {
       "model_id": "98f95734989145f4931ba95ec483c983",
       "version_major": 2,
       "version_minor": 0
      },
      "text/plain": [
       "Valid 20/30:   0%|          | 0/27 [00:00<?, ?it/s]"
      ]
     },
     "metadata": {},
     "output_type": "display_data"
    },
    {
     "name": "stdout",
     "output_type": "stream",
     "text": [
      "[Epoch 20] Train Loss=0.8965, Valid Loss=0.8730, Train MAPE=0.9341, Valid MAPE=0.6752\n"
     ]
    },
    {
     "data": {
      "application/vnd.jupyter.widget-view+json": {
       "model_id": "f88407687a7041a484535ad59a8cdbe7",
       "version_major": 2,
       "version_minor": 0
      },
      "text/plain": [
       "Train 21/30:   0%|          | 0/27 [00:00<?, ?it/s]"
      ]
     },
     "metadata": {},
     "output_type": "display_data"
    },
    {
     "data": {
      "application/vnd.jupyter.widget-view+json": {
       "model_id": "a26483833b4244a0ace9c01731fd0f45",
       "version_major": 2,
       "version_minor": 0
      },
      "text/plain": [
       "Valid 21/30:   0%|          | 0/27 [00:00<?, ?it/s]"
      ]
     },
     "metadata": {},
     "output_type": "display_data"
    },
    {
     "data": {
      "application/vnd.jupyter.widget-view+json": {
       "model_id": "fe0bc5a0c13b4afe9e2069c6b6bd7f09",
       "version_major": 2,
       "version_minor": 0
      },
      "text/plain": [
       "Train 22/30:   0%|          | 0/27 [00:00<?, ?it/s]"
      ]
     },
     "metadata": {},
     "output_type": "display_data"
    },
    {
     "data": {
      "application/vnd.jupyter.widget-view+json": {
       "model_id": "8e3eb52148b048de99bdf370077c068e",
       "version_major": 2,
       "version_minor": 0
      },
      "text/plain": [
       "Valid 22/30:   0%|          | 0/27 [00:00<?, ?it/s]"
      ]
     },
     "metadata": {},
     "output_type": "display_data"
    },
    {
     "data": {
      "application/vnd.jupyter.widget-view+json": {
       "model_id": "082492a389104b8bbe6d296e10f75efe",
       "version_major": 2,
       "version_minor": 0
      },
      "text/plain": [
       "Train 23/30:   0%|          | 0/27 [00:00<?, ?it/s]"
      ]
     },
     "metadata": {},
     "output_type": "display_data"
    },
    {
     "data": {
      "application/vnd.jupyter.widget-view+json": {
       "model_id": "671de9b00caf456eb13a79c90aa4281b",
       "version_major": 2,
       "version_minor": 0
      },
      "text/plain": [
       "Valid 23/30:   0%|          | 0/27 [00:00<?, ?it/s]"
      ]
     },
     "metadata": {},
     "output_type": "display_data"
    },
    {
     "data": {
      "application/vnd.jupyter.widget-view+json": {
       "model_id": "6647e1f9af164f4dba0888cba08fe7a5",
       "version_major": 2,
       "version_minor": 0
      },
      "text/plain": [
       "Train 24/30:   0%|          | 0/27 [00:00<?, ?it/s]"
      ]
     },
     "metadata": {},
     "output_type": "display_data"
    },
    {
     "data": {
      "application/vnd.jupyter.widget-view+json": {
       "model_id": "1a15943625db4b44ad8def1487b4be99",
       "version_major": 2,
       "version_minor": 0
      },
      "text/plain": [
       "Valid 24/30:   0%|          | 0/27 [00:00<?, ?it/s]"
      ]
     },
     "metadata": {},
     "output_type": "display_data"
    },
    {
     "data": {
      "application/vnd.jupyter.widget-view+json": {
       "model_id": "ac8b5599c1a64e4aa436ee124eeec65c",
       "version_major": 2,
       "version_minor": 0
      },
      "text/plain": [
       "Train 25/30:   0%|          | 0/27 [00:00<?, ?it/s]"
      ]
     },
     "metadata": {},
     "output_type": "display_data"
    },
    {
     "data": {
      "application/vnd.jupyter.widget-view+json": {
       "model_id": "4a7c880de9bd4ab29dc431704a1212cc",
       "version_major": 2,
       "version_minor": 0
      },
      "text/plain": [
       "Valid 25/30:   0%|          | 0/27 [00:00<?, ?it/s]"
      ]
     },
     "metadata": {},
     "output_type": "display_data"
    },
    {
     "name": "stdout",
     "output_type": "stream",
     "text": [
      "[Epoch 25] Train Loss=0.8679, Valid Loss=0.8425, Train MAPE=0.8567, Valid MAPE=0.5935\n"
     ]
    },
    {
     "data": {
      "application/vnd.jupyter.widget-view+json": {
       "model_id": "ae4b350afa8b480785a91e4c22e501f1",
       "version_major": 2,
       "version_minor": 0
      },
      "text/plain": [
       "Train 26/30:   0%|          | 0/27 [00:00<?, ?it/s]"
      ]
     },
     "metadata": {},
     "output_type": "display_data"
    },
    {
     "data": {
      "application/vnd.jupyter.widget-view+json": {
       "model_id": "2694e70f91ca443c89447534d8264cf8",
       "version_major": 2,
       "version_minor": 0
      },
      "text/plain": [
       "Valid 26/30:   0%|          | 0/27 [00:00<?, ?it/s]"
      ]
     },
     "metadata": {},
     "output_type": "display_data"
    },
    {
     "data": {
      "application/vnd.jupyter.widget-view+json": {
       "model_id": "08bc4c611f0b404b8b42467455592e77",
       "version_major": 2,
       "version_minor": 0
      },
      "text/plain": [
       "Train 27/30:   0%|          | 0/27 [00:00<?, ?it/s]"
      ]
     },
     "metadata": {},
     "output_type": "display_data"
    },
    {
     "data": {
      "application/vnd.jupyter.widget-view+json": {
       "model_id": "4fa4d3e8e66d4329bb66ff86b701a88c",
       "version_major": 2,
       "version_minor": 0
      },
      "text/plain": [
       "Valid 27/30:   0%|          | 0/27 [00:00<?, ?it/s]"
      ]
     },
     "metadata": {},
     "output_type": "display_data"
    },
    {
     "data": {
      "application/vnd.jupyter.widget-view+json": {
       "model_id": "5a3b72dd4a59419197abe0238eeae5b4",
       "version_major": 2,
       "version_minor": 0
      },
      "text/plain": [
       "Train 28/30:   0%|          | 0/27 [00:00<?, ?it/s]"
      ]
     },
     "metadata": {},
     "output_type": "display_data"
    },
    {
     "data": {
      "application/vnd.jupyter.widget-view+json": {
       "model_id": "dc9d4319d31d43aa95cb8cab610b6c47",
       "version_major": 2,
       "version_minor": 0
      },
      "text/plain": [
       "Valid 28/30:   0%|          | 0/27 [00:00<?, ?it/s]"
      ]
     },
     "metadata": {},
     "output_type": "display_data"
    },
    {
     "data": {
      "application/vnd.jupyter.widget-view+json": {
       "model_id": "cb83e03ff3ea4777b6bab33bdf61fdd8",
       "version_major": 2,
       "version_minor": 0
      },
      "text/plain": [
       "Train 29/30:   0%|          | 0/27 [00:00<?, ?it/s]"
      ]
     },
     "metadata": {},
     "output_type": "display_data"
    },
    {
     "data": {
      "application/vnd.jupyter.widget-view+json": {
       "model_id": "dc4746038c65486a89d14ba199c05431",
       "version_major": 2,
       "version_minor": 0
      },
      "text/plain": [
       "Valid 29/30:   0%|          | 0/27 [00:00<?, ?it/s]"
      ]
     },
     "metadata": {},
     "output_type": "display_data"
    },
    {
     "data": {
      "application/vnd.jupyter.widget-view+json": {
       "model_id": "cf5b59b931da4b7b8a2e968c467ee4b0",
       "version_major": 2,
       "version_minor": 0
      },
      "text/plain": [
       "Train 30/30:   0%|          | 0/27 [00:00<?, ?it/s]"
      ]
     },
     "metadata": {},
     "output_type": "display_data"
    },
    {
     "data": {
      "application/vnd.jupyter.widget-view+json": {
       "model_id": "49fbbe1bdcef4ad1b83b9cf7bd753ed8",
       "version_major": 2,
       "version_minor": 0
      },
      "text/plain": [
       "Valid 30/30:   0%|          | 0/27 [00:00<?, ?it/s]"
      ]
     },
     "metadata": {},
     "output_type": "display_data"
    },
    {
     "name": "stdout",
     "output_type": "stream",
     "text": [
      "[Epoch 30] Train Loss=0.8383, Valid Loss=0.8129, Train MAPE=0.7871, Valid MAPE=0.4887\n"
     ]
    },
    {
     "data": {
      "application/vnd.jupyter.widget-view+json": {
       "model_id": "63ba6d6c3de24b9eb7df37ab911a37bb",
       "version_major": 2,
       "version_minor": 0
      },
      "text/plain": [
       "Epoch:   0%|          | 0/30 [00:00<?, ?it/s]"
      ]
     },
     "metadata": {},
     "output_type": "display_data"
    },
    {
     "data": {
      "application/vnd.jupyter.widget-view+json": {
       "model_id": "78ecdacef3c04025a05152e2443f7475",
       "version_major": 2,
       "version_minor": 0
      },
      "text/plain": [
       "Train 1/30:   0%|          | 0/27 [00:00<?, ?it/s]"
      ]
     },
     "metadata": {},
     "output_type": "display_data"
    },
    {
     "data": {
      "application/vnd.jupyter.widget-view+json": {
       "model_id": "13843aa6cdc24efaa0bf2ad1d64a7be0",
       "version_major": 2,
       "version_minor": 0
      },
      "text/plain": [
       "Valid 1/30:   0%|          | 0/27 [00:00<?, ?it/s]"
      ]
     },
     "metadata": {},
     "output_type": "display_data"
    },
    {
     "data": {
      "application/vnd.jupyter.widget-view+json": {
       "model_id": "572e6e6311b6473ba2ebc4e1849d56bd",
       "version_major": 2,
       "version_minor": 0
      },
      "text/plain": [
       "Train 2/30:   0%|          | 0/27 [00:00<?, ?it/s]"
      ]
     },
     "metadata": {},
     "output_type": "display_data"
    },
    {
     "data": {
      "application/vnd.jupyter.widget-view+json": {
       "model_id": "c03622ecb20044e5ab0ca299d87d7da3",
       "version_major": 2,
       "version_minor": 0
      },
      "text/plain": [
       "Valid 2/30:   0%|          | 0/27 [00:00<?, ?it/s]"
      ]
     },
     "metadata": {},
     "output_type": "display_data"
    },
    {
     "data": {
      "application/vnd.jupyter.widget-view+json": {
       "model_id": "809591d1e0ab430783e71bec2443d8a3",
       "version_major": 2,
       "version_minor": 0
      },
      "text/plain": [
       "Train 3/30:   0%|          | 0/27 [00:00<?, ?it/s]"
      ]
     },
     "metadata": {},
     "output_type": "display_data"
    },
    {
     "data": {
      "application/vnd.jupyter.widget-view+json": {
       "model_id": "854b8722b97f4e859a21014184a340d5",
       "version_major": 2,
       "version_minor": 0
      },
      "text/plain": [
       "Valid 3/30:   0%|          | 0/27 [00:00<?, ?it/s]"
      ]
     },
     "metadata": {},
     "output_type": "display_data"
    },
    {
     "data": {
      "application/vnd.jupyter.widget-view+json": {
       "model_id": "7eea924522c44c6da7e89ecda46dc8a2",
       "version_major": 2,
       "version_minor": 0
      },
      "text/plain": [
       "Train 4/30:   0%|          | 0/27 [00:00<?, ?it/s]"
      ]
     },
     "metadata": {},
     "output_type": "display_data"
    },
    {
     "data": {
      "application/vnd.jupyter.widget-view+json": {
       "model_id": "2e321b80d0e54860880067eeafd4993e",
       "version_major": 2,
       "version_minor": 0
      },
      "text/plain": [
       "Valid 4/30:   0%|          | 0/27 [00:00<?, ?it/s]"
      ]
     },
     "metadata": {},
     "output_type": "display_data"
    },
    {
     "data": {
      "application/vnd.jupyter.widget-view+json": {
       "model_id": "299a734b3adb42ba981cfbe1da7bd62c",
       "version_major": 2,
       "version_minor": 0
      },
      "text/plain": [
       "Train 5/30:   0%|          | 0/27 [00:00<?, ?it/s]"
      ]
     },
     "metadata": {},
     "output_type": "display_data"
    },
    {
     "data": {
      "application/vnd.jupyter.widget-view+json": {
       "model_id": "85561bf55a1a47bbb54fffdea6e10476",
       "version_major": 2,
       "version_minor": 0
      },
      "text/plain": [
       "Valid 5/30:   0%|          | 0/27 [00:00<?, ?it/s]"
      ]
     },
     "metadata": {},
     "output_type": "display_data"
    },
    {
     "name": "stdout",
     "output_type": "stream",
     "text": [
      "[Epoch 5] Train Loss=1.4277, Valid Loss=1.3425, Train MAPE=1.5052, Valid MAPE=0.9740\n"
     ]
    },
    {
     "data": {
      "application/vnd.jupyter.widget-view+json": {
       "model_id": "db74e8d7b3804805ac169d5e19866944",
       "version_major": 2,
       "version_minor": 0
      },
      "text/plain": [
       "Train 6/30:   0%|          | 0/27 [00:00<?, ?it/s]"
      ]
     },
     "metadata": {},
     "output_type": "display_data"
    },
    {
     "data": {
      "application/vnd.jupyter.widget-view+json": {
       "model_id": "b70df4efb86c46428b8766dd46d4ad0e",
       "version_major": 2,
       "version_minor": 0
      },
      "text/plain": [
       "Valid 6/30:   0%|          | 0/27 [00:00<?, ?it/s]"
      ]
     },
     "metadata": {},
     "output_type": "display_data"
    },
    {
     "data": {
      "application/vnd.jupyter.widget-view+json": {
       "model_id": "afe1f816b10741d6b60e870abf56dffe",
       "version_major": 2,
       "version_minor": 0
      },
      "text/plain": [
       "Train 7/30:   0%|          | 0/27 [00:00<?, ?it/s]"
      ]
     },
     "metadata": {},
     "output_type": "display_data"
    },
    {
     "data": {
      "application/vnd.jupyter.widget-view+json": {
       "model_id": "6e4cd5b43a774f8db8c882857b98efdd",
       "version_major": 2,
       "version_minor": 0
      },
      "text/plain": [
       "Valid 7/30:   0%|          | 0/27 [00:00<?, ?it/s]"
      ]
     },
     "metadata": {},
     "output_type": "display_data"
    },
    {
     "data": {
      "application/vnd.jupyter.widget-view+json": {
       "model_id": "41bfb9475d1340528177c9fccc521302",
       "version_major": 2,
       "version_minor": 0
      },
      "text/plain": [
       "Train 8/30:   0%|          | 0/27 [00:00<?, ?it/s]"
      ]
     },
     "metadata": {},
     "output_type": "display_data"
    },
    {
     "data": {
      "application/vnd.jupyter.widget-view+json": {
       "model_id": "b2169fd72fa34f80a23bde8deff4ee4f",
       "version_major": 2,
       "version_minor": 0
      },
      "text/plain": [
       "Valid 8/30:   0%|          | 0/27 [00:00<?, ?it/s]"
      ]
     },
     "metadata": {},
     "output_type": "display_data"
    },
    {
     "data": {
      "application/vnd.jupyter.widget-view+json": {
       "model_id": "aa48b7fd3cbf4650b1f444ff228069c5",
       "version_major": 2,
       "version_minor": 0
      },
      "text/plain": [
       "Train 9/30:   0%|          | 0/27 [00:00<?, ?it/s]"
      ]
     },
     "metadata": {},
     "output_type": "display_data"
    },
    {
     "data": {
      "application/vnd.jupyter.widget-view+json": {
       "model_id": "89beb6a9e40445699ca7458f9efc5648",
       "version_major": 2,
       "version_minor": 0
      },
      "text/plain": [
       "Valid 9/30:   0%|          | 0/27 [00:00<?, ?it/s]"
      ]
     },
     "metadata": {},
     "output_type": "display_data"
    },
    {
     "data": {
      "application/vnd.jupyter.widget-view+json": {
       "model_id": "cf8e7701eeba43c5a35aa349d68d6758",
       "version_major": 2,
       "version_minor": 0
      },
      "text/plain": [
       "Train 10/30:   0%|          | 0/27 [00:00<?, ?it/s]"
      ]
     },
     "metadata": {},
     "output_type": "display_data"
    },
    {
     "data": {
      "application/vnd.jupyter.widget-view+json": {
       "model_id": "0e593742d3624051a62ac87d54ad47ee",
       "version_major": 2,
       "version_minor": 0
      },
      "text/plain": [
       "Valid 10/30:   0%|          | 0/27 [00:00<?, ?it/s]"
      ]
     },
     "metadata": {},
     "output_type": "display_data"
    },
    {
     "name": "stdout",
     "output_type": "stream",
     "text": [
      "[Epoch 10] Train Loss=1.0215, Valid Loss=1.0175, Train MAPE=1.2193, Valid MAPE=0.7653\n"
     ]
    },
    {
     "data": {
      "application/vnd.jupyter.widget-view+json": {
       "model_id": "44588073930e433abb372d33239d7939",
       "version_major": 2,
       "version_minor": 0
      },
      "text/plain": [
       "Train 11/30:   0%|          | 0/27 [00:00<?, ?it/s]"
      ]
     },
     "metadata": {},
     "output_type": "display_data"
    },
    {
     "data": {
      "application/vnd.jupyter.widget-view+json": {
       "model_id": "84c0a29727ef42e5bcbd5ca78e2ceddb",
       "version_major": 2,
       "version_minor": 0
      },
      "text/plain": [
       "Valid 11/30:   0%|          | 0/27 [00:00<?, ?it/s]"
      ]
     },
     "metadata": {},
     "output_type": "display_data"
    },
    {
     "data": {
      "application/vnd.jupyter.widget-view+json": {
       "model_id": "aaf3b52192b844d0bfdf266ae6a3c96c",
       "version_major": 2,
       "version_minor": 0
      },
      "text/plain": [
       "Train 12/30:   0%|          | 0/27 [00:00<?, ?it/s]"
      ]
     },
     "metadata": {},
     "output_type": "display_data"
    },
    {
     "data": {
      "application/vnd.jupyter.widget-view+json": {
       "model_id": "5f8a2f46ead24e6ab5369f10055bf74d",
       "version_major": 2,
       "version_minor": 0
      },
      "text/plain": [
       "Valid 12/30:   0%|          | 0/27 [00:00<?, ?it/s]"
      ]
     },
     "metadata": {},
     "output_type": "display_data"
    },
    {
     "data": {
      "application/vnd.jupyter.widget-view+json": {
       "model_id": "0693de1dcf3a4db4b7c56e61601145aa",
       "version_major": 2,
       "version_minor": 0
      },
      "text/plain": [
       "Train 13/30:   0%|          | 0/27 [00:00<?, ?it/s]"
      ]
     },
     "metadata": {},
     "output_type": "display_data"
    },
    {
     "data": {
      "application/vnd.jupyter.widget-view+json": {
       "model_id": "c9afc3eda7ab4d7a8227b83c4e353af2",
       "version_major": 2,
       "version_minor": 0
      },
      "text/plain": [
       "Valid 13/30:   0%|          | 0/27 [00:00<?, ?it/s]"
      ]
     },
     "metadata": {},
     "output_type": "display_data"
    },
    {
     "data": {
      "application/vnd.jupyter.widget-view+json": {
       "model_id": "bcb7940f4f2b48ef902c5ee14005ad4d",
       "version_major": 2,
       "version_minor": 0
      },
      "text/plain": [
       "Train 14/30:   0%|          | 0/27 [00:00<?, ?it/s]"
      ]
     },
     "metadata": {},
     "output_type": "display_data"
    },
    {
     "data": {
      "application/vnd.jupyter.widget-view+json": {
       "model_id": "3fd693281f194a7091942508fa413931",
       "version_major": 2,
       "version_minor": 0
      },
      "text/plain": [
       "Valid 14/30:   0%|          | 0/27 [00:00<?, ?it/s]"
      ]
     },
     "metadata": {},
     "output_type": "display_data"
    },
    {
     "data": {
      "application/vnd.jupyter.widget-view+json": {
       "model_id": "3456bfea0a2e4bbf99502e7fa423f1f0",
       "version_major": 2,
       "version_minor": 0
      },
      "text/plain": [
       "Train 15/30:   0%|          | 0/27 [00:00<?, ?it/s]"
      ]
     },
     "metadata": {},
     "output_type": "display_data"
    },
    {
     "data": {
      "application/vnd.jupyter.widget-view+json": {
       "model_id": "2b75457d04f84f5f912285647dca0af6",
       "version_major": 2,
       "version_minor": 0
      },
      "text/plain": [
       "Valid 15/30:   0%|          | 0/27 [00:00<?, ?it/s]"
      ]
     },
     "metadata": {},
     "output_type": "display_data"
    },
    {
     "name": "stdout",
     "output_type": "stream",
     "text": [
      "[Epoch 15] Train Loss=0.9337, Valid Loss=0.9069, Train MAPE=1.0628, Valid MAPE=0.6217\n"
     ]
    },
    {
     "data": {
      "application/vnd.jupyter.widget-view+json": {
       "model_id": "3af7de7d100f463cac66cac48d478c6a",
       "version_major": 2,
       "version_minor": 0
      },
      "text/plain": [
       "Train 16/30:   0%|          | 0/27 [00:00<?, ?it/s]"
      ]
     },
     "metadata": {},
     "output_type": "display_data"
    },
    {
     "data": {
      "application/vnd.jupyter.widget-view+json": {
       "model_id": "f449c851919d41f58a75aaf166cbb87b",
       "version_major": 2,
       "version_minor": 0
      },
      "text/plain": [
       "Valid 16/30:   0%|          | 0/27 [00:00<?, ?it/s]"
      ]
     },
     "metadata": {},
     "output_type": "display_data"
    },
    {
     "data": {
      "application/vnd.jupyter.widget-view+json": {
       "model_id": "d463ebcef2344960a54c91e291682155",
       "version_major": 2,
       "version_minor": 0
      },
      "text/plain": [
       "Train 17/30:   0%|          | 0/27 [00:00<?, ?it/s]"
      ]
     },
     "metadata": {},
     "output_type": "display_data"
    },
    {
     "data": {
      "application/vnd.jupyter.widget-view+json": {
       "model_id": "eea7a2141fd145eeaeb8a30b453acf25",
       "version_major": 2,
       "version_minor": 0
      },
      "text/plain": [
       "Valid 17/30:   0%|          | 0/27 [00:00<?, ?it/s]"
      ]
     },
     "metadata": {},
     "output_type": "display_data"
    },
    {
     "data": {
      "application/vnd.jupyter.widget-view+json": {
       "model_id": "d35fd3de08e843cd8691c4d5dd763501",
       "version_major": 2,
       "version_minor": 0
      },
      "text/plain": [
       "Train 18/30:   0%|          | 0/27 [00:00<?, ?it/s]"
      ]
     },
     "metadata": {},
     "output_type": "display_data"
    },
    {
     "data": {
      "application/vnd.jupyter.widget-view+json": {
       "model_id": "bcb8344f3efe4f5cbdecdb58ca75fc02",
       "version_major": 2,
       "version_minor": 0
      },
      "text/plain": [
       "Valid 18/30:   0%|          | 0/27 [00:00<?, ?it/s]"
      ]
     },
     "metadata": {},
     "output_type": "display_data"
    },
    {
     "data": {
      "application/vnd.jupyter.widget-view+json": {
       "model_id": "9e703197c0b14e789bfcc7e9502d567f",
       "version_major": 2,
       "version_minor": 0
      },
      "text/plain": [
       "Train 19/30:   0%|          | 0/27 [00:00<?, ?it/s]"
      ]
     },
     "metadata": {},
     "output_type": "display_data"
    },
    {
     "data": {
      "application/vnd.jupyter.widget-view+json": {
       "model_id": "8226047b8f99450eba1d364fec6951a4",
       "version_major": 2,
       "version_minor": 0
      },
      "text/plain": [
       "Valid 19/30:   0%|          | 0/27 [00:00<?, ?it/s]"
      ]
     },
     "metadata": {},
     "output_type": "display_data"
    },
    {
     "data": {
      "application/vnd.jupyter.widget-view+json": {
       "model_id": "078b139307a24963a2aace1b115c27df",
       "version_major": 2,
       "version_minor": 0
      },
      "text/plain": [
       "Train 20/30:   0%|          | 0/27 [00:00<?, ?it/s]"
      ]
     },
     "metadata": {},
     "output_type": "display_data"
    },
    {
     "data": {
      "application/vnd.jupyter.widget-view+json": {
       "model_id": "1038a236061042f8aa0dfae4da60f045",
       "version_major": 2,
       "version_minor": 0
      },
      "text/plain": [
       "Valid 20/30:   0%|          | 0/27 [00:00<?, ?it/s]"
      ]
     },
     "metadata": {},
     "output_type": "display_data"
    },
    {
     "name": "stdout",
     "output_type": "stream",
     "text": [
      "[Epoch 20] Train Loss=0.8936, Valid Loss=0.8726, Train MAPE=0.9610, Valid MAPE=0.6719\n"
     ]
    },
    {
     "data": {
      "application/vnd.jupyter.widget-view+json": {
       "model_id": "6a039c223de645acbd056f7491ed211a",
       "version_major": 2,
       "version_minor": 0
      },
      "text/plain": [
       "Train 21/30:   0%|          | 0/27 [00:00<?, ?it/s]"
      ]
     },
     "metadata": {},
     "output_type": "display_data"
    },
    {
     "data": {
      "application/vnd.jupyter.widget-view+json": {
       "model_id": "000d67522a1e4e2680f382d47a6420b2",
       "version_major": 2,
       "version_minor": 0
      },
      "text/plain": [
       "Valid 21/30:   0%|          | 0/27 [00:00<?, ?it/s]"
      ]
     },
     "metadata": {},
     "output_type": "display_data"
    },
    {
     "data": {
      "application/vnd.jupyter.widget-view+json": {
       "model_id": "8912af08e4244ec88cdb4fd87a6f6b5b",
       "version_major": 2,
       "version_minor": 0
      },
      "text/plain": [
       "Train 22/30:   0%|          | 0/27 [00:00<?, ?it/s]"
      ]
     },
     "metadata": {},
     "output_type": "display_data"
    },
    {
     "data": {
      "application/vnd.jupyter.widget-view+json": {
       "model_id": "4812db3d54b34ac58f21859f51ad607d",
       "version_major": 2,
       "version_minor": 0
      },
      "text/plain": [
       "Valid 22/30:   0%|          | 0/27 [00:00<?, ?it/s]"
      ]
     },
     "metadata": {},
     "output_type": "display_data"
    },
    {
     "data": {
      "application/vnd.jupyter.widget-view+json": {
       "model_id": "48fedebf482c4e4cb9b38ea16aa16135",
       "version_major": 2,
       "version_minor": 0
      },
      "text/plain": [
       "Train 23/30:   0%|          | 0/27 [00:00<?, ?it/s]"
      ]
     },
     "metadata": {},
     "output_type": "display_data"
    },
    {
     "data": {
      "application/vnd.jupyter.widget-view+json": {
       "model_id": "a44aa50f7b574fe98644e51475e116c0",
       "version_major": 2,
       "version_minor": 0
      },
      "text/plain": [
       "Valid 23/30:   0%|          | 0/27 [00:00<?, ?it/s]"
      ]
     },
     "metadata": {},
     "output_type": "display_data"
    },
    {
     "data": {
      "application/vnd.jupyter.widget-view+json": {
       "model_id": "20dfa06fafc64b6b9c4647f435bc5aff",
       "version_major": 2,
       "version_minor": 0
      },
      "text/plain": [
       "Train 24/30:   0%|          | 0/27 [00:00<?, ?it/s]"
      ]
     },
     "metadata": {},
     "output_type": "display_data"
    },
    {
     "data": {
      "application/vnd.jupyter.widget-view+json": {
       "model_id": "1eef0dd4e2e0473c957c980cdaa675c0",
       "version_major": 2,
       "version_minor": 0
      },
      "text/plain": [
       "Valid 24/30:   0%|          | 0/27 [00:00<?, ?it/s]"
      ]
     },
     "metadata": {},
     "output_type": "display_data"
    },
    {
     "data": {
      "application/vnd.jupyter.widget-view+json": {
       "model_id": "b862e8ab474a48e490629b5b8c155e4e",
       "version_major": 2,
       "version_minor": 0
      },
      "text/plain": [
       "Train 25/30:   0%|          | 0/27 [00:00<?, ?it/s]"
      ]
     },
     "metadata": {},
     "output_type": "display_data"
    },
    {
     "data": {
      "application/vnd.jupyter.widget-view+json": {
       "model_id": "ef48a063770c42379ffaaca8e285780a",
       "version_major": 2,
       "version_minor": 0
      },
      "text/plain": [
       "Valid 25/30:   0%|          | 0/27 [00:00<?, ?it/s]"
      ]
     },
     "metadata": {},
     "output_type": "display_data"
    },
    {
     "name": "stdout",
     "output_type": "stream",
     "text": [
      "[Epoch 25] Train Loss=0.8646, Valid Loss=0.8333, Train MAPE=0.8691, Valid MAPE=0.5053\n"
     ]
    },
    {
     "data": {
      "application/vnd.jupyter.widget-view+json": {
       "model_id": "4cb3e75aa7984f70996f688231779212",
       "version_major": 2,
       "version_minor": 0
      },
      "text/plain": [
       "Train 26/30:   0%|          | 0/27 [00:00<?, ?it/s]"
      ]
     },
     "metadata": {},
     "output_type": "display_data"
    },
    {
     "data": {
      "application/vnd.jupyter.widget-view+json": {
       "model_id": "215bf1db3ede449f9e2221b39d6405e4",
       "version_major": 2,
       "version_minor": 0
      },
      "text/plain": [
       "Valid 26/30:   0%|          | 0/27 [00:00<?, ?it/s]"
      ]
     },
     "metadata": {},
     "output_type": "display_data"
    },
    {
     "data": {
      "application/vnd.jupyter.widget-view+json": {
       "model_id": "c4a51020073047b8b13a9f465ea404c5",
       "version_major": 2,
       "version_minor": 0
      },
      "text/plain": [
       "Train 27/30:   0%|          | 0/27 [00:00<?, ?it/s]"
      ]
     },
     "metadata": {},
     "output_type": "display_data"
    },
    {
     "data": {
      "application/vnd.jupyter.widget-view+json": {
       "model_id": "2772d4f271ab456d8f7cc6eb65825d14",
       "version_major": 2,
       "version_minor": 0
      },
      "text/plain": [
       "Valid 27/30:   0%|          | 0/27 [00:00<?, ?it/s]"
      ]
     },
     "metadata": {},
     "output_type": "display_data"
    },
    {
     "data": {
      "application/vnd.jupyter.widget-view+json": {
       "model_id": "023c42006689473b9002a6709c27b86d",
       "version_major": 2,
       "version_minor": 0
      },
      "text/plain": [
       "Train 28/30:   0%|          | 0/27 [00:00<?, ?it/s]"
      ]
     },
     "metadata": {},
     "output_type": "display_data"
    },
    {
     "data": {
      "application/vnd.jupyter.widget-view+json": {
       "model_id": "f051588248294d649978a3b1bfde7e2b",
       "version_major": 2,
       "version_minor": 0
      },
      "text/plain": [
       "Valid 28/30:   0%|          | 0/27 [00:00<?, ?it/s]"
      ]
     },
     "metadata": {},
     "output_type": "display_data"
    },
    {
     "data": {
      "application/vnd.jupyter.widget-view+json": {
       "model_id": "6eef228da20549bdabed5043826f4a9d",
       "version_major": 2,
       "version_minor": 0
      },
      "text/plain": [
       "Train 29/30:   0%|          | 0/27 [00:00<?, ?it/s]"
      ]
     },
     "metadata": {},
     "output_type": "display_data"
    },
    {
     "data": {
      "application/vnd.jupyter.widget-view+json": {
       "model_id": "2e43d7fa06184fddabd5e71d98fe0b1f",
       "version_major": 2,
       "version_minor": 0
      },
      "text/plain": [
       "Valid 29/30:   0%|          | 0/27 [00:00<?, ?it/s]"
      ]
     },
     "metadata": {},
     "output_type": "display_data"
    },
    {
     "data": {
      "application/vnd.jupyter.widget-view+json": {
       "model_id": "6945123218cb491c80ac7d8dd9faf356",
       "version_major": 2,
       "version_minor": 0
      },
      "text/plain": [
       "Train 30/30:   0%|          | 0/27 [00:00<?, ?it/s]"
      ]
     },
     "metadata": {},
     "output_type": "display_data"
    },
    {
     "data": {
      "application/vnd.jupyter.widget-view+json": {
       "model_id": "f3927cfffe3b452497f288058fdc25d7",
       "version_major": 2,
       "version_minor": 0
      },
      "text/plain": [
       "Valid 30/30:   0%|          | 0/27 [00:00<?, ?it/s]"
      ]
     },
     "metadata": {},
     "output_type": "display_data"
    },
    {
     "name": "stdout",
     "output_type": "stream",
     "text": [
      "[Epoch 30] Train Loss=0.8372, Valid Loss=0.8089, Train MAPE=0.8041, Valid MAPE=0.4924\n"
     ]
    },
    {
     "data": {
      "image/png": "[encoded data removed]",
      "text/plain": [
       "<Figure size 640x480 with 1 Axes>"
      ]
     },
     "metadata": {},
     "output_type": "display_data"
    },
    {
     "data": {
      "image/png": "[encoded data removed]",
      "text/plain": [
       "<Figure size 640x480 with 1 Axes>"
      ]
     },
     "metadata": {},
     "output_type": "display_data"
    },
    {
     "data": {
      "image/png": "[encoded data removed]",
      "text/plain": [
       "<Figure size 600x400 with 1 Axes>"
      ]
     },
     "metadata": {},
     "output_type": "display_data"
    },
    {
     "name": "stdout",
     "output_type": "stream",
     "text": [
      "Seed=0, 조합 인덱스=3\n"
     ]
    },
    {
     "data": {
      "application/vnd.jupyter.widget-view+json": {
       "model_id": "1922cd9c4abb4e8db435d147c2762bde",
       "version_major": 2,
       "version_minor": 0
      },
      "text/plain": [
       "Epoch:   0%|          | 0/30 [00:00<?, ?it/s]"
      ]
     },
     "metadata": {},
     "output_type": "display_data"
    },
    {
     "data": {
      "application/vnd.jupyter.widget-view+json": {
       "model_id": "9472deac27a341c19382eda9b6930a0c",
       "version_major": 2,
       "version_minor": 0
      },
      "text/plain": [
       "Train 1/30:   0%|          | 0/27 [00:00<?, ?it/s]"
      ]
     },
     "metadata": {},
     "output_type": "display_data"
    },
    {
     "data": {
      "application/vnd.jupyter.widget-view+json": {
       "model_id": "830fbaf25ec9412eae81fe2bb03dac56",
       "version_major": 2,
       "version_minor": 0
      },
      "text/plain": [
       "Valid 1/30:   0%|          | 0/27 [00:00<?, ?it/s]"
      ]
     },
     "metadata": {},
     "output_type": "display_data"
    },
    {
     "data": {
      "application/vnd.jupyter.widget-view+json": {
       "model_id": "08a55c4707804805a5bb27e94b92764b",
       "version_major": 2,
       "version_minor": 0
      },
      "text/plain": [
       "Train 2/30:   0%|          | 0/27 [00:00<?, ?it/s]"
      ]
     },
     "metadata": {},
     "output_type": "display_data"
    },
    {
     "data": {
      "application/vnd.jupyter.widget-view+json": {
       "model_id": "106b007069034036a388789da7c6d350",
       "version_major": 2,
       "version_minor": 0
      },
      "text/plain": [
       "Valid 2/30:   0%|          | 0/27 [00:00<?, ?it/s]"
      ]
     },
     "metadata": {},
     "output_type": "display_data"
    },
    {
     "data": {
      "application/vnd.jupyter.widget-view+json": {
       "model_id": "dafd269bf8d943578e7abb0fe1a593c8",
       "version_major": 2,
       "version_minor": 0
      },
      "text/plain": [
       "Train 3/30:   0%|          | 0/27 [00:00<?, ?it/s]"
      ]
     },
     "metadata": {},
     "output_type": "display_data"
    },
    {
     "data": {
      "application/vnd.jupyter.widget-view+json": {
       "model_id": "d95a3c9e099a418781c3b9b46bf2e4dd",
       "version_major": 2,
       "version_minor": 0
      },
      "text/plain": [
       "Valid 3/30:   0%|          | 0/27 [00:00<?, ?it/s]"
      ]
     },
     "metadata": {},
     "output_type": "display_data"
    },
    {
     "data": {
      "application/vnd.jupyter.widget-view+json": {
       "model_id": "5c4ad9fa35384e83a20722ab6e9a59cb",
       "version_major": 2,
       "version_minor": 0
      },
      "text/plain": [
       "Train 4/30:   0%|          | 0/27 [00:00<?, ?it/s]"
      ]
     },
     "metadata": {},
     "output_type": "display_data"
    },
    {
     "data": {
      "application/vnd.jupyter.widget-view+json": {
       "model_id": "de0ec2f230e243f0acb55eed21b2e0ef",
       "version_major": 2,
       "version_minor": 0
      },
      "text/plain": [
       "Valid 4/30:   0%|          | 0/27 [00:00<?, ?it/s]"
      ]
     },
     "metadata": {},
     "output_type": "display_data"
    },
    {
     "data": {
      "application/vnd.jupyter.widget-view+json": {
       "model_id": "51ab3d77ae974b05920ecef6ec1768a7",
       "version_major": 2,
       "version_minor": 0
      },
      "text/plain": [
       "Train 5/30:   0%|          | 0/27 [00:00<?, ?it/s]"
      ]
     },
     "metadata": {},
     "output_type": "display_data"
    },
    {
     "data": {
      "application/vnd.jupyter.widget-view+json": {
       "model_id": "dbaf4c6e15884de58039d54ed7febc25",
       "version_major": 2,
       "version_minor": 0
      },
      "text/plain": [
       "Valid 5/30:   0%|          | 0/27 [00:00<?, ?it/s]"
      ]
     },
     "metadata": {},
     "output_type": "display_data"
    },
    {
     "name": "stdout",
     "output_type": "stream",
     "text": [
      "[Epoch 5] Train Loss=1.2174, Valid Loss=1.1163, Train MAPE=1.6918, Valid MAPE=0.8679\n"
     ]
    },
    {
     "data": {
      "application/vnd.jupyter.widget-view+json": {
       "model_id": "4d691e9184e848b7a4fe8cb7d273933e",
       "version_major": 2,
       "version_minor": 0
      },
      "text/plain": [
       "Train 6/30:   0%|          | 0/27 [00:00<?, ?it/s]"
      ]
     },
     "metadata": {},
     "output_type": "display_data"
    },
    {
     "data": {
      "application/vnd.jupyter.widget-view+json": {
       "model_id": "1675a8a0045f44afa8d0ce23232eb1be",
       "version_major": 2,
       "version_minor": 0
      },
      "text/plain": [
       "Valid 6/30:   0%|          | 0/27 [00:00<?, ?it/s]"
      ]
     },
     "metadata": {},
     "output_type": "display_data"
    },
    {
     "data": {
      "application/vnd.jupyter.widget-view+json": {
       "model_id": "0765dc63a7eb4d6fb92b7e1bf82f6c6e",
       "version_major": 2,
       "version_minor": 0
      },
      "text/plain": [
       "Train 7/30:   0%|          | 0/27 [00:00<?, ?it/s]"
      ]
     },
     "metadata": {},
     "output_type": "display_data"
    },
    {
     "data": {
      "application/vnd.jupyter.widget-view+json": {
       "model_id": "025ee9f12cb7434b8afdd84785d1e8f9",
       "version_major": 2,
       "version_minor": 0
      },
      "text/plain": [
       "Valid 7/30:   0%|          | 0/27 [00:00<?, ?it/s]"
      ]
     },
     "metadata": {},
     "output_type": "display_data"
    },
    {
     "data": {
      "application/vnd.jupyter.widget-view+json": {
       "model_id": "ab8adde5915441cd91b4935a5cf49608",
       "version_major": 2,
       "version_minor": 0
      },
      "text/plain": [
       "Train 8/30:   0%|          | 0/27 [00:00<?, ?it/s]"
      ]
     },
     "metadata": {},
     "output_type": "display_data"
    },
    {
     "data": {
      "application/vnd.jupyter.widget-view+json": {
       "model_id": "64845b4ecffb4f6a8e6b549e8816f34e",
       "version_major": 2,
       "version_minor": 0
      },
      "text/plain": [
       "Valid 8/30:   0%|          | 0/27 [00:00<?, ?it/s]"
      ]
     },
     "metadata": {},
     "output_type": "display_data"
    },
    {
     "data": {
      "application/vnd.jupyter.widget-view+json": {
       "model_id": "e1114edc5a2640f09ae7daebc9e9df46",
       "version_major": 2,
       "version_minor": 0
      },
      "text/plain": [
       "Train 9/30:   0%|          | 0/27 [00:00<?, ?it/s]"
      ]
     },
     "metadata": {},
     "output_type": "display_data"
    },
    {
     "data": {
      "application/vnd.jupyter.widget-view+json": {
       "model_id": "2c2df1fa2dc646548a8ed8d593635803",
       "version_major": 2,
       "version_minor": 0
      },
      "text/plain": [
       "Valid 9/30:   0%|          | 0/27 [00:00<?, ?it/s]"
      ]
     },
     "metadata": {},
     "output_type": "display_data"
    },
    {
     "data": {
      "application/vnd.jupyter.widget-view+json": {
       "model_id": "5f776665fadd4e7391ee26b269e91783",
       "version_major": 2,
       "version_minor": 0
      },
      "text/plain": [
       "Train 10/30:   0%|          | 0/27 [00:00<?, ?it/s]"
      ]
     },
     "metadata": {},
     "output_type": "display_data"
    },
    {
     "data": {
      "application/vnd.jupyter.widget-view+json": {
       "model_id": "309e16dc30e947b382574840f23e1d19",
       "version_major": 2,
       "version_minor": 0
      },
      "text/plain": [
       "Valid 10/30:   0%|          | 0/27 [00:00<?, ?it/s]"
      ]
     },
     "metadata": {},
     "output_type": "display_data"
    },
    {
     "name": "stdout",
     "output_type": "stream",
     "text": [
      "[Epoch 10] Train Loss=0.9677, Valid Loss=0.9549, Train MAPE=1.3368, Valid MAPE=0.6304\n"
     ]
    },
    {
     "data": {
      "application/vnd.jupyter.widget-view+json": {
       "model_id": "ac0479e90dc84da9bbf03a755ef15521",
       "version_major": 2,
       "version_minor": 0
      },
      "text/plain": [
       "Train 11/30:   0%|          | 0/27 [00:00<?, ?it/s]"
      ]
     },
     "metadata": {},
     "output_type": "display_data"
    },
    {
     "data": {
      "application/vnd.jupyter.widget-view+json": {
       "model_id": "7f403f74fe8a43d4a43cd84586eb153e",
       "version_major": 2,
       "version_minor": 0
      },
      "text/plain": [
       "Valid 11/30:   0%|          | 0/27 [00:00<?, ?it/s]"
      ]
     },
     "metadata": {},
     "output_type": "display_data"
    },
    {
     "data": {
      "application/vnd.jupyter.widget-view+json": {
       "model_id": "0dc0c5e6cc1247a983957d0a4c4a90c2",
       "version_major": 2,
       "version_minor": 0
      },
      "text/plain": [
       "Train 12/30:   0%|          | 0/27 [00:00<?, ?it/s]"
      ]
     },
     "metadata": {},
     "output_type": "display_data"
    },
    {
     "data": {
      "application/vnd.jupyter.widget-view+json": {
       "model_id": "561512838d9746fcbb01660d2430b8d0",
       "version_major": 2,
       "version_minor": 0
      },
      "text/plain": [
       "Valid 12/30:   0%|          | 0/27 [00:00<?, ?it/s]"
      ]
     },
     "metadata": {},
     "output_type": "display_data"
    },
    {
     "data": {
      "application/vnd.jupyter.widget-view+json": {
       "model_id": "b5d770080df649a99b25ed025df611fa",
       "version_major": 2,
       "version_minor": 0
      },
      "text/plain": [
       "Train 13/30:   0%|          | 0/27 [00:00<?, ?it/s]"
      ]
     },
     "metadata": {},
     "output_type": "display_data"
    },
    {
     "data": {
      "application/vnd.jupyter.widget-view+json": {
       "model_id": "af8c87f56533494a903137e4f23966fa",
       "version_major": 2,
       "version_minor": 0
      },
      "text/plain": [
       "Valid 13/30:   0%|          | 0/27 [00:00<?, ?it/s]"
      ]
     },
     "metadata": {},
     "output_type": "display_data"
    },
    {
     "data": {
      "application/vnd.jupyter.widget-view+json": {
       "model_id": "cb3be91d3b7840619bc6bb6b31417d29",
       "version_major": 2,
       "version_minor": 0
      },
      "text/plain": [
       "Train 14/30:   0%|          | 0/27 [00:00<?, ?it/s]"
      ]
     },
     "metadata": {},
     "output_type": "display_data"
    },
    {
     "data": {
      "application/vnd.jupyter.widget-view+json": {
       "model_id": "1250c476e48a47898b5825a4af41b862",
       "version_major": 2,
       "version_minor": 0
      },
      "text/plain": [
       "Valid 14/30:   0%|          | 0/27 [00:00<?, ?it/s]"
      ]
     },
     "metadata": {},
     "output_type": "display_data"
    },
    {
     "data": {
      "application/vnd.jupyter.widget-view+json": {
       "model_id": "e0ca1a841f8744bebfab48bcfabf18da",
       "version_major": 2,
       "version_minor": 0
      },
      "text/plain": [
       "Train 15/30:   0%|          | 0/27 [00:00<?, ?it/s]"
      ]
     },
     "metadata": {},
     "output_type": "display_data"
    },
    {
     "data": {
      "application/vnd.jupyter.widget-view+json": {
       "model_id": "16020f407f514f938f6d16eb3ac2c229",
       "version_major": 2,
       "version_minor": 0
      },
      "text/plain": [
       "Valid 15/30:   0%|          | 0/27 [00:00<?, ?it/s]"
      ]
     },
     "metadata": {},
     "output_type": "display_data"
    },
    {
     "name": "stdout",
     "output_type": "stream",
     "text": [
      "[Epoch 15] Train Loss=0.9182, Valid Loss=0.8858, Train MAPE=1.1650, Valid MAPE=0.5833\n"
     ]
    },
    {
     "data": {
      "application/vnd.jupyter.widget-view+json": {
       "model_id": "adf621be30e146519d09ffe395e00ba3",
       "version_major": 2,
       "version_minor": 0
      },
      "text/plain": [
       "Train 16/30:   0%|          | 0/27 [00:00<?, ?it/s]"
      ]
     },
     "metadata": {},
     "output_type": "display_data"
    },
    {
     "data": {
      "application/vnd.jupyter.widget-view+json": {
       "model_id": "9d3621cc21624feabe8ff9b14b31e458",
       "version_major": 2,
       "version_minor": 0
      },
      "text/plain": [
       "Valid 16/30:   0%|          | 0/27 [00:00<?, ?it/s]"
      ]
     },
     "metadata": {},
     "output_type": "display_data"
    },
    {
     "data": {
      "application/vnd.jupyter.widget-view+json": {
       "model_id": "4155bd1e757649dc9dd03450fbf9f14e",
       "version_major": 2,
       "version_minor": 0
      },
      "text/plain": [
       "Train 17/30:   0%|          | 0/27 [00:00<?, ?it/s]"
      ]
     },
     "metadata": {},
     "output_type": "display_data"
    },
    {
     "data": {
      "application/vnd.jupyter.widget-view+json": {
       "model_id": "46306d1868e94609b710f365c9526cef",
       "version_major": 2,
       "version_minor": 0
      },
      "text/plain": [
       "Valid 17/30:   0%|          | 0/27 [00:00<?, ?it/s]"
      ]
     },
     "metadata": {},
     "output_type": "display_data"
    },
    {
     "data": {
      "application/vnd.jupyter.widget-view+json": {
       "model_id": "e91866607c22490ab4c2e9cdcfbd1b02",
       "version_major": 2,
       "version_minor": 0
      },
      "text/plain": [
       "Train 18/30:   0%|          | 0/27 [00:00<?, ?it/s]"
      ]
     },
     "metadata": {},
     "output_type": "display_data"
    },
    {
     "data": {
      "application/vnd.jupyter.widget-view+json": {
       "model_id": "a0e513ece3d8465ebedd5b97f2d6c4bd",
       "version_major": 2,
       "version_minor": 0
      },
      "text/plain": [
       "Valid 18/30:   0%|          | 0/27 [00:00<?, ?it/s]"
      ]
     },
     "metadata": {},
     "output_type": "display_data"
    },
    {
     "data": {
      "application/vnd.jupyter.widget-view+json": {
       "model_id": "4178df031a9040da87cd0f04f9b93608",
       "version_major": 2,
       "version_minor": 0
      },
      "text/plain": [
       "Train 19/30:   0%|          | 0/27 [00:00<?, ?it/s]"
      ]
     },
     "metadata": {},
     "output_type": "display_data"
    },
    {
     "data": {
      "application/vnd.jupyter.widget-view+json": {
       "model_id": "4015c38025824ff8b166d152e038fac1",
       "version_major": 2,
       "version_minor": 0
      },
      "text/plain": [
       "Valid 19/30:   0%|          | 0/27 [00:00<?, ?it/s]"
      ]
     },
     "metadata": {},
     "output_type": "display_data"
    },
    {
     "data": {
      "application/vnd.jupyter.widget-view+json": {
       "model_id": "e2e3df5c1e0447efb12c4b3f4a83cc18",
       "version_major": 2,
       "version_minor": 0
      },
      "text/plain": [
       "Train 20/30:   0%|          | 0/27 [00:00<?, ?it/s]"
      ]
     },
     "metadata": {},
     "output_type": "display_data"
    },
    {
     "data": {
      "application/vnd.jupyter.widget-view+json": {
       "model_id": "753e468ea9f94d6b84925f47a4e709cd",
       "version_major": 2,
       "version_minor": 0
      },
      "text/plain": [
       "Valid 20/30:   0%|          | 0/27 [00:00<?, ?it/s]"
      ]
     },
     "metadata": {},
     "output_type": "display_data"
    },
    {
     "name": "stdout",
     "output_type": "stream",
     "text": [
      "[Epoch 20] Train Loss=0.8843, Valid Loss=0.8447, Train MAPE=1.0499, Valid MAPE=0.5428\n"
     ]
    },
    {
     "data": {
      "application/vnd.jupyter.widget-view+json": {
       "model_id": "3448505773ed4eabbb4b4abd01e2fa64",
       "version_major": 2,
       "version_minor": 0
      },
      "text/plain": [
       "Train 21/30:   0%|          | 0/27 [00:00<?, ?it/s]"
      ]
     },
     "metadata": {},
     "output_type": "display_data"
    },
    {
     "data": {
      "application/vnd.jupyter.widget-view+json": {
       "model_id": "e7079928639b46f899f1a911feef7986",
       "version_major": 2,
       "version_minor": 0
      },
      "text/plain": [
       "Valid 21/30:   0%|          | 0/27 [00:00<?, ?it/s]"
      ]
     },
     "metadata": {},
     "output_type": "display_data"
    },
    {
     "data": {
      "application/vnd.jupyter.widget-view+json": {
       "model_id": "143496b4522a4777889d7b6217eca398",
       "version_major": 2,
       "version_minor": 0
      },
      "text/plain": [
       "Train 22/30:   0%|          | 0/27 [00:00<?, ?it/s]"
      ]
     },
     "metadata": {},
     "output_type": "display_data"
    },
    {
     "data": {
      "application/vnd.jupyter.widget-view+json": {
       "model_id": "d171bf680d5f43e7be7d7c7f273a9580",
       "version_major": 2,
       "version_minor": 0
      },
      "text/plain": [
       "Valid 22/30:   0%|          | 0/27 [00:00<?, ?it/s]"
      ]
     },
     "metadata": {},
     "output_type": "display_data"
    },
    {
     "data": {
      "application/vnd.jupyter.widget-view+json": {
       "model_id": "587756dbeb1f44f595e6ead6b47121c7",
       "version_major": 2,
       "version_minor": 0
      },
      "text/plain": [
       "Train 23/30:   0%|          | 0/27 [00:00<?, ?it/s]"
      ]
     },
     "metadata": {},
     "output_type": "display_data"
    },
    {
     "data": {
      "application/vnd.jupyter.widget-view+json": {
       "model_id": "c9cace0215244283817325cbfc3488fe",
       "version_major": 2,
       "version_minor": 0
      },
      "text/plain": [
       "Valid 23/30:   0%|          | 0/27 [00:00<?, ?it/s]"
      ]
     },
     "metadata": {},
     "output_type": "display_data"
    },
    {
     "data": {
      "application/vnd.jupyter.widget-view+json": {
       "model_id": "11b639f0fcb74a11b5c0bd42bd570141",
       "version_major": 2,
       "version_minor": 0
      },
      "text/plain": [
       "Train 24/30:   0%|          | 0/27 [00:00<?, ?it/s]"
      ]
     },
     "metadata": {},
     "output_type": "display_data"
    },
    {
     "data": {
      "application/vnd.jupyter.widget-view+json": {
       "model_id": "306343253cab4f83ace51bad73d7bcc1",
       "version_major": 2,
       "version_minor": 0
      },
      "text/plain": [
       "Valid 24/30:   0%|          | 0/27 [00:00<?, ?it/s]"
      ]
     },
     "metadata": {},
     "output_type": "display_data"
    },
    {
     "data": {
      "application/vnd.jupyter.widget-view+json": {
       "model_id": "befba36d4ab94de7be50f346ac14fa89",
       "version_major": 2,
       "version_minor": 0
      },
      "text/plain": [
       "Train 25/30:   0%|          | 0/27 [00:00<?, ?it/s]"
      ]
     },
     "metadata": {},
     "output_type": "display_data"
    },
    {
     "data": {
      "application/vnd.jupyter.widget-view+json": {
       "model_id": "b40421eb067a499d9c5f6072cd395a2a",
       "version_major": 2,
       "version_minor": 0
      },
      "text/plain": [
       "Valid 25/30:   0%|          | 0/27 [00:00<?, ?it/s]"
      ]
     },
     "metadata": {},
     "output_type": "display_data"
    },
    {
     "name": "stdout",
     "output_type": "stream",
     "text": [
      "[Epoch 25] Train Loss=0.8573, Valid Loss=0.8214, Train MAPE=0.9371, Valid MAPE=0.6024\n"
     ]
    },
    {
     "data": {
      "application/vnd.jupyter.widget-view+json": {
       "model_id": "b73ae313f5b74e239b4429d147b3455d",
       "version_major": 2,
       "version_minor": 0
      },
      "text/plain": [
       "Train 26/30:   0%|          | 0/27 [00:00<?, ?it/s]"
      ]
     },
     "metadata": {},
     "output_type": "display_data"
    },
    {
     "data": {
      "application/vnd.jupyter.widget-view+json": {
       "model_id": "f999af7873ca41b38f6d2646244726f2",
       "version_major": 2,
       "version_minor": 0
      },
      "text/plain": [
       "Valid 26/30:   0%|          | 0/27 [00:00<?, ?it/s]"
      ]
     },
     "metadata": {},
     "output_type": "display_data"
    },
    {
     "data": {
      "application/vnd.jupyter.widget-view+json": {
       "model_id": "db38c53f81734d33beba754664c8ec1a",
       "version_major": 2,
       "version_minor": 0
      },
      "text/plain": [
       "Train 27/30:   0%|          | 0/27 [00:00<?, ?it/s]"
      ]
     },
     "metadata": {},
     "output_type": "display_data"
    },
    {
     "data": {
      "application/vnd.jupyter.widget-view+json": {
       "model_id": "e10fe4a65c334b5f931147466bca424d",
       "version_major": 2,
       "version_minor": 0
      },
      "text/plain": [
       "Valid 27/30:   0%|          | 0/27 [00:00<?, ?it/s]"
      ]
     },
     "metadata": {},
     "output_type": "display_data"
    },
    {
     "data": {
      "application/vnd.jupyter.widget-view+json": {
       "model_id": "5dc91b3722c745d6a8b54740e8f9300b",
       "version_major": 2,
       "version_minor": 0
      },
      "text/plain": [
       "Train 28/30:   0%|          | 0/27 [00:00<?, ?it/s]"
      ]
     },
     "metadata": {},
     "output_type": "display_data"
    },
    {
     "data": {
      "application/vnd.jupyter.widget-view+json": {
       "model_id": "5d4e61347c44445b83e8b5a8db3dac2c",
       "version_major": 2,
       "version_minor": 0
      },
      "text/plain": [
       "Valid 28/30:   0%|          | 0/27 [00:00<?, ?it/s]"
      ]
     },
     "metadata": {},
     "output_type": "display_data"
    },
    {
     "data": {
      "application/vnd.jupyter.widget-view+json": {
       "model_id": "99fb23068f4349818901811e90449d70",
       "version_major": 2,
       "version_minor": 0
      },
      "text/plain": [
       "Train 29/30:   0%|          | 0/27 [00:00<?, ?it/s]"
      ]
     },
     "metadata": {},
     "output_type": "display_data"
    },
    {
     "data": {
      "application/vnd.jupyter.widget-view+json": {
       "model_id": "81038dc2c9254a2d89cd3d8a17eb5893",
       "version_major": 2,
       "version_minor": 0
      },
      "text/plain": [
       "Valid 29/30:   0%|          | 0/27 [00:00<?, ?it/s]"
      ]
     },
     "metadata": {},
     "output_type": "display_data"
    },
    {
     "data": {
      "application/vnd.jupyter.widget-view+json": {
       "model_id": "1b5b37399ed84a86a005027d414821b2",
       "version_major": 2,
       "version_minor": 0
      },
      "text/plain": [
       "Train 30/30:   0%|          | 0/27 [00:00<?, ?it/s]"
      ]
     },
     "metadata": {},
     "output_type": "display_data"
    },
    {
     "data": {
      "application/vnd.jupyter.widget-view+json": {
       "model_id": "5af2e311046344c789ddfdbc3a796979",
       "version_major": 2,
       "version_minor": 0
      },
      "text/plain": [
       "Valid 30/30:   0%|          | 0/27 [00:00<?, ?it/s]"
      ]
     },
     "metadata": {},
     "output_type": "display_data"
    },
    {
     "name": "stdout",
     "output_type": "stream",
     "text": [
      "[Epoch 30] Train Loss=0.8288, Valid Loss=0.7945, Train MAPE=0.8510, Valid MAPE=0.5059\n"
     ]
    },
    {
     "data": {
      "application/vnd.jupyter.widget-view+json": {
       "model_id": "cfc120b5e4cf415db9d1a36083a844ac",
       "version_major": 2,
       "version_minor": 0
      },
      "text/plain": [
       "Epoch:   0%|          | 0/30 [00:00<?, ?it/s]"
      ]
     },
     "metadata": {},
     "output_type": "display_data"
    },
    {
     "data": {
      "application/vnd.jupyter.widget-view+json": {
       "model_id": "edee56cf12874b248cc7890d453308bc",
       "version_major": 2,
       "version_minor": 0
      },
      "text/plain": [
       "Train 1/30:   0%|          | 0/27 [00:00<?, ?it/s]"
      ]
     },
     "metadata": {},
     "output_type": "display_data"
    },
    {
     "data": {
      "application/vnd.jupyter.widget-view+json": {
       "model_id": "f83bbd30bce9401b9d94499fccad3bcf",
       "version_major": 2,
       "version_minor": 0
      },
      "text/plain": [
       "Valid 1/30:   0%|          | 0/27 [00:00<?, ?it/s]"
      ]
     },
     "metadata": {},
     "output_type": "display_data"
    },
    {
     "data": {
      "application/vnd.jupyter.widget-view+json": {
       "model_id": "3883bede8d4a48ea8f818a9f8699af48",
       "version_major": 2,
       "version_minor": 0
      },
      "text/plain": [
       "Train 2/30:   0%|          | 0/27 [00:00<?, ?it/s]"
      ]
     },
     "metadata": {},
     "output_type": "display_data"
    },
    {
     "data": {
      "application/vnd.jupyter.widget-view+json": {
       "model_id": "674dec25cfc34393befe49e598bb1d09",
       "version_major": 2,
       "version_minor": 0
      },
      "text/plain": [
       "Valid 2/30:   0%|          | 0/27 [00:00<?, ?it/s]"
      ]
     },
     "metadata": {},
     "output_type": "display_data"
    },
    {
     "data": {
      "application/vnd.jupyter.widget-view+json": {
       "model_id": "4a6baafc1b814566a6176b6452a48ea9",
       "version_major": 2,
       "version_minor": 0
      },
      "text/plain": [
       "Train 3/30:   0%|          | 0/27 [00:00<?, ?it/s]"
      ]
     },
     "metadata": {},
     "output_type": "display_data"
    },
    {
     "data": {
      "application/vnd.jupyter.widget-view+json": {
       "model_id": "3dcf3a855f26448cb893679e09eb60af",
       "version_major": 2,
       "version_minor": 0
      },
      "text/plain": [
       "Valid 3/30:   0%|          | 0/27 [00:00<?, ?it/s]"
      ]
     },
     "metadata": {},
     "output_type": "display_data"
    },
    {
     "data": {
      "application/vnd.jupyter.widget-view+json": {
       "model_id": "62442f68c9a44af284724879ad7398ff",
       "version_major": 2,
       "version_minor": 0
      },
      "text/plain": [
       "Train 4/30:   0%|          | 0/27 [00:00<?, ?it/s]"
      ]
     },
     "metadata": {},
     "output_type": "display_data"
    },
    {
     "data": {
      "application/vnd.jupyter.widget-view+json": {
       "model_id": "c7508a223c69487595a01b8b571dd572",
       "version_major": 2,
       "version_minor": 0
      },
      "text/plain": [
       "Valid 4/30:   0%|          | 0/27 [00:00<?, ?it/s]"
      ]
     },
     "metadata": {},
     "output_type": "display_data"
    },
    {
     "data": {
      "application/vnd.jupyter.widget-view+json": {
       "model_id": "9834bed63ccd457d9fb7119a8fb2b9a2",
       "version_major": 2,
       "version_minor": 0
      },
      "text/plain": [
       "Train 5/30:   0%|          | 0/27 [00:00<?, ?it/s]"
      ]
     },
     "metadata": {},
     "output_type": "display_data"
    },
    {
     "data": {
      "application/vnd.jupyter.widget-view+json": {
       "model_id": "2db8877d929e42a3abcdb1c9c4a1fb5d",
       "version_major": 2,
       "version_minor": 0
      },
      "text/plain": [
       "Valid 5/30:   0%|          | 0/27 [00:00<?, ?it/s]"
      ]
     },
     "metadata": {},
     "output_type": "display_data"
    },
    {
     "name": "stdout",
     "output_type": "stream",
     "text": [
      "[Epoch 5] Train Loss=1.2426, Valid Loss=1.1592, Train MAPE=1.6782, Valid MAPE=1.0009\n"
     ]
    },
    {
     "data": {
      "application/vnd.jupyter.widget-view+json": {
       "model_id": "4b4b08dd5bf74e93ab29c7d4215cf7cd",
       "version_major": 2,
       "version_minor": 0
      },
      "text/plain": [
       "Train 6/30:   0%|          | 0/27 [00:00<?, ?it/s]"
      ]
     },
     "metadata": {},
     "output_type": "display_data"
    },
    {
     "data": {
      "application/vnd.jupyter.widget-view+json": {
       "model_id": "36b80b426ed3489297c79cd05a8acee6",
       "version_major": 2,
       "version_minor": 0
      },
      "text/plain": [
       "Valid 6/30:   0%|          | 0/27 [00:00<?, ?it/s]"
      ]
     },
     "metadata": {},
     "output_type": "display_data"
    },
    {
     "data": {
      "application/vnd.jupyter.widget-view+json": {
       "model_id": "fe14d350ff0a43f88b0528ba2d194568",
       "version_major": 2,
       "version_minor": 0
      },
      "text/plain": [
       "Train 7/30:   0%|          | 0/27 [00:00<?, ?it/s]"
      ]
     },
     "metadata": {},
     "output_type": "display_data"
    },
    {
     "data": {
      "application/vnd.jupyter.widget-view+json": {
       "model_id": "b50eeb16b0df4e55922b27b367c4b541",
       "version_major": 2,
       "version_minor": 0
      },
      "text/plain": [
       "Valid 7/30:   0%|          | 0/27 [00:00<?, ?it/s]"
      ]
     },
     "metadata": {},
     "output_type": "display_data"
    },
    {
     "data": {
      "application/vnd.jupyter.widget-view+json": {
       "model_id": "427ee8abec684f7d93cddaa3c445ccd6",
       "version_major": 2,
       "version_minor": 0
      },
      "text/plain": [
       "Train 8/30:   0%|          | 0/27 [00:00<?, ?it/s]"
      ]
     },
     "metadata": {},
     "output_type": "display_data"
    },
    {
     "data": {
      "application/vnd.jupyter.widget-view+json": {
       "model_id": "449b615abf524d34b4070a6d6a8f70c2",
       "version_major": 2,
       "version_minor": 0
      },
      "text/plain": [
       "Valid 8/30:   0%|          | 0/27 [00:00<?, ?it/s]"
      ]
     },
     "metadata": {},
     "output_type": "display_data"
    },
    {
     "data": {
      "application/vnd.jupyter.widget-view+json": {
       "model_id": "8616778e2eae43a8a7d3836dff279d4c",
       "version_major": 2,
       "version_minor": 0
      },
      "text/plain": [
       "Train 9/30:   0%|          | 0/27 [00:00<?, ?it/s]"
      ]
     },
     "metadata": {},
     "output_type": "display_data"
    },
    {
     "data": {
      "application/vnd.jupyter.widget-view+json": {
       "model_id": "3b1caa82db444b86b331eb8f871ffdbd",
       "version_major": 2,
       "version_minor": 0
      },
      "text/plain": [
       "Valid 9/30:   0%|          | 0/27 [00:00<?, ?it/s]"
      ]
     },
     "metadata": {},
     "output_type": "display_data"
    },
    {
     "data": {
      "application/vnd.jupyter.widget-view+json": {
       "model_id": "bf3f62495d7040d6aaf2941065315fff",
       "version_major": 2,
       "version_minor": 0
      },
      "text/plain": [
       "Train 10/30:   0%|          | 0/27 [00:00<?, ?it/s]"
      ]
     },
     "metadata": {},
     "output_type": "display_data"
    },
    {
     "data": {
      "application/vnd.jupyter.widget-view+json": {
       "model_id": "77e8f0f053ed47508f505c645ee207e1",
       "version_major": 2,
       "version_minor": 0
      },
      "text/plain": [
       "Valid 10/30:   0%|          | 0/27 [00:00<?, ?it/s]"
      ]
     },
     "metadata": {},
     "output_type": "display_data"
    },
    {
     "name": "stdout",
     "output_type": "stream",
     "text": [
      "[Epoch 10] Train Loss=0.9911, Valid Loss=0.9945, Train MAPE=1.3428, Valid MAPE=0.7200\n"
     ]
    },
    {
     "data": {
      "application/vnd.jupyter.widget-view+json": {
       "model_id": "8888f4a722a74f4e8b6069b9b3713933",
       "version_major": 2,
       "version_minor": 0
      },
      "text/plain": [
       "Train 11/30:   0%|          | 0/27 [00:00<?, ?it/s]"
      ]
     },
     "metadata": {},
     "output_type": "display_data"
    },
    {
     "data": {
      "application/vnd.jupyter.widget-view+json": {
       "model_id": "5775d9268cb34c37b567f436fb1cb197",
       "version_major": 2,
       "version_minor": 0
      },
      "text/plain": [
       "Valid 11/30:   0%|          | 0/27 [00:00<?, ?it/s]"
      ]
     },
     "metadata": {},
     "output_type": "display_data"
    },
    {
     "data": {
      "application/vnd.jupyter.widget-view+json": {
       "model_id": "c9e591e2456e4976bc5124bc03930676",
       "version_major": 2,
       "version_minor": 0
      },
      "text/plain": [
       "Train 12/30:   0%|          | 0/27 [00:00<?, ?it/s]"
      ]
     },
     "metadata": {},
     "output_type": "display_data"
    },
    {
     "data": {
      "application/vnd.jupyter.widget-view+json": {
       "model_id": "13dbeb58182a4548ab8be28aa62416d0",
       "version_major": 2,
       "version_minor": 0
      },
      "text/plain": [
       "Valid 12/30:   0%|          | 0/27 [00:00<?, ?it/s]"
      ]
     },
     "metadata": {},
     "output_type": "display_data"
    },
    {
     "data": {
      "application/vnd.jupyter.widget-view+json": {
       "model_id": "4863ed60282e48a1b5ea257dc11e9140",
       "version_major": 2,
       "version_minor": 0
      },
      "text/plain": [
       "Train 13/30:   0%|          | 0/27 [00:00<?, ?it/s]"
      ]
     },
     "metadata": {},
     "output_type": "display_data"
    },
    {
     "data": {
      "application/vnd.jupyter.widget-view+json": {
       "model_id": "a154d5c420c64d86815aed3dd0adfee0",
       "version_major": 2,
       "version_minor": 0
      },
      "text/plain": [
       "Valid 13/30:   0%|          | 0/27 [00:00<?, ?it/s]"
      ]
     },
     "metadata": {},
     "output_type": "display_data"
    },
    {
     "data": {
      "application/vnd.jupyter.widget-view+json": {
       "model_id": "7f1cf3890d5544e58665ba600cd49b51",
       "version_major": 2,
       "version_minor": 0
      },
      "text/plain": [
       "Train 14/30:   0%|          | 0/27 [00:00<?, ?it/s]"
      ]
     },
     "metadata": {},
     "output_type": "display_data"
    },
    {
     "data": {
      "application/vnd.jupyter.widget-view+json": {
       "model_id": "3007b09893614016a4b881e65c39fc01",
       "version_major": 2,
       "version_minor": 0
      },
      "text/plain": [
       "Valid 14/30:   0%|          | 0/27 [00:00<?, ?it/s]"
      ]
     },
     "metadata": {},
     "output_type": "display_data"
    },
    {
     "data": {
      "application/vnd.jupyter.widget-view+json": {
       "model_id": "9dd4c9afcca2475aaf197dc8dd50c5a9",
       "version_major": 2,
       "version_minor": 0
      },
      "text/plain": [
       "Train 15/30:   0%|          | 0/27 [00:00<?, ?it/s]"
      ]
     },
     "metadata": {},
     "output_type": "display_data"
    },
    {
     "data": {
      "application/vnd.jupyter.widget-view+json": {
       "model_id": "0ca1df1ccbd64167b0625ba60e28448f",
       "version_major": 2,
       "version_minor": 0
      },
      "text/plain": [
       "Valid 15/30:   0%|          | 0/27 [00:00<?, ?it/s]"
      ]
     },
     "metadata": {},
     "output_type": "display_data"
    },
    {
     "name": "stdout",
     "output_type": "stream",
     "text": [
      "[Epoch 15] Train Loss=0.9387, Valid Loss=0.9150, Train MAPE=1.1690, Valid MAPE=0.6110\n"
     ]
    },
    {
     "data": {
      "application/vnd.jupyter.widget-view+json": {
       "model_id": "d5fb80d841ba4fc885b37fc819a2b6ab",
       "version_major": 2,
       "version_minor": 0
      },
      "text/plain": [
       "Train 16/30:   0%|          | 0/27 [00:00<?, ?it/s]"
      ]
     },
     "metadata": {},
     "output_type": "display_data"
    },
    {
     "data": {
      "application/vnd.jupyter.widget-view+json": {
       "model_id": "45c6d3cbe75249e18b123013578b4458",
       "version_major": 2,
       "version_minor": 0
      },
      "text/plain": [
       "Valid 16/30:   0%|          | 0/27 [00:00<?, ?it/s]"
      ]
     },
     "metadata": {},
     "output_type": "display_data"
    },
    {
     "data": {
      "application/vnd.jupyter.widget-view+json": {
       "model_id": "1b6621bfd42f4e1a92dffcf7b6aa8588",
       "version_major": 2,
       "version_minor": 0
      },
      "text/plain": [
       "Train 17/30:   0%|          | 0/27 [00:00<?, ?it/s]"
      ]
     },
     "metadata": {},
     "output_type": "display_data"
    },
    {
     "data": {
      "application/vnd.jupyter.widget-view+json": {
       "model_id": "03b3c7344b584b7485a96741d6dbddf3",
       "version_major": 2,
       "version_minor": 0
      },
      "text/plain": [
       "Valid 17/30:   0%|          | 0/27 [00:00<?, ?it/s]"
      ]
     },
     "metadata": {},
     "output_type": "display_data"
    },
    {
     "data": {
      "application/vnd.jupyter.widget-view+json": {
       "model_id": "7246038ac976432889e8d2d211979b69",
       "version_major": 2,
       "version_minor": 0
      },
      "text/plain": [
       "Train 18/30:   0%|          | 0/27 [00:00<?, ?it/s]"
      ]
     },
     "metadata": {},
     "output_type": "display_data"
    },
    {
     "data": {
      "application/vnd.jupyter.widget-view+json": {
       "model_id": "2e5dda9c5d2c4d429dfb0437e9307b21",
       "version_major": 2,
       "version_minor": 0
      },
      "text/plain": [
       "Valid 18/30:   0%|          | 0/27 [00:00<?, ?it/s]"
      ]
     },
     "metadata": {},
     "output_type": "display_data"
    },
    {
     "data": {
      "application/vnd.jupyter.widget-view+json": {
       "model_id": "a1369c9601564715ae27ef8a0f189a04",
       "version_major": 2,
       "version_minor": 0
      },
      "text/plain": [
       "Train 19/30:   0%|          | 0/27 [00:00<?, ?it/s]"
      ]
     },
     "metadata": {},
     "output_type": "display_data"
    },
    {
     "data": {
      "application/vnd.jupyter.widget-view+json": {
       "model_id": "1075fd4870204ba18937f260a116d175",
       "version_major": 2,
       "version_minor": 0
      },
      "text/plain": [
       "Valid 19/30:   0%|          | 0/27 [00:00<?, ?it/s]"
      ]
     },
     "metadata": {},
     "output_type": "display_data"
    },
    {
     "data": {
      "application/vnd.jupyter.widget-view+json": {
       "model_id": "906c34a24ad0453f91430627a3eeef9f",
       "version_major": 2,
       "version_minor": 0
      },
      "text/plain": [
       "Train 20/30:   0%|          | 0/27 [00:00<?, ?it/s]"
      ]
     },
     "metadata": {},
     "output_type": "display_data"
    },
    {
     "data": {
      "application/vnd.jupyter.widget-view+json": {
       "model_id": "15c3232e40444f53ad4f167afd0990da",
       "version_major": 2,
       "version_minor": 0
      },
      "text/plain": [
       "Valid 20/30:   0%|          | 0/27 [00:00<?, ?it/s]"
      ]
     },
     "metadata": {},
     "output_type": "display_data"
    },
    {
     "name": "stdout",
     "output_type": "stream",
     "text": [
      "[Epoch 20] Train Loss=0.8964, Valid Loss=0.8643, Train MAPE=1.0355, Valid MAPE=0.5610\n"
     ]
    },
    {
     "data": {
      "application/vnd.jupyter.widget-view+json": {
       "model_id": "d91259ae779646a296647b2081841afc",
       "version_major": 2,
       "version_minor": 0
      },
      "text/plain": [
       "Train 21/30:   0%|          | 0/27 [00:00<?, ?it/s]"
      ]
     },
     "metadata": {},
     "output_type": "display_data"
    },
    {
     "data": {
      "application/vnd.jupyter.widget-view+json": {
       "model_id": "602ab30816324b2f8c6bfc469c3a7750",
       "version_major": 2,
       "version_minor": 0
      },
      "text/plain": [
       "Valid 21/30:   0%|          | 0/27 [00:00<?, ?it/s]"
      ]
     },
     "metadata": {},
     "output_type": "display_data"
    },
    {
     "data": {
      "application/vnd.jupyter.widget-view+json": {
       "model_id": "defac83de06048dd90ede2859e00aff0",
       "version_major": 2,
       "version_minor": 0
      },
      "text/plain": [
       "Train 22/30:   0%|          | 0/27 [00:00<?, ?it/s]"
      ]
     },
     "metadata": {},
     "output_type": "display_data"
    },
    {
     "data": {
      "application/vnd.jupyter.widget-view+json": {
       "model_id": "7e573d44e2db4b808bc6aaf45d310ed6",
       "version_major": 2,
       "version_minor": 0
      },
      "text/plain": [
       "Valid 22/30:   0%|          | 0/27 [00:00<?, ?it/s]"
      ]
     },
     "metadata": {},
     "output_type": "display_data"
    },
    {
     "data": {
      "application/vnd.jupyter.widget-view+json": {
       "model_id": "ff4281beeb724ecd9e68f1efae5a2394",
       "version_major": 2,
       "version_minor": 0
      },
      "text/plain": [
       "Train 23/30:   0%|          | 0/27 [00:00<?, ?it/s]"
      ]
     },
     "metadata": {},
     "output_type": "display_data"
    },
    {
     "data": {
      "application/vnd.jupyter.widget-view+json": {
       "model_id": "55d4538f25ca4e128a1caa60e5d7549f",
       "version_major": 2,
       "version_minor": 0
      },
      "text/plain": [
       "Valid 23/30:   0%|          | 0/27 [00:00<?, ?it/s]"
      ]
     },
     "metadata": {},
     "output_type": "display_data"
    },
    {
     "data": {
      "application/vnd.jupyter.widget-view+json": {
       "model_id": "be47cd5d1e3a429cb063d6f28d631315",
       "version_major": 2,
       "version_minor": 0
      },
      "text/plain": [
       "Train 24/30:   0%|          | 0/27 [00:00<?, ?it/s]"
      ]
     },
     "metadata": {},
     "output_type": "display_data"
    },
    {
     "data": {
      "application/vnd.jupyter.widget-view+json": {
       "model_id": "0c18fac871944920a7161173adc4cac0",
       "version_major": 2,
       "version_minor": 0
      },
      "text/plain": [
       "Valid 24/30:   0%|          | 0/27 [00:00<?, ?it/s]"
      ]
     },
     "metadata": {},
     "output_type": "display_data"
    },
    {
     "data": {
      "application/vnd.jupyter.widget-view+json": {
       "model_id": "96418569c70043f0ba10ff4184193baf",
       "version_major": 2,
       "version_minor": 0
      },
      "text/plain": [
       "Train 25/30:   0%|          | 0/27 [00:00<?, ?it/s]"
      ]
     },
     "metadata": {},
     "output_type": "display_data"
    },
    {
     "data": {
      "application/vnd.jupyter.widget-view+json": {
       "model_id": "41fc175abbbf470a84108088e59aae94",
       "version_major": 2,
       "version_minor": 0
      },
      "text/plain": [
       "Valid 25/30:   0%|          | 0/27 [00:00<?, ?it/s]"
      ]
     },
     "metadata": {},
     "output_type": "display_data"
    },
    {
     "name": "stdout",
     "output_type": "stream",
     "text": [
      "[Epoch 25] Train Loss=0.8655, Valid Loss=0.8357, Train MAPE=0.9242, Valid MAPE=0.5761\n"
     ]
    },
    {
     "data": {
      "application/vnd.jupyter.widget-view+json": {
       "model_id": "1429beba32fa45f6a21ebdb007ecea29",
       "version_major": 2,
       "version_minor": 0
      },
      "text/plain": [
       "Train 26/30:   0%|          | 0/27 [00:00<?, ?it/s]"
      ]
     },
     "metadata": {},
     "output_type": "display_data"
    },
    {
     "data": {
      "application/vnd.jupyter.widget-view+json": {
       "model_id": "a793f836d3a9447d9033d9b09a91559b",
       "version_major": 2,
       "version_minor": 0
      },
      "text/plain": [
       "Valid 26/30:   0%|          | 0/27 [00:00<?, ?it/s]"
      ]
     },
     "metadata": {},
     "output_type": "display_data"
    },
    {
     "data": {
      "application/vnd.jupyter.widget-view+json": {
       "model_id": "9a76346ed5dd4767a72ee411b6b89f08",
       "version_major": 2,
       "version_minor": 0
      },
      "text/plain": [
       "Train 27/30:   0%|          | 0/27 [00:00<?, ?it/s]"
      ]
     },
     "metadata": {},
     "output_type": "display_data"
    },
    {
     "data": {
      "application/vnd.jupyter.widget-view+json": {
       "model_id": "fdffd4646efe4708b0a418fdc00247b2",
       "version_major": 2,
       "version_minor": 0
      },
      "text/plain": [
       "Valid 27/30:   0%|          | 0/27 [00:00<?, ?it/s]"
      ]
     },
     "metadata": {},
     "output_type": "display_data"
    },
    {
     "data": {
      "application/vnd.jupyter.widget-view+json": {
       "model_id": "0964995b678249cbbe1bc17c75fbf2cf",
       "version_major": 2,
       "version_minor": 0
      },
      "text/plain": [
       "Train 28/30:   0%|          | 0/27 [00:00<?, ?it/s]"
      ]
     },
     "metadata": {},
     "output_type": "display_data"
    },
    {
     "data": {
      "application/vnd.jupyter.widget-view+json": {
       "model_id": "baaf527c3e4a4eb7aac0c5adcb8c5ed1",
       "version_major": 2,
       "version_minor": 0
      },
      "text/plain": [
       "Valid 28/30:   0%|          | 0/27 [00:00<?, ?it/s]"
      ]
     },
     "metadata": {},
     "output_type": "display_data"
    },
    {
     "data": {
      "application/vnd.jupyter.widget-view+json": {
       "model_id": "f94b34a78afe407380b8ed25c6665605",
       "version_major": 2,
       "version_minor": 0
      },
      "text/plain": [
       "Train 29/30:   0%|          | 0/27 [00:00<?, ?it/s]"
      ]
     },
     "metadata": {},
     "output_type": "display_data"
    },
    {
     "data": {
      "application/vnd.jupyter.widget-view+json": {
       "model_id": "ae46c4942e6246fbbcf9d812c555b27f",
       "version_major": 2,
       "version_minor": 0
      },
      "text/plain": [
       "Valid 29/30:   0%|          | 0/27 [00:00<?, ?it/s]"
      ]
     },
     "metadata": {},
     "output_type": "display_data"
    },
    {
     "data": {
      "application/vnd.jupyter.widget-view+json": {
       "model_id": "fd6c6209112a40cb99056e97426158f9",
       "version_major": 2,
       "version_minor": 0
      },
      "text/plain": [
       "Train 30/30:   0%|          | 0/27 [00:00<?, ?it/s]"
      ]
     },
     "metadata": {},
     "output_type": "display_data"
    },
    {
     "data": {
      "application/vnd.jupyter.widget-view+json": {
       "model_id": "6e036318316a40acbe222c438fdfbd38",
       "version_major": 2,
       "version_minor": 0
      },
      "text/plain": [
       "Valid 30/30:   0%|          | 0/27 [00:00<?, ?it/s]"
      ]
     },
     "metadata": {},
     "output_type": "display_data"
    },
    {
     "name": "stdout",
     "output_type": "stream",
     "text": [
      "[Epoch 30] Train Loss=0.8305, Valid Loss=0.7973, Train MAPE=0.8251, Valid MAPE=0.4993\n"
     ]
    },
    {
     "data": {
      "image/png": "[encoded data removed]",
      "text/plain": [
       "<Figure size 640x480 with 1 Axes>"
      ]
     },
     "metadata": {},
     "output_type": "display_data"
    },
    {
     "data": {
      "image/png": "[encoded data removed]",
      "text/plain": [
       "<Figure size 640x480 with 1 Axes>"
      ]
     },
     "metadata": {},
     "output_type": "display_data"
    },
    {
     "data": {
      "image/png": "[encoded data removed]",
      "text/plain": [
       "<Figure size 600x400 with 1 Axes>"
      ]
     },
     "metadata": {},
     "output_type": "display_data"
    },
    {
     "name": "stdout",
     "output_type": "stream",
     "text": [
      "Seed=0, 조합 인덱스=4\n"
     ]
    },
    {
     "data": {
      "application/vnd.jupyter.widget-view+json": {
       "model_id": "2376250b8b3b4ccc8123b4b633db719f",
       "version_major": 2,
       "version_minor": 0
      },
      "text/plain": [
       "Epoch:   0%|          | 0/30 [00:00<?, ?it/s]"
      ]
     },
     "metadata": {},
     "output_type": "display_data"
    },
    {
     "data": {
      "application/vnd.jupyter.widget-view+json": {
       "model_id": "6638e39360b3485992c189ce731d3888",
       "version_major": 2,
       "version_minor": 0
      },
      "text/plain": [
       "Train 1/30:   0%|          | 0/27 [00:00<?, ?it/s]"
      ]
     },
     "metadata": {},
     "output_type": "display_data"
    },
    {
     "data": {
      "application/vnd.jupyter.widget-view+json": {
       "model_id": "f3763f410bd14fa4b4f7be2836be3b73",
       "version_major": 2,
       "version_minor": 0
      },
      "text/plain": [
       "Valid 1/30:   0%|          | 0/27 [00:00<?, ?it/s]"
      ]
     },
     "metadata": {},
     "output_type": "display_data"
    },
    {
     "data": {
      "application/vnd.jupyter.widget-view+json": {
       "model_id": "15cb5f126baf4eaf96749d7884f1ace3",
       "version_major": 2,
       "version_minor": 0
      },
      "text/plain": [
       "Train 2/30:   0%|          | 0/27 [00:00<?, ?it/s]"
      ]
     },
     "metadata": {},
     "output_type": "display_data"
    },
    {
     "data": {
      "application/vnd.jupyter.widget-view+json": {
       "model_id": "b60c88fa0015429199ea7cc72262c0b0",
       "version_major": 2,
       "version_minor": 0
      },
      "text/plain": [
       "Valid 2/30:   0%|          | 0/27 [00:00<?, ?it/s]"
      ]
     },
     "metadata": {},
     "output_type": "display_data"
    },
    {
     "data": {
      "application/vnd.jupyter.widget-view+json": {
       "model_id": "be4c32d7b46d4374a37487b1bb14727f",
       "version_major": 2,
       "version_minor": 0
      },
      "text/plain": [
       "Train 3/30:   0%|          | 0/27 [00:00<?, ?it/s]"
      ]
     },
     "metadata": {},
     "output_type": "display_data"
    },
    {
     "data": {
      "application/vnd.jupyter.widget-view+json": {
       "model_id": "3d6745654d744bc8a995c5e7defc80a0",
       "version_major": 2,
       "version_minor": 0
      },
      "text/plain": [
       "Valid 3/30:   0%|          | 0/27 [00:00<?, ?it/s]"
      ]
     },
     "metadata": {},
     "output_type": "display_data"
    },
    {
     "data": {
      "application/vnd.jupyter.widget-view+json": {
       "model_id": "4a0708823def4b9c8b189347bf2fbf08",
       "version_major": 2,
       "version_minor": 0
      },
      "text/plain": [
       "Train 4/30:   0%|          | 0/27 [00:00<?, ?it/s]"
      ]
     },
     "metadata": {},
     "output_type": "display_data"
    },
    {
     "data": {
      "application/vnd.jupyter.widget-view+json": {
       "model_id": "09b134fa1dea4763b4bdfb33551b5980",
       "version_major": 2,
       "version_minor": 0
      },
      "text/plain": [
       "Valid 4/30:   0%|          | 0/27 [00:00<?, ?it/s]"
      ]
     },
     "metadata": {},
     "output_type": "display_data"
    },
    {
     "data": {
      "application/vnd.jupyter.widget-view+json": {
       "model_id": "f48426b9fc9c4f2bb251e74f9b3410d3",
       "version_major": 2,
       "version_minor": 0
      },
      "text/plain": [
       "Train 5/30:   0%|          | 0/27 [00:00<?, ?it/s]"
      ]
     },
     "metadata": {},
     "output_type": "display_data"
    },
    {
     "data": {
      "application/vnd.jupyter.widget-view+json": {
       "model_id": "f2759850e8dd426cb9ea1432d3d72a0d",
       "version_major": 2,
       "version_minor": 0
      },
      "text/plain": [
       "Valid 5/30:   0%|          | 0/27 [00:00<?, ?it/s]"
      ]
     },
     "metadata": {},
     "output_type": "display_data"
    },
    {
     "name": "stdout",
     "output_type": "stream",
     "text": [
      "[Epoch 5] Train Loss=1.3184, Valid Loss=1.2299, Train MAPE=1.5476, Valid MAPE=1.0384\n"
     ]
    },
    {
     "data": {
      "application/vnd.jupyter.widget-view+json": {
       "model_id": "42936d7ee60f433ab591c69e7985e10e",
       "version_major": 2,
       "version_minor": 0
      },
      "text/plain": [
       "Train 6/30:   0%|          | 0/27 [00:00<?, ?it/s]"
      ]
     },
     "metadata": {},
     "output_type": "display_data"
    },
    {
     "data": {
      "application/vnd.jupyter.widget-view+json": {
       "model_id": "d4b5585a89564f1180b61065ba4f519f",
       "version_major": 2,
       "version_minor": 0
      },
      "text/plain": [
       "Valid 6/30:   0%|          | 0/27 [00:00<?, ?it/s]"
      ]
     },
     "metadata": {},
     "output_type": "display_data"
    },
    {
     "data": {
      "application/vnd.jupyter.widget-view+json": {
       "model_id": "8ee7848d5c354ff2ad29d2163345da56",
       "version_major": 2,
       "version_minor": 0
      },
      "text/plain": [
       "Train 7/30:   0%|          | 0/27 [00:00<?, ?it/s]"
      ]
     },
     "metadata": {},
     "output_type": "display_data"
    },
    {
     "data": {
      "application/vnd.jupyter.widget-view+json": {
       "model_id": "84aa9c3383b146f1a2a6ecb79ee3d119",
       "version_major": 2,
       "version_minor": 0
      },
      "text/plain": [
       "Valid 7/30:   0%|          | 0/27 [00:00<?, ?it/s]"
      ]
     },
     "metadata": {},
     "output_type": "display_data"
    },
    {
     "data": {
      "application/vnd.jupyter.widget-view+json": {
       "model_id": "ee37cc0f426241bf8d2b101615c67346",
       "version_major": 2,
       "version_minor": 0
      },
      "text/plain": [
       "Train 8/30:   0%|          | 0/27 [00:00<?, ?it/s]"
      ]
     },
     "metadata": {},
     "output_type": "display_data"
    },
    {
     "data": {
      "application/vnd.jupyter.widget-view+json": {
       "model_id": "8342039e029742039e0ce3bfc2d72dc4",
       "version_major": 2,
       "version_minor": 0
      },
      "text/plain": [
       "Valid 8/30:   0%|          | 0/27 [00:00<?, ?it/s]"
      ]
     },
     "metadata": {},
     "output_type": "display_data"
    },
    {
     "data": {
      "application/vnd.jupyter.widget-view+json": {
       "model_id": "b52a7ba4e71c4c58b5b95abe20e87e2b",
       "version_major": 2,
       "version_minor": 0
      },
      "text/plain": [
       "Train 9/30:   0%|          | 0/27 [00:00<?, ?it/s]"
      ]
     },
     "metadata": {},
     "output_type": "display_data"
    },
    {
     "data": {
      "application/vnd.jupyter.widget-view+json": {
       "model_id": "3c7f9b32a4b54a2f92c6331e1ece5df8",
       "version_major": 2,
       "version_minor": 0
      },
      "text/plain": [
       "Valid 9/30:   0%|          | 0/27 [00:00<?, ?it/s]"
      ]
     },
     "metadata": {},
     "output_type": "display_data"
    },
    {
     "data": {
      "application/vnd.jupyter.widget-view+json": {
       "model_id": "928683ebbcd548809d8c4fde99a8f62d",
       "version_major": 2,
       "version_minor": 0
      },
      "text/plain": [
       "Train 10/30:   0%|          | 0/27 [00:00<?, ?it/s]"
      ]
     },
     "metadata": {},
     "output_type": "display_data"
    },
    {
     "data": {
      "application/vnd.jupyter.widget-view+json": {
       "model_id": "db2c051bb97b40bd8ece9c7fcc630964",
       "version_major": 2,
       "version_minor": 0
      },
      "text/plain": [
       "Valid 10/30:   0%|          | 0/27 [00:00<?, ?it/s]"
      ]
     },
     "metadata": {},
     "output_type": "display_data"
    },
    {
     "name": "stdout",
     "output_type": "stream",
     "text": [
      "[Epoch 10] Train Loss=0.9909, Valid Loss=0.9832, Train MAPE=1.2184, Valid MAPE=0.6987\n"
     ]
    },
    {
     "data": {
      "application/vnd.jupyter.widget-view+json": {
       "model_id": "09db630652bf40dc80b7531bc8085870",
       "version_major": 2,
       "version_minor": 0
      },
      "text/plain": [
       "Train 11/30:   0%|          | 0/27 [00:00<?, ?it/s]"
      ]
     },
     "metadata": {},
     "output_type": "display_data"
    },
    {
     "data": {
      "application/vnd.jupyter.widget-view+json": {
       "model_id": "d2c89ddf386c4fb5b14378d440f759bb",
       "version_major": 2,
       "version_minor": 0
      },
      "text/plain": [
       "Valid 11/30:   0%|          | 0/27 [00:00<?, ?it/s]"
      ]
     },
     "metadata": {},
     "output_type": "display_data"
    },
    {
     "data": {
      "application/vnd.jupyter.widget-view+json": {
       "model_id": "a2ee8046e9594d6f921f161ac6310942",
       "version_major": 2,
       "version_minor": 0
      },
      "text/plain": [
       "Train 12/30:   0%|          | 0/27 [00:00<?, ?it/s]"
      ]
     },
     "metadata": {},
     "output_type": "display_data"
    },
    {
     "data": {
      "application/vnd.jupyter.widget-view+json": {
       "model_id": "07c088f12c7b4e0a887438ec2b423527",
       "version_major": 2,
       "version_minor": 0
      },
      "text/plain": [
       "Valid 12/30:   0%|          | 0/27 [00:00<?, ?it/s]"
      ]
     },
     "metadata": {},
     "output_type": "display_data"
    },
    {
     "data": {
      "application/vnd.jupyter.widget-view+json": {
       "model_id": "bea090c4de394da09a590863b8088460",
       "version_major": 2,
       "version_minor": 0
      },
      "text/plain": [
       "Train 13/30:   0%|          | 0/27 [00:00<?, ?it/s]"
      ]
     },
     "metadata": {},
     "output_type": "display_data"
    },
    {
     "data": {
      "application/vnd.jupyter.widget-view+json": {
       "model_id": "7e14a0217db44027844aa68d78499db7",
       "version_major": 2,
       "version_minor": 0
      },
      "text/plain": [
       "Valid 13/30:   0%|          | 0/27 [00:00<?, ?it/s]"
      ]
     },
     "metadata": {},
     "output_type": "display_data"
    },
    {
     "data": {
      "application/vnd.jupyter.widget-view+json": {
       "model_id": "f214a8b8540649d49d47706310a85b20",
       "version_major": 2,
       "version_minor": 0
      },
      "text/plain": [
       "Train 14/30:   0%|          | 0/27 [00:00<?, ?it/s]"
      ]
     },
     "metadata": {},
     "output_type": "display_data"
    },
    {
     "data": {
      "application/vnd.jupyter.widget-view+json": {
       "model_id": "b61b0418e03740b78a5b976241de83c1",
       "version_major": 2,
       "version_minor": 0
      },
      "text/plain": [
       "Valid 14/30:   0%|          | 0/27 [00:00<?, ?it/s]"
      ]
     },
     "metadata": {},
     "output_type": "display_data"
    },
    {
     "data": {
      "application/vnd.jupyter.widget-view+json": {
       "model_id": "fd1da2bc73bf479c994833c6334613cc",
       "version_major": 2,
       "version_minor": 0
      },
      "text/plain": [
       "Train 15/30:   0%|          | 0/27 [00:00<?, ?it/s]"
      ]
     },
     "metadata": {},
     "output_type": "display_data"
    },
    {
     "data": {
      "application/vnd.jupyter.widget-view+json": {
       "model_id": "114cff1ea06d4ff7ac19c07fd098a1ff",
       "version_major": 2,
       "version_minor": 0
      },
      "text/plain": [
       "Valid 15/30:   0%|          | 0/27 [00:00<?, ?it/s]"
      ]
     },
     "metadata": {},
     "output_type": "display_data"
    },
    {
     "name": "stdout",
     "output_type": "stream",
     "text": [
      "[Epoch 15] Train Loss=0.9238, Valid Loss=0.9136, Train MAPE=1.0676, Valid MAPE=0.6541\n"
     ]
    },
    {
     "data": {
      "application/vnd.jupyter.widget-view+json": {
       "model_id": "5929a4f329cc4627bc99ecf39ec2986e",
       "version_major": 2,
       "version_minor": 0
      },
      "text/plain": [
       "Train 16/30:   0%|          | 0/27 [00:00<?, ?it/s]"
      ]
     },
     "metadata": {},
     "output_type": "display_data"
    },
    {
     "data": {
      "application/vnd.jupyter.widget-view+json": {
       "model_id": "6b0ca6202eab47468e9b6e4939ad1269",
       "version_major": 2,
       "version_minor": 0
      },
      "text/plain": [
       "Valid 16/30:   0%|          | 0/27 [00:00<?, ?it/s]"
      ]
     },
     "metadata": {},
     "output_type": "display_data"
    },
    {
     "data": {
      "application/vnd.jupyter.widget-view+json": {
       "model_id": "75122266ab6947818bc50ce9a5a9eaed",
       "version_major": 2,
       "version_minor": 0
      },
      "text/plain": [
       "Train 17/30:   0%|          | 0/27 [00:00<?, ?it/s]"
      ]
     },
     "metadata": {},
     "output_type": "display_data"
    },
    {
     "data": {
      "application/vnd.jupyter.widget-view+json": {
       "model_id": "f661f5768a844406856bd64022a8940e",
       "version_major": 2,
       "version_minor": 0
      },
      "text/plain": [
       "Valid 17/30:   0%|          | 0/27 [00:00<?, ?it/s]"
      ]
     },
     "metadata": {},
     "output_type": "display_data"
    },
    {
     "data": {
      "application/vnd.jupyter.widget-view+json": {
       "model_id": "5561e3077bf04e23a2e81d75adccda64",
       "version_major": 2,
       "version_minor": 0
      },
      "text/plain": [
       "Train 18/30:   0%|          | 0/27 [00:00<?, ?it/s]"
      ]
     },
     "metadata": {},
     "output_type": "display_data"
    },
    {
     "data": {
      "application/vnd.jupyter.widget-view+json": {
       "model_id": "4f9ef256f6f14da595c1f3d824de5ce3",
       "version_major": 2,
       "version_minor": 0
      },
      "text/plain": [
       "Valid 18/30:   0%|          | 0/27 [00:00<?, ?it/s]"
      ]
     },
     "metadata": {},
     "output_type": "display_data"
    },
    {
     "data": {
      "application/vnd.jupyter.widget-view+json": {
       "model_id": "89f1003bf56b4110979a0ed233981eb3",
       "version_major": 2,
       "version_minor": 0
      },
      "text/plain": [
       "Train 19/30:   0%|          | 0/27 [00:00<?, ?it/s]"
      ]
     },
     "metadata": {},
     "output_type": "display_data"
    },
    {
     "data": {
      "application/vnd.jupyter.widget-view+json": {
       "model_id": "fb3a6f590bf24ce5aa10389fede95b0b",
       "version_major": 2,
       "version_minor": 0
      },
      "text/plain": [
       "Valid 19/30:   0%|          | 0/27 [00:00<?, ?it/s]"
      ]
     },
     "metadata": {},
     "output_type": "display_data"
    },
    {
     "data": {
      "application/vnd.jupyter.widget-view+json": {
       "model_id": "4f21bb74663f42e7a3d0a76720f43365",
       "version_major": 2,
       "version_minor": 0
      },
      "text/plain": [
       "Train 20/30:   0%|          | 0/27 [00:00<?, ?it/s]"
      ]
     },
     "metadata": {},
     "output_type": "display_data"
    },
    {
     "data": {
      "application/vnd.jupyter.widget-view+json": {
       "model_id": "463a3bec952b4ab89e09507b7be3490f",
       "version_major": 2,
       "version_minor": 0
      },
      "text/plain": [
       "Valid 20/30:   0%|          | 0/27 [00:00<?, ?it/s]"
      ]
     },
     "metadata": {},
     "output_type": "display_data"
    },
    {
     "name": "stdout",
     "output_type": "stream",
     "text": [
      "[Epoch 20] Train Loss=0.8828, Valid Loss=0.8555, Train MAPE=0.9844, Valid MAPE=0.5462\n"
     ]
    },
    {
     "data": {
      "application/vnd.jupyter.widget-view+json": {
       "model_id": "cbe6bf1c026a47f3a6ca7d78caab1bc2",
       "version_major": 2,
       "version_minor": 0
      },
      "text/plain": [
       "Train 21/30:   0%|          | 0/27 [00:00<?, ?it/s]"
      ]
     },
     "metadata": {},
     "output_type": "display_data"
    },
    {
     "data": {
      "application/vnd.jupyter.widget-view+json": {
       "model_id": "5137d143c3ca481fbf0fa2b8ef5e3820",
       "version_major": 2,
       "version_minor": 0
      },
      "text/plain": [
       "Valid 21/30:   0%|          | 0/27 [00:00<?, ?it/s]"
      ]
     },
     "metadata": {},
     "output_type": "display_data"
    },
    {
     "data": {
      "application/vnd.jupyter.widget-view+json": {
       "model_id": "3bef9a6244bf46cba1e58995c1172735",
       "version_major": 2,
       "version_minor": 0
      },
      "text/plain": [
       "Train 22/30:   0%|          | 0/27 [00:00<?, ?it/s]"
      ]
     },
     "metadata": {},
     "output_type": "display_data"
    },
    {
     "data": {
      "application/vnd.jupyter.widget-view+json": {
       "model_id": "373108cd80c74f9b86d592800a3fc7ed",
       "version_major": 2,
       "version_minor": 0
      },
      "text/plain": [
       "Valid 22/30:   0%|          | 0/27 [00:00<?, ?it/s]"
      ]
     },
     "metadata": {},
     "output_type": "display_data"
    },
    {
     "data": {
      "application/vnd.jupyter.widget-view+json": {
       "model_id": "dc5d3ab141f14a7b8c392b559b02835c",
       "version_major": 2,
       "version_minor": 0
      },
      "text/plain": [
       "Train 23/30:   0%|          | 0/27 [00:00<?, ?it/s]"
      ]
     },
     "metadata": {},
     "output_type": "display_data"
    },
    {
     "data": {
      "application/vnd.jupyter.widget-view+json": {
       "model_id": "b41d4e7ed68845a8bc0360729c95384e",
       "version_major": 2,
       "version_minor": 0
      },
      "text/plain": [
       "Valid 23/30:   0%|          | 0/27 [00:00<?, ?it/s]"
      ]
     },
     "metadata": {},
     "output_type": "display_data"
    },
    {
     "data": {
      "application/vnd.jupyter.widget-view+json": {
       "model_id": "ed2b5f2a0c33466ca060eff9fd400a7d",
       "version_major": 2,
       "version_minor": 0
      },
      "text/plain": [
       "Train 24/30:   0%|          | 0/27 [00:00<?, ?it/s]"
      ]
     },
     "metadata": {},
     "output_type": "display_data"
    },
    {
     "data": {
      "application/vnd.jupyter.widget-view+json": {
       "model_id": "2d8321f5003640588234224686acdfc2",
       "version_major": 2,
       "version_minor": 0
      },
      "text/plain": [
       "Valid 24/30:   0%|          | 0/27 [00:00<?, ?it/s]"
      ]
     },
     "metadata": {},
     "output_type": "display_data"
    },
    {
     "data": {
      "application/vnd.jupyter.widget-view+json": {
       "model_id": "5e44f55f2edb4e71abca3408f5b2f908",
       "version_major": 2,
       "version_minor": 0
      },
      "text/plain": [
       "Train 25/30:   0%|          | 0/27 [00:00<?, ?it/s]"
      ]
     },
     "metadata": {},
     "output_type": "display_data"
    },
    {
     "data": {
      "application/vnd.jupyter.widget-view+json": {
       "model_id": "58aa29bae2904f5ebce2a7bedbe6e5c1",
       "version_major": 2,
       "version_minor": 0
      },
      "text/plain": [
       "Valid 25/30:   0%|          | 0/27 [00:00<?, ?it/s]"
      ]
     },
     "metadata": {},
     "output_type": "display_data"
    },
    {
     "name": "stdout",
     "output_type": "stream",
     "text": [
      "[Epoch 25] Train Loss=0.8467, Valid Loss=0.8241, Train MAPE=0.8932, Valid MAPE=0.5515\n"
     ]
    },
    {
     "data": {
      "application/vnd.jupyter.widget-view+json": {
       "model_id": "bc22a06e3c004c0d9756c3c69ebb8272",
       "version_major": 2,
       "version_minor": 0
      },
      "text/plain": [
       "Train 26/30:   0%|          | 0/27 [00:00<?, ?it/s]"
      ]
     },
     "metadata": {},
     "output_type": "display_data"
    },
    {
     "data": {
      "application/vnd.jupyter.widget-view+json": {
       "model_id": "8410ca3301e4448ab275319424a174fa",
       "version_major": 2,
       "version_minor": 0
      },
      "text/plain": [
       "Valid 26/30:   0%|          | 0/27 [00:00<?, ?it/s]"
      ]
     },
     "metadata": {},
     "output_type": "display_data"
    },
    {
     "data": {
      "application/vnd.jupyter.widget-view+json": {
       "model_id": "4ca27ed72e9745b1970719a43c063e05",
       "version_major": 2,
       "version_minor": 0
      },
      "text/plain": [
       "Train 27/30:   0%|          | 0/27 [00:00<?, ?it/s]"
      ]
     },
     "metadata": {},
     "output_type": "display_data"
    },
    {
     "data": {
      "application/vnd.jupyter.widget-view+json": {
       "model_id": "20532e17a9e740ed84f48201a18f6ca9",
       "version_major": 2,
       "version_minor": 0
      },
      "text/plain": [
       "Valid 27/30:   0%|          | 0/27 [00:00<?, ?it/s]"
      ]
     },
     "metadata": {},
     "output_type": "display_data"
    },
    {
     "data": {
      "application/vnd.jupyter.widget-view+json": {
       "model_id": "1e93fee892274e848b1849756d9d18c5",
       "version_major": 2,
       "version_minor": 0
      },
      "text/plain": [
       "Train 28/30:   0%|          | 0/27 [00:00<?, ?it/s]"
      ]
     },
     "metadata": {},
     "output_type": "display_data"
    },
    {
     "data": {
      "application/vnd.jupyter.widget-view+json": {
       "model_id": "6e37543d395641529faf7c525016a11d",
       "version_major": 2,
       "version_minor": 0
      },
      "text/plain": [
       "Valid 28/30:   0%|          | 0/27 [00:00<?, ?it/s]"
      ]
     },
     "metadata": {},
     "output_type": "display_data"
    },
    {
     "data": {
      "application/vnd.jupyter.widget-view+json": {
       "model_id": "95c987e9fb064c66aaf030d505c76ca6",
       "version_major": 2,
       "version_minor": 0
      },
      "text/plain": [
       "Train 29/30:   0%|          | 0/27 [00:00<?, ?it/s]"
      ]
     },
     "metadata": {},
     "output_type": "display_data"
    },
    {
     "data": {
      "application/vnd.jupyter.widget-view+json": {
       "model_id": "6c4626ba111646888ab90a5ed1aaa6b4",
       "version_major": 2,
       "version_minor": 0
      },
      "text/plain": [
       "Valid 29/30:   0%|          | 0/27 [00:00<?, ?it/s]"
      ]
     },
     "metadata": {},
     "output_type": "display_data"
    },
    {
     "data": {
      "application/vnd.jupyter.widget-view+json": {
       "model_id": "4a32d527e29149829cefa498fa31c5f2",
       "version_major": 2,
       "version_minor": 0
      },
      "text/plain": [
       "Train 30/30:   0%|          | 0/27 [00:00<?, ?it/s]"
      ]
     },
     "metadata": {},
     "output_type": "display_data"
    },
    {
     "data": {
      "application/vnd.jupyter.widget-view+json": {
       "model_id": "942193589cca4edebec9eaf78d693611",
       "version_major": 2,
       "version_minor": 0
      },
      "text/plain": [
       "Valid 30/30:   0%|          | 0/27 [00:00<?, ?it/s]"
      ]
     },
     "metadata": {},
     "output_type": "display_data"
    },
    {
     "name": "stdout",
     "output_type": "stream",
     "text": [
      "[Epoch 30] Train Loss=0.8182, Valid Loss=0.7931, Train MAPE=0.8259, Valid MAPE=0.5013\n"
     ]
    },
    {
     "data": {
      "application/vnd.jupyter.widget-view+json": {
       "model_id": "6f6c12203bd34fd392f1d98cd066503a",
       "version_major": 2,
       "version_minor": 0
      },
      "text/plain": [
       "Epoch:   0%|          | 0/30 [00:00<?, ?it/s]"
      ]
     },
     "metadata": {},
     "output_type": "display_data"
    },
    {
     "data": {
      "application/vnd.jupyter.widget-view+json": {
       "model_id": "fd141e5ad1da4b368b3169cd145f2957",
       "version_major": 2,
       "version_minor": 0
      },
      "text/plain": [
       "Train 1/30:   0%|          | 0/27 [00:00<?, ?it/s]"
      ]
     },
     "metadata": {},
     "output_type": "display_data"
    },
    {
     "data": {
      "application/vnd.jupyter.widget-view+json": {
       "model_id": "06c2b20e029a43c6a3d7097c93c49ca1",
       "version_major": 2,
       "version_minor": 0
      },
      "text/plain": [
       "Valid 1/30:   0%|          | 0/27 [00:00<?, ?it/s]"
      ]
     },
     "metadata": {},
     "output_type": "display_data"
    },
    {
     "data": {
      "application/vnd.jupyter.widget-view+json": {
       "model_id": "f27c25f449f7468aac26837e3077a0d3",
       "version_major": 2,
       "version_minor": 0
      },
      "text/plain": [
       "Train 2/30:   0%|          | 0/27 [00:00<?, ?it/s]"
      ]
     },
     "metadata": {},
     "output_type": "display_data"
    },
    {
     "data": {
      "application/vnd.jupyter.widget-view+json": {
       "model_id": "52956382900d4f75b15627f362fb5ba1",
       "version_major": 2,
       "version_minor": 0
      },
      "text/plain": [
       "Valid 2/30:   0%|          | 0/27 [00:00<?, ?it/s]"
      ]
     },
     "metadata": {},
     "output_type": "display_data"
    },
    {
     "data": {
      "application/vnd.jupyter.widget-view+json": {
       "model_id": "1a8466ebd7914c7982befb77e3995d8f",
       "version_major": 2,
       "version_minor": 0
      },
      "text/plain": [
       "Train 3/30:   0%|          | 0/27 [00:00<?, ?it/s]"
      ]
     },
     "metadata": {},
     "output_type": "display_data"
    },
    {
     "data": {
      "application/vnd.jupyter.widget-view+json": {
       "model_id": "c4d85b05e21c4e3898f507615913e8cc",
       "version_major": 2,
       "version_minor": 0
      },
      "text/plain": [
       "Valid 3/30:   0%|          | 0/27 [00:00<?, ?it/s]"
      ]
     },
     "metadata": {},
     "output_type": "display_data"
    },
    {
     "data": {
      "application/vnd.jupyter.widget-view+json": {
       "model_id": "a5635d7d00704856b981682f6aa8abd4",
       "version_major": 2,
       "version_minor": 0
      },
      "text/plain": [
       "Train 4/30:   0%|          | 0/27 [00:00<?, ?it/s]"
      ]
     },
     "metadata": {},
     "output_type": "display_data"
    },
    {
     "data": {
      "application/vnd.jupyter.widget-view+json": {
       "model_id": "1e26cb44619d47cd92ad3a1f483a9feb",
       "version_major": 2,
       "version_minor": 0
      },
      "text/plain": [
       "Valid 4/30:   0%|          | 0/27 [00:00<?, ?it/s]"
      ]
     },
     "metadata": {},
     "output_type": "display_data"
    },
    {
     "data": {
      "application/vnd.jupyter.widget-view+json": {
       "model_id": "234f4a1b94cf45439f1e94cdcd3da1b8",
       "version_major": 2,
       "version_minor": 0
      },
      "text/plain": [
       "Train 5/30:   0%|          | 0/27 [00:00<?, ?it/s]"
      ]
     },
     "metadata": {},
     "output_type": "display_data"
    },
    {
     "data": {
      "application/vnd.jupyter.widget-view+json": {
       "model_id": "c118fdf3e25a4cebbdbd54e0d8a08359",
       "version_major": 2,
       "version_minor": 0
      },
      "text/plain": [
       "Valid 5/30:   0%|          | 0/27 [00:00<?, ?it/s]"
      ]
     },
     "metadata": {},
     "output_type": "display_data"
    },
    {
     "name": "stdout",
     "output_type": "stream",
     "text": [
      "[Epoch 5] Train Loss=1.2994, Valid Loss=1.2218, Train MAPE=1.4837, Valid MAPE=0.9446\n"
     ]
    },
    {
     "data": {
      "application/vnd.jupyter.widget-view+json": {
       "model_id": "89328abfe07b464ba512a77b6c437a67",
       "version_major": 2,
       "version_minor": 0
      },
      "text/plain": [
       "Train 6/30:   0%|          | 0/27 [00:00<?, ?it/s]"
      ]
     },
     "metadata": {},
     "output_type": "display_data"
    },
    {
     "data": {
      "application/vnd.jupyter.widget-view+json": {
       "model_id": "6696a070176343f8b73340c418ced38b",
       "version_major": 2,
       "version_minor": 0
      },
      "text/plain": [
       "Valid 6/30:   0%|          | 0/27 [00:00<?, ?it/s]"
      ]
     },
     "metadata": {},
     "output_type": "display_data"
    },
    {
     "data": {
      "application/vnd.jupyter.widget-view+json": {
       "model_id": "f3b9d566288047d3946dd01fc75bdd23",
       "version_major": 2,
       "version_minor": 0
      },
      "text/plain": [
       "Train 7/30:   0%|          | 0/27 [00:00<?, ?it/s]"
      ]
     },
     "metadata": {},
     "output_type": "display_data"
    },
    {
     "data": {
      "application/vnd.jupyter.widget-view+json": {
       "model_id": "c201a4a66f494c278ae0be3e80944320",
       "version_major": 2,
       "version_minor": 0
      },
      "text/plain": [
       "Valid 7/30:   0%|          | 0/27 [00:00<?, ?it/s]"
      ]
     },
     "metadata": {},
     "output_type": "display_data"
    },
    {
     "data": {
      "application/vnd.jupyter.widget-view+json": {
       "model_id": "2ce194e887a84d638971c562c8b6c26b",
       "version_major": 2,
       "version_minor": 0
      },
      "text/plain": [
       "Train 8/30:   0%|          | 0/27 [00:00<?, ?it/s]"
      ]
     },
     "metadata": {},
     "output_type": "display_data"
    },
    {
     "data": {
      "application/vnd.jupyter.widget-view+json": {
       "model_id": "3c925b22a4744d2fb0b649c6652c79dc",
       "version_major": 2,
       "version_minor": 0
      },
      "text/plain": [
       "Valid 8/30:   0%|          | 0/27 [00:00<?, ?it/s]"
      ]
     },
     "metadata": {},
     "output_type": "display_data"
    },
    {
     "data": {
      "application/vnd.jupyter.widget-view+json": {
       "model_id": "fe5cb0757a894ec194122a93d14583e1",
       "version_major": 2,
       "version_minor": 0
      },
      "text/plain": [
       "Train 9/30:   0%|          | 0/27 [00:00<?, ?it/s]"
      ]
     },
     "metadata": {},
     "output_type": "display_data"
    },
    {
     "data": {
      "application/vnd.jupyter.widget-view+json": {
       "model_id": "5cc356315511430a832f87267f7b5fa6",
       "version_major": 2,
       "version_minor": 0
      },
      "text/plain": [
       "Valid 9/30:   0%|          | 0/27 [00:00<?, ?it/s]"
      ]
     },
     "metadata": {},
     "output_type": "display_data"
    },
    {
     "data": {
      "application/vnd.jupyter.widget-view+json": {
       "model_id": "1c3fc16a96e74e09a190c746e6d7b4db",
       "version_major": 2,
       "version_minor": 0
      },
      "text/plain": [
       "Train 10/30:   0%|          | 0/27 [00:00<?, ?it/s]"
      ]
     },
     "metadata": {},
     "output_type": "display_data"
    },
    {
     "data": {
      "application/vnd.jupyter.widget-view+json": {
       "model_id": "3839963d02a7441a9323e2e096140a7c",
       "version_major": 2,
       "version_minor": 0
      },
      "text/plain": [
       "Valid 10/30:   0%|          | 0/27 [00:00<?, ?it/s]"
      ]
     },
     "metadata": {},
     "output_type": "display_data"
    },
    {
     "name": "stdout",
     "output_type": "stream",
     "text": [
      "[Epoch 10] Train Loss=1.0062, Valid Loss=0.9975, Train MAPE=1.2151, Valid MAPE=0.7210\n"
     ]
    },
    {
     "data": {
      "application/vnd.jupyter.widget-view+json": {
       "model_id": "e2b3e11e39bd4656bfe62cdc84c13989",
       "version_major": 2,
       "version_minor": 0
      },
      "text/plain": [
       "Train 11/30:   0%|          | 0/27 [00:00<?, ?it/s]"
      ]
     },
     "metadata": {},
     "output_type": "display_data"
    },
    {
     "data": {
      "application/vnd.jupyter.widget-view+json": {
       "model_id": "f1dd48dab3cc4156a6cc8cc5b1014955",
       "version_major": 2,
       "version_minor": 0
      },
      "text/plain": [
       "Valid 11/30:   0%|          | 0/27 [00:00<?, ?it/s]"
      ]
     },
     "metadata": {},
     "output_type": "display_data"
    },
    {
     "data": {
      "application/vnd.jupyter.widget-view+json": {
       "model_id": "207bcd97cae74c0b9b6b57b9e64125c7",
       "version_major": 2,
       "version_minor": 0
      },
      "text/plain": [
       "Train 12/30:   0%|          | 0/27 [00:00<?, ?it/s]"
      ]
     },
     "metadata": {},
     "output_type": "display_data"
    },
    {
     "data": {
      "application/vnd.jupyter.widget-view+json": {
       "model_id": "019437634222468fa86a862661eb20c7",
       "version_major": 2,
       "version_minor": 0
      },
      "text/plain": [
       "Valid 12/30:   0%|          | 0/27 [00:00<?, ?it/s]"
      ]
     },
     "metadata": {},
     "output_type": "display_data"
    },
    {
     "data": {
      "application/vnd.jupyter.widget-view+json": {
       "model_id": "cceb856066cf457bbf4f3de824289aab",
       "version_major": 2,
       "version_minor": 0
      },
      "text/plain": [
       "Train 13/30:   0%|          | 0/27 [00:00<?, ?it/s]"
      ]
     },
     "metadata": {},
     "output_type": "display_data"
    },
    {
     "data": {
      "application/vnd.jupyter.widget-view+json": {
       "model_id": "9e58a27505bc49959b553ee08341a2a6",
       "version_major": 2,
       "version_minor": 0
      },
      "text/plain": [
       "Valid 13/30:   0%|          | 0/27 [00:00<?, ?it/s]"
      ]
     },
     "metadata": {},
     "output_type": "display_data"
    },
    {
     "data": {
      "application/vnd.jupyter.widget-view+json": {
       "model_id": "ae3233a56b36404d8ce1ee7bea920784",
       "version_major": 2,
       "version_minor": 0
      },
      "text/plain": [
       "Train 14/30:   0%|          | 0/27 [00:00<?, ?it/s]"
      ]
     },
     "metadata": {},
     "output_type": "display_data"
    },
    {
     "data": {
      "application/vnd.jupyter.widget-view+json": {
       "model_id": "496c6c608db14d5392ad8ae85d96e7ac",
       "version_major": 2,
       "version_minor": 0
      },
      "text/plain": [
       "Valid 14/30:   0%|          | 0/27 [00:00<?, ?it/s]"
      ]
     },
     "metadata": {},
     "output_type": "display_data"
    },
    {
     "data": {
      "application/vnd.jupyter.widget-view+json": {
       "model_id": "4fb984f425284f668e607d290d510d97",
       "version_major": 2,
       "version_minor": 0
      },
      "text/plain": [
       "Train 15/30:   0%|          | 0/27 [00:00<?, ?it/s]"
      ]
     },
     "metadata": {},
     "output_type": "display_data"
    },
    {
     "data": {
      "application/vnd.jupyter.widget-view+json": {
       "model_id": "1069cf4c7fe849a9b06418abf0ea2459",
       "version_major": 2,
       "version_minor": 0
      },
      "text/plain": [
       "Valid 15/30:   0%|          | 0/27 [00:00<?, ?it/s]"
      ]
     },
     "metadata": {},
     "output_type": "display_data"
    },
    {
     "name": "stdout",
     "output_type": "stream",
     "text": [
      "[Epoch 15] Train Loss=0.9331, Valid Loss=0.9116, Train MAPE=1.0772, Valid MAPE=0.6190\n"
     ]
    },
    {
     "data": {
      "application/vnd.jupyter.widget-view+json": {
       "model_id": "24989d07b08f4daf9141d1772b7927ae",
       "version_major": 2,
       "version_minor": 0
      },
      "text/plain": [
       "Train 16/30:   0%|          | 0/27 [00:00<?, ?it/s]"
      ]
     },
     "metadata": {},
     "output_type": "display_data"
    },
    {
     "data": {
      "application/vnd.jupyter.widget-view+json": {
       "model_id": "00344cb3f6664f8d998c337ea1cc6f31",
       "version_major": 2,
       "version_minor": 0
      },
      "text/plain": [
       "Valid 16/30:   0%|          | 0/27 [00:00<?, ?it/s]"
      ]
     },
     "metadata": {},
     "output_type": "display_data"
    },
    {
     "data": {
      "application/vnd.jupyter.widget-view+json": {
       "model_id": "c08d022c2558407c8461394eaf6ec0f5",
       "version_major": 2,
       "version_minor": 0
      },
      "text/plain": [
       "Train 17/30:   0%|          | 0/27 [00:00<?, ?it/s]"
      ]
     },
     "metadata": {},
     "output_type": "display_data"
    },
    {
     "data": {
      "application/vnd.jupyter.widget-view+json": {
       "model_id": "149150bf5f09404c97e100e85f1481ee",
       "version_major": 2,
       "version_minor": 0
      },
      "text/plain": [
       "Valid 17/30:   0%|          | 0/27 [00:00<?, ?it/s]"
      ]
     },
     "metadata": {},
     "output_type": "display_data"
    },
    {
     "data": {
      "application/vnd.jupyter.widget-view+json": {
       "model_id": "268adcba73254d568e140e7b33734507",
       "version_major": 2,
       "version_minor": 0
      },
      "text/plain": [
       "Train 18/30:   0%|          | 0/27 [00:00<?, ?it/s]"
      ]
     },
     "metadata": {},
     "output_type": "display_data"
    },
    {
     "data": {
      "application/vnd.jupyter.widget-view+json": {
       "model_id": "4fa35a43dd0f4b80ba6abaa74e722080",
       "version_major": 2,
       "version_minor": 0
      },
      "text/plain": [
       "Valid 18/30:   0%|          | 0/27 [00:00<?, ?it/s]"
      ]
     },
     "metadata": {},
     "output_type": "display_data"
    },
    {
     "data": {
      "application/vnd.jupyter.widget-view+json": {
       "model_id": "10bff0354ffd4e4eafd9d1ff5bdd1912",
       "version_major": 2,
       "version_minor": 0
      },
      "text/plain": [
       "Train 19/30:   0%|          | 0/27 [00:00<?, ?it/s]"
      ]
     },
     "metadata": {},
     "output_type": "display_data"
    },
    {
     "data": {
      "application/vnd.jupyter.widget-view+json": {
       "model_id": "876154e38e834e72868f4ba4f8882045",
       "version_major": 2,
       "version_minor": 0
      },
      "text/plain": [
       "Valid 19/30:   0%|          | 0/27 [00:00<?, ?it/s]"
      ]
     },
     "metadata": {},
     "output_type": "display_data"
    },
    {
     "data": {
      "application/vnd.jupyter.widget-view+json": {
       "model_id": "7c4cf449b8bd4615b62a8418a303410d",
       "version_major": 2,
       "version_minor": 0
      },
      "text/plain": [
       "Train 20/30:   0%|          | 0/27 [00:00<?, ?it/s]"
      ]
     },
     "metadata": {},
     "output_type": "display_data"
    },
    {
     "data": {
      "application/vnd.jupyter.widget-view+json": {
       "model_id": "e0652ecea1bc4ff0b79be6454522ba5b",
       "version_major": 2,
       "version_minor": 0
      },
      "text/plain": [
       "Valid 20/30:   0%|          | 0/27 [00:00<?, ?it/s]"
      ]
     },
     "metadata": {},
     "output_type": "display_data"
    },
    {
     "name": "stdout",
     "output_type": "stream",
     "text": [
      "[Epoch 20] Train Loss=0.8866, Valid Loss=0.8612, Train MAPE=0.9900, Valid MAPE=0.5958\n"
     ]
    },
    {
     "data": {
      "application/vnd.jupyter.widget-view+json": {
       "model_id": "0ab3593c280048ec8e7e444baaa2d7f5",
       "version_major": 2,
       "version_minor": 0
      },
      "text/plain": [
       "Train 21/30:   0%|          | 0/27 [00:00<?, ?it/s]"
      ]
     },
     "metadata": {},
     "output_type": "display_data"
    },
    {
     "data": {
      "application/vnd.jupyter.widget-view+json": {
       "model_id": "ab63f560efd54bcf9cfacb59934fcedf",
       "version_major": 2,
       "version_minor": 0
      },
      "text/plain": [
       "Valid 21/30:   0%|          | 0/27 [00:00<?, ?it/s]"
      ]
     },
     "metadata": {},
     "output_type": "display_data"
    },
    {
     "data": {
      "application/vnd.jupyter.widget-view+json": {
       "model_id": "32943db6aee94afb9f038f3afba3711c",
       "version_major": 2,
       "version_minor": 0
      },
      "text/plain": [
       "Train 22/30:   0%|          | 0/27 [00:00<?, ?it/s]"
      ]
     },
     "metadata": {},
     "output_type": "display_data"
    },
    {
     "data": {
      "application/vnd.jupyter.widget-view+json": {
       "model_id": "0d9a5946a7dc432aa85cedb165c7b35a",
       "version_major": 2,
       "version_minor": 0
      },
      "text/plain": [
       "Valid 22/30:   0%|          | 0/27 [00:00<?, ?it/s]"
      ]
     },
     "metadata": {},
     "output_type": "display_data"
    },
    {
     "data": {
      "application/vnd.jupyter.widget-view+json": {
       "model_id": "d07d44dd42dd4e909b88510df802213a",
       "version_major": 2,
       "version_minor": 0
      },
      "text/plain": [
       "Train 23/30:   0%|          | 0/27 [00:00<?, ?it/s]"
      ]
     },
     "metadata": {},
     "output_type": "display_data"
    },
    {
     "data": {
      "application/vnd.jupyter.widget-view+json": {
       "model_id": "b78386b0fe0a4e308962e0b70594f90a",
       "version_major": 2,
       "version_minor": 0
      },
      "text/plain": [
       "Valid 23/30:   0%|          | 0/27 [00:00<?, ?it/s]"
      ]
     },
     "metadata": {},
     "output_type": "display_data"
    },
    {
     "data": {
      "application/vnd.jupyter.widget-view+json": {
       "model_id": "b859bec673184a4a8c2995dd96e25497",
       "version_major": 2,
       "version_minor": 0
      },
      "text/plain": [
       "Train 24/30:   0%|          | 0/27 [00:00<?, ?it/s]"
      ]
     },
     "metadata": {},
     "output_type": "display_data"
    },
    {
     "data": {
      "application/vnd.jupyter.widget-view+json": {
       "model_id": "5a2aec424db04ed699b25115e02cae86",
       "version_major": 2,
       "version_minor": 0
      },
      "text/plain": [
       "Valid 24/30:   0%|          | 0/27 [00:00<?, ?it/s]"
      ]
     },
     "metadata": {},
     "output_type": "display_data"
    },
    {
     "data": {
      "application/vnd.jupyter.widget-view+json": {
       "model_id": "ee8fc91a26de4f7b9deb3c7093f9df8b",
       "version_major": 2,
       "version_minor": 0
      },
      "text/plain": [
       "Train 25/30:   0%|          | 0/27 [00:00<?, ?it/s]"
      ]
     },
     "metadata": {},
     "output_type": "display_data"
    },
    {
     "data": {
      "application/vnd.jupyter.widget-view+json": {
       "model_id": "61dcc2f0172743aa95427ab41e6c9024",
       "version_major": 2,
       "version_minor": 0
      },
      "text/plain": [
       "Valid 25/30:   0%|          | 0/27 [00:00<?, ?it/s]"
      ]
     },
     "metadata": {},
     "output_type": "display_data"
    },
    {
     "name": "stdout",
     "output_type": "stream",
     "text": [
      "[Epoch 25] Train Loss=0.8502, Valid Loss=0.8244, Train MAPE=0.8995, Valid MAPE=0.5164\n"
     ]
    },
    {
     "data": {
      "application/vnd.jupyter.widget-view+json": {
       "model_id": "0a1ae256ce254b9e80a7acb8d2169012",
       "version_major": 2,
       "version_minor": 0
      },
      "text/plain": [
       "Train 26/30:   0%|          | 0/27 [00:00<?, ?it/s]"
      ]
     },
     "metadata": {},
     "output_type": "display_data"
    },
    {
     "data": {
      "application/vnd.jupyter.widget-view+json": {
       "model_id": "79471a86a2e44d27ac3b2c827510f06e",
       "version_major": 2,
       "version_minor": 0
      },
      "text/plain": [
       "Valid 26/30:   0%|          | 0/27 [00:00<?, ?it/s]"
      ]
     },
     "metadata": {},
     "output_type": "display_data"
    },
    {
     "data": {
      "application/vnd.jupyter.widget-view+json": {
       "model_id": "ef472b112050454ca25d40698ff7725a",
       "version_major": 2,
       "version_minor": 0
      },
      "text/plain": [
       "Train 27/30:   0%|          | 0/27 [00:00<?, ?it/s]"
      ]
     },
     "metadata": {},
     "output_type": "display_data"
    },
    {
     "data": {
      "application/vnd.jupyter.widget-view+json": {
       "model_id": "20d945acfda248dfbe1ee713c78ca9a1",
       "version_major": 2,
       "version_minor": 0
      },
      "text/plain": [
       "Valid 27/30:   0%|          | 0/27 [00:00<?, ?it/s]"
      ]
     },
     "metadata": {},
     "output_type": "display_data"
    },
    {
     "data": {
      "application/vnd.jupyter.widget-view+json": {
       "model_id": "83d316006c904a7f8efd75ba40a42e89",
       "version_major": 2,
       "version_minor": 0
      },
      "text/plain": [
       "Train 28/30:   0%|          | 0/27 [00:00<?, ?it/s]"
      ]
     },
     "metadata": {},
     "output_type": "display_data"
    },
    {
     "data": {
      "application/vnd.jupyter.widget-view+json": {
       "model_id": "196a01f7c6af45c9a14eceda264da01d",
       "version_major": 2,
       "version_minor": 0
      },
      "text/plain": [
       "Valid 28/30:   0%|          | 0/27 [00:00<?, ?it/s]"
      ]
     },
     "metadata": {},
     "output_type": "display_data"
    },
    {
     "data": {
      "application/vnd.jupyter.widget-view+json": {
       "model_id": "3559d200a3204535961a9f103eab28ce",
       "version_major": 2,
       "version_minor": 0
      },
      "text/plain": [
       "Train 29/30:   0%|          | 0/27 [00:00<?, ?it/s]"
      ]
     },
     "metadata": {},
     "output_type": "display_data"
    },
    {
     "data": {
      "application/vnd.jupyter.widget-view+json": {
       "model_id": "3d8cf34b2ff149af80498588225c88d0",
       "version_major": 2,
       "version_minor": 0
      },
      "text/plain": [
       "Valid 29/30:   0%|          | 0/27 [00:00<?, ?it/s]"
      ]
     },
     "metadata": {},
     "output_type": "display_data"
    },
    {
     "data": {
      "application/vnd.jupyter.widget-view+json": {
       "model_id": "d08b4813f2ad4ee4a64d12556db8865e",
       "version_major": 2,
       "version_minor": 0
      },
      "text/plain": [
       "Train 30/30:   0%|          | 0/27 [00:00<?, ?it/s]"
      ]
     },
     "metadata": {},
     "output_type": "display_data"
    },
    {
     "data": {
      "application/vnd.jupyter.widget-view+json": {
       "model_id": "1452318b0629489f9d4a1cb2b1349183",
       "version_major": 2,
       "version_minor": 0
      },
      "text/plain": [
       "Valid 30/30:   0%|          | 0/27 [00:00<?, ?it/s]"
      ]
     },
     "metadata": {},
     "output_type": "display_data"
    },
    {
     "name": "stdout",
     "output_type": "stream",
     "text": [
      "[Epoch 30] Train Loss=0.8228, Valid Loss=0.7954, Train MAPE=0.8378, Valid MAPE=0.4940\n"
     ]
    },
    {
     "data": {
      "image/png": "[encoded data removed]",
      "text/plain": [
       "<Figure size 640x480 with 1 Axes>"
      ]
     },
     "metadata": {},
     "output_type": "display_data"
    },
    {
     "data": {
      "image/png": "[encoded data removed]",
      "text/plain": [
       "<Figure size 640x480 with 1 Axes>"
      ]
     },
     "metadata": {},
     "output_type": "display_data"
    },
    {
     "data": {
      "image/png": "[encoded data removed]",
      "text/plain": [
       "<Figure size 600x400 with 1 Axes>"
      ]
     },
     "metadata": {},
     "output_type": "display_data"
    },
    {
     "name": "stdout",
     "output_type": "stream",
     "text": [
      "Seed=0, 조합 인덱스=5\n"
     ]
    },
    {
     "data": {
      "application/vnd.jupyter.widget-view+json": {
       "model_id": "06ecaf5719654dd4a0597581a72e0dce",
       "version_major": 2,
       "version_minor": 0
      },
      "text/plain": [
       "Epoch:   0%|          | 0/30 [00:00<?, ?it/s]"
      ]
     },
     "metadata": {},
     "output_type": "display_data"
    },
    {
     "data": {
      "application/vnd.jupyter.widget-view+json": {
       "model_id": "e253a9c5ad144d4c9f3944d229f297b3",
       "version_major": 2,
       "version_minor": 0
      },
      "text/plain": [
       "Train 1/30:   0%|          | 0/27 [00:00<?, ?it/s]"
      ]
     },
     "metadata": {},
     "output_type": "display_data"
    },
    {
     "data": {
      "application/vnd.jupyter.widget-view+json": {
       "model_id": "35ef65cfa7a143c9927f74bede149a31",
       "version_major": 2,
       "version_minor": 0
      },
      "text/plain": [
       "Valid 1/30:   0%|          | 0/27 [00:00<?, ?it/s]"
      ]
     },
     "metadata": {},
     "output_type": "display_data"
    },
    {
     "data": {
      "application/vnd.jupyter.widget-view+json": {
       "model_id": "88784719b66545fc84010be4b3dc0e60",
       "version_major": 2,
       "version_minor": 0
      },
      "text/plain": [
       "Train 2/30:   0%|          | 0/27 [00:00<?, ?it/s]"
      ]
     },
     "metadata": {},
     "output_type": "display_data"
    },
    {
     "data": {
      "application/vnd.jupyter.widget-view+json": {
       "model_id": "6f96470b912543679715caf4c4948334",
       "version_major": 2,
       "version_minor": 0
      },
      "text/plain": [
       "Valid 2/30:   0%|          | 0/27 [00:00<?, ?it/s]"
      ]
     },
     "metadata": {},
     "output_type": "display_data"
    },
    {
     "data": {
      "application/vnd.jupyter.widget-view+json": {
       "model_id": "8e9c37757cd341c581a0e8763a1fc7ee",
       "version_major": 2,
       "version_minor": 0
      },
      "text/plain": [
       "Train 3/30:   0%|          | 0/27 [00:00<?, ?it/s]"
      ]
     },
     "metadata": {},
     "output_type": "display_data"
    },
    {
     "data": {
      "application/vnd.jupyter.widget-view+json": {
       "model_id": "58b00e2f2acd4b0da0a0e89376ee0f34",
       "version_major": 2,
       "version_minor": 0
      },
      "text/plain": [
       "Valid 3/30:   0%|          | 0/27 [00:00<?, ?it/s]"
      ]
     },
     "metadata": {},
     "output_type": "display_data"
    },
    {
     "data": {
      "application/vnd.jupyter.widget-view+json": {
       "model_id": "5885eb90568d48df8836ca8cc27d75a6",
       "version_major": 2,
       "version_minor": 0
      },
      "text/plain": [
       "Train 4/30:   0%|          | 0/27 [00:00<?, ?it/s]"
      ]
     },
     "metadata": {},
     "output_type": "display_data"
    },
    {
     "data": {
      "application/vnd.jupyter.widget-view+json": {
       "model_id": "64cd25f6488b4bab91c5f9e703350421",
       "version_major": 2,
       "version_minor": 0
      },
      "text/plain": [
       "Valid 4/30:   0%|          | 0/27 [00:00<?, ?it/s]"
      ]
     },
     "metadata": {},
     "output_type": "display_data"
    },
    {
     "data": {
      "application/vnd.jupyter.widget-view+json": {
       "model_id": "5af442afcc214610963f6bee861c3762",
       "version_major": 2,
       "version_minor": 0
      },
      "text/plain": [
       "Train 5/30:   0%|          | 0/27 [00:00<?, ?it/s]"
      ]
     },
     "metadata": {},
     "output_type": "display_data"
    },
    {
     "data": {
      "application/vnd.jupyter.widget-view+json": {
       "model_id": "61a54eaa74154a8194cee1742325b033",
       "version_major": 2,
       "version_minor": 0
      },
      "text/plain": [
       "Valid 5/30:   0%|          | 0/27 [00:00<?, ?it/s]"
      ]
     },
     "metadata": {},
     "output_type": "display_data"
    },
    {
     "name": "stdout",
     "output_type": "stream",
     "text": [
      "[Epoch 5] Train Loss=1.3078, Valid Loss=1.2079, Train MAPE=1.6916, Valid MAPE=0.8905\n"
     ]
    },
    {
     "data": {
      "application/vnd.jupyter.widget-view+json": {
       "model_id": "3ef2e267d2ce47eba86daa9e7237f314",
       "version_major": 2,
       "version_minor": 0
      },
      "text/plain": [
       "Train 6/30:   0%|          | 0/27 [00:00<?, ?it/s]"
      ]
     },
     "metadata": {},
     "output_type": "display_data"
    },
    {
     "data": {
      "application/vnd.jupyter.widget-view+json": {
       "model_id": "522ac815da3f440bbdc59715f996ecd3",
       "version_major": 2,
       "version_minor": 0
      },
      "text/plain": [
       "Valid 6/30:   0%|          | 0/27 [00:00<?, ?it/s]"
      ]
     },
     "metadata": {},
     "output_type": "display_data"
    },
    {
     "data": {
      "application/vnd.jupyter.widget-view+json": {
       "model_id": "eb1e9028697c49cf92f34467d8cb4a63",
       "version_major": 2,
       "version_minor": 0
      },
      "text/plain": [
       "Train 7/30:   0%|          | 0/27 [00:00<?, ?it/s]"
      ]
     },
     "metadata": {},
     "output_type": "display_data"
    },
    {
     "data": {
      "application/vnd.jupyter.widget-view+json": {
       "model_id": "6bd3c0f3c59745f29e34d5cb8ce296d0",
       "version_major": 2,
       "version_minor": 0
      },
      "text/plain": [
       "Valid 7/30:   0%|          | 0/27 [00:00<?, ?it/s]"
      ]
     },
     "metadata": {},
     "output_type": "display_data"
    },
    {
     "data": {
      "application/vnd.jupyter.widget-view+json": {
       "model_id": "50ecf8f1daab4735834ebe509ae22368",
       "version_major": 2,
       "version_minor": 0
      },
      "text/plain": [
       "Train 8/30:   0%|          | 0/27 [00:00<?, ?it/s]"
      ]
     },
     "metadata": {},
     "output_type": "display_data"
    },
    {
     "data": {
      "application/vnd.jupyter.widget-view+json": {
       "model_id": "cf4da65582f9466394864a6517782873",
       "version_major": 2,
       "version_minor": 0
      },
      "text/plain": [
       "Valid 8/30:   0%|          | 0/27 [00:00<?, ?it/s]"
      ]
     },
     "metadata": {},
     "output_type": "display_data"
    },
    {
     "data": {
      "application/vnd.jupyter.widget-view+json": {
       "model_id": "b943e785e62541cfadc4894dbfefe5b0",
       "version_major": 2,
       "version_minor": 0
      },
      "text/plain": [
       "Train 9/30:   0%|          | 0/27 [00:00<?, ?it/s]"
      ]
     },
     "metadata": {},
     "output_type": "display_data"
    },
    {
     "data": {
      "application/vnd.jupyter.widget-view+json": {
       "model_id": "9e6e567d0141427ab48c547ca974f68e",
       "version_major": 2,
       "version_minor": 0
      },
      "text/plain": [
       "Valid 9/30:   0%|          | 0/27 [00:00<?, ?it/s]"
      ]
     },
     "metadata": {},
     "output_type": "display_data"
    },
    {
     "data": {
      "application/vnd.jupyter.widget-view+json": {
       "model_id": "e3b3c794352d41abb60f2e60c775d6ee",
       "version_major": 2,
       "version_minor": 0
      },
      "text/plain": [
       "Train 10/30:   0%|          | 0/27 [00:00<?, ?it/s]"
      ]
     },
     "metadata": {},
     "output_type": "display_data"
    },
    {
     "data": {
      "application/vnd.jupyter.widget-view+json": {
       "model_id": "98e6894954de4c269ab68fc2be8fbf3c",
       "version_major": 2,
       "version_minor": 0
      },
      "text/plain": [
       "Valid 10/30:   0%|          | 0/27 [00:00<?, ?it/s]"
      ]
     },
     "metadata": {},
     "output_type": "display_data"
    },
    {
     "name": "stdout",
     "output_type": "stream",
     "text": [
      "[Epoch 10] Train Loss=0.9996, Valid Loss=0.9716, Train MAPE=1.3341, Valid MAPE=0.6653\n"
     ]
    },
    {
     "data": {
      "application/vnd.jupyter.widget-view+json": {
       "model_id": "a727d85674a6493390f0ca37ab374fb6",
       "version_major": 2,
       "version_minor": 0
      },
      "text/plain": [
       "Train 11/30:   0%|          | 0/27 [00:00<?, ?it/s]"
      ]
     },
     "metadata": {},
     "output_type": "display_data"
    },
    {
     "data": {
      "application/vnd.jupyter.widget-view+json": {
       "model_id": "5b3fd857892d4b14a3a3a8e044fa7799",
       "version_major": 2,
       "version_minor": 0
      },
      "text/plain": [
       "Valid 11/30:   0%|          | 0/27 [00:00<?, ?it/s]"
      ]
     },
     "metadata": {},
     "output_type": "display_data"
    },
    {
     "data": {
      "application/vnd.jupyter.widget-view+json": {
       "model_id": "fd2a1dbfa83b4a7bbf76bec28aa3d745",
       "version_major": 2,
       "version_minor": 0
      },
      "text/plain": [
       "Train 12/30:   0%|          | 0/27 [00:00<?, ?it/s]"
      ]
     },
     "metadata": {},
     "output_type": "display_data"
    },
    {
     "data": {
      "application/vnd.jupyter.widget-view+json": {
       "model_id": "9bbbc28796e9458b9d818c7c55df51d3",
       "version_major": 2,
       "version_minor": 0
      },
      "text/plain": [
       "Valid 12/30:   0%|          | 0/27 [00:00<?, ?it/s]"
      ]
     },
     "metadata": {},
     "output_type": "display_data"
    },
    {
     "data": {
      "application/vnd.jupyter.widget-view+json": {
       "model_id": "219eea7b3b834ac89297b954e642f920",
       "version_major": 2,
       "version_minor": 0
      },
      "text/plain": [
       "Train 13/30:   0%|          | 0/27 [00:00<?, ?it/s]"
      ]
     },
     "metadata": {},
     "output_type": "display_data"
    },
    {
     "data": {
      "application/vnd.jupyter.widget-view+json": {
       "model_id": "f8056c47f82c4727bff9f24c1d805045",
       "version_major": 2,
       "version_minor": 0
      },
      "text/plain": [
       "Valid 13/30:   0%|          | 0/27 [00:00<?, ?it/s]"
      ]
     },
     "metadata": {},
     "output_type": "display_data"
    },
    {
     "data": {
      "application/vnd.jupyter.widget-view+json": {
       "model_id": "92fe24d3ff5c4ed7b22b34c9f347b86b",
       "version_major": 2,
       "version_minor": 0
      },
      "text/plain": [
       "Train 14/30:   0%|          | 0/27 [00:00<?, ?it/s]"
      ]
     },
     "metadata": {},
     "output_type": "display_data"
    },
    {
     "data": {
      "application/vnd.jupyter.widget-view+json": {
       "model_id": "44bf752c9e414a6aa4d26db91c258cb8",
       "version_major": 2,
       "version_minor": 0
      },
      "text/plain": [
       "Valid 14/30:   0%|          | 0/27 [00:00<?, ?it/s]"
      ]
     },
     "metadata": {},
     "output_type": "display_data"
    },
    {
     "data": {
      "application/vnd.jupyter.widget-view+json": {
       "model_id": "8cdcd14dbd5f4e48960865c06544493f",
       "version_major": 2,
       "version_minor": 0
      },
      "text/plain": [
       "Train 15/30:   0%|          | 0/27 [00:00<?, ?it/s]"
      ]
     },
     "metadata": {},
     "output_type": "display_data"
    },
    {
     "data": {
      "application/vnd.jupyter.widget-view+json": {
       "model_id": "8d1499ac5c9c465d921fc050c6cc3e91",
       "version_major": 2,
       "version_minor": 0
      },
      "text/plain": [
       "Valid 15/30:   0%|          | 0/27 [00:00<?, ?it/s]"
      ]
     },
     "metadata": {},
     "output_type": "display_data"
    },
    {
     "name": "stdout",
     "output_type": "stream",
     "text": [
      "[Epoch 15] Train Loss=0.9267, Valid Loss=0.8987, Train MAPE=1.1342, Valid MAPE=0.6160\n"
     ]
    },
    {
     "data": {
      "application/vnd.jupyter.widget-view+json": {
       "model_id": "cc4af61ed72540508c6cd42685ddd670",
       "version_major": 2,
       "version_minor": 0
      },
      "text/plain": [
       "Train 16/30:   0%|          | 0/27 [00:00<?, ?it/s]"
      ]
     },
     "metadata": {},
     "output_type": "display_data"
    },
    {
     "data": {
      "application/vnd.jupyter.widget-view+json": {
       "model_id": "b52a6d83ece7418a8de58a7c88b70e84",
       "version_major": 2,
       "version_minor": 0
      },
      "text/plain": [
       "Valid 16/30:   0%|          | 0/27 [00:00<?, ?it/s]"
      ]
     },
     "metadata": {},
     "output_type": "display_data"
    },
    {
     "data": {
      "application/vnd.jupyter.widget-view+json": {
       "model_id": "89ac04455f3a4b51bc5bf01885d6e06c",
       "version_major": 2,
       "version_minor": 0
      },
      "text/plain": [
       "Train 17/30:   0%|          | 0/27 [00:00<?, ?it/s]"
      ]
     },
     "metadata": {},
     "output_type": "display_data"
    },
    {
     "data": {
      "application/vnd.jupyter.widget-view+json": {
       "model_id": "f8dfcb7bd4244466a56f85ad372678af",
       "version_major": 2,
       "version_minor": 0
      },
      "text/plain": [
       "Valid 17/30:   0%|          | 0/27 [00:00<?, ?it/s]"
      ]
     },
     "metadata": {},
     "output_type": "display_data"
    },
    {
     "data": {
      "application/vnd.jupyter.widget-view+json": {
       "model_id": "3cb12af4021a4a6caad5e02caa99cdca",
       "version_major": 2,
       "version_minor": 0
      },
      "text/plain": [
       "Train 18/30:   0%|          | 0/27 [00:00<?, ?it/s]"
      ]
     },
     "metadata": {},
     "output_type": "display_data"
    },
    {
     "data": {
      "application/vnd.jupyter.widget-view+json": {
       "model_id": "01a8a7d8da984c9c8b8aaa3c857fb60f",
       "version_major": 2,
       "version_minor": 0
      },
      "text/plain": [
       "Valid 18/30:   0%|          | 0/27 [00:00<?, ?it/s]"
      ]
     },
     "metadata": {},
     "output_type": "display_data"
    },
    {
     "data": {
      "application/vnd.jupyter.widget-view+json": {
       "model_id": "2b3fe5d676a345459ffca871ae0f84f7",
       "version_major": 2,
       "version_minor": 0
      },
      "text/plain": [
       "Train 19/30:   0%|          | 0/27 [00:00<?, ?it/s]"
      ]
     },
     "metadata": {},
     "output_type": "display_data"
    },
    {
     "data": {
      "application/vnd.jupyter.widget-view+json": {
       "model_id": "c322b1b547c446299a3cb4ed823159eb",
       "version_major": 2,
       "version_minor": 0
      },
      "text/plain": [
       "Valid 19/30:   0%|          | 0/27 [00:00<?, ?it/s]"
      ]
     },
     "metadata": {},
     "output_type": "display_data"
    },
    {
     "data": {
      "application/vnd.jupyter.widget-view+json": {
       "model_id": "78909c5001944f3fb1a3c8b7402ab448",
       "version_major": 2,
       "version_minor": 0
      },
      "text/plain": [
       "Train 20/30:   0%|          | 0/27 [00:00<?, ?it/s]"
      ]
     },
     "metadata": {},
     "output_type": "display_data"
    },
    {
     "data": {
      "application/vnd.jupyter.widget-view+json": {
       "model_id": "67dcadc324684e5299271d4567298c1c",
       "version_major": 2,
       "version_minor": 0
      },
      "text/plain": [
       "Valid 20/30:   0%|          | 0/27 [00:00<?, ?it/s]"
      ]
     },
     "metadata": {},
     "output_type": "display_data"
    },
    {
     "name": "stdout",
     "output_type": "stream",
     "text": [
      "[Epoch 20] Train Loss=0.8819, Valid Loss=0.8550, Train MAPE=1.0062, Valid MAPE=0.5993\n"
     ]
    },
    {
     "data": {
      "application/vnd.jupyter.widget-view+json": {
       "model_id": "fe8153e5926641d3b0d62b7400bb7d7b",
       "version_major": 2,
       "version_minor": 0
      },
      "text/plain": [
       "Train 21/30:   0%|          | 0/27 [00:00<?, ?it/s]"
      ]
     },
     "metadata": {},
     "output_type": "display_data"
    },
    {
     "data": {
      "application/vnd.jupyter.widget-view+json": {
       "model_id": "ce688754e5bf4cd88fabcdd604a0de03",
       "version_major": 2,
       "version_minor": 0
      },
      "text/plain": [
       "Valid 21/30:   0%|          | 0/27 [00:00<?, ?it/s]"
      ]
     },
     "metadata": {},
     "output_type": "display_data"
    },
    {
     "data": {
      "application/vnd.jupyter.widget-view+json": {
       "model_id": "615f34f5bc514504ac9fb3738e296395",
       "version_major": 2,
       "version_minor": 0
      },
      "text/plain": [
       "Train 22/30:   0%|          | 0/27 [00:00<?, ?it/s]"
      ]
     },
     "metadata": {},
     "output_type": "display_data"
    },
    {
     "data": {
      "application/vnd.jupyter.widget-view+json": {
       "model_id": "20a3542ae01d4913bb52b2c3edccede7",
       "version_major": 2,
       "version_minor": 0
      },
      "text/plain": [
       "Valid 22/30:   0%|          | 0/27 [00:00<?, ?it/s]"
      ]
     },
     "metadata": {},
     "output_type": "display_data"
    },
    {
     "data": {
      "application/vnd.jupyter.widget-view+json": {
       "model_id": "6a936bea01ca4cd8a4cca46f396c36a9",
       "version_major": 2,
       "version_minor": 0
      },
      "text/plain": [
       "Train 23/30:   0%|          | 0/27 [00:00<?, ?it/s]"
      ]
     },
     "metadata": {},
     "output_type": "display_data"
    },
    {
     "data": {
      "application/vnd.jupyter.widget-view+json": {
       "model_id": "5f6da89facd44a59a2c5e81e95c74715",
       "version_major": 2,
       "version_minor": 0
      },
      "text/plain": [
       "Valid 23/30:   0%|          | 0/27 [00:00<?, ?it/s]"
      ]
     },
     "metadata": {},
     "output_type": "display_data"
    },
    {
     "data": {
      "application/vnd.jupyter.widget-view+json": {
       "model_id": "fc2c99feea6c4f36b8818901f21920d2",
       "version_major": 2,
       "version_minor": 0
      },
      "text/plain": [
       "Train 24/30:   0%|          | 0/27 [00:00<?, ?it/s]"
      ]
     },
     "metadata": {},
     "output_type": "display_data"
    },
    {
     "data": {
      "application/vnd.jupyter.widget-view+json": {
       "model_id": "c875cf5cfbb649fa9e5317d40080f983",
       "version_major": 2,
       "version_minor": 0
      },
      "text/plain": [
       "Valid 24/30:   0%|          | 0/27 [00:00<?, ?it/s]"
      ]
     },
     "metadata": {},
     "output_type": "display_data"
    },
    {
     "data": {
      "application/vnd.jupyter.widget-view+json": {
       "model_id": "0836ce78f5864eeda48fd63b5e81b39a",
       "version_major": 2,
       "version_minor": 0
      },
      "text/plain": [
       "Train 25/30:   0%|          | 0/27 [00:00<?, ?it/s]"
      ]
     },
     "metadata": {},
     "output_type": "display_data"
    },
    {
     "data": {
      "application/vnd.jupyter.widget-view+json": {
       "model_id": "e0aca2bb34a342d0b426e4ae4848ee02",
       "version_major": 2,
       "version_minor": 0
      },
      "text/plain": [
       "Valid 25/30:   0%|          | 0/27 [00:00<?, ?it/s]"
      ]
     },
     "metadata": {},
     "output_type": "display_data"
    },
    {
     "name": "stdout",
     "output_type": "stream",
     "text": [
      "[Epoch 25] Train Loss=0.8493, Valid Loss=0.8197, Train MAPE=0.8823, Valid MAPE=0.5313\n"
     ]
    },
    {
     "data": {
      "application/vnd.jupyter.widget-view+json": {
       "model_id": "125846c14ef24905b2d877cbd928e829",
       "version_major": 2,
       "version_minor": 0
      },
      "text/plain": [
       "Train 26/30:   0%|          | 0/27 [00:00<?, ?it/s]"
      ]
     },
     "metadata": {},
     "output_type": "display_data"
    },
    {
     "data": {
      "application/vnd.jupyter.widget-view+json": {
       "model_id": "11aaca5f186c444085a7ae78e2bc3c46",
       "version_major": 2,
       "version_minor": 0
      },
      "text/plain": [
       "Valid 26/30:   0%|          | 0/27 [00:00<?, ?it/s]"
      ]
     },
     "metadata": {},
     "output_type": "display_data"
    },
    {
     "data": {
      "application/vnd.jupyter.widget-view+json": {
       "model_id": "5e587789dc164045a0fa397c57104423",
       "version_major": 2,
       "version_minor": 0
      },
      "text/plain": [
       "Train 27/30:   0%|          | 0/27 [00:00<?, ?it/s]"
      ]
     },
     "metadata": {},
     "output_type": "display_data"
    },
    {
     "data": {
      "application/vnd.jupyter.widget-view+json": {
       "model_id": "9ad3f569ec39421e869120407b5aebb2",
       "version_major": 2,
       "version_minor": 0
      },
      "text/plain": [
       "Valid 27/30:   0%|          | 0/27 [00:00<?, ?it/s]"
      ]
     },
     "metadata": {},
     "output_type": "display_data"
    },
    {
     "data": {
      "application/vnd.jupyter.widget-view+json": {
       "model_id": "f1e1439ab64b476badc81191016fd404",
       "version_major": 2,
       "version_minor": 0
      },
      "text/plain": [
       "Train 28/30:   0%|          | 0/27 [00:00<?, ?it/s]"
      ]
     },
     "metadata": {},
     "output_type": "display_data"
    },
    {
     "data": {
      "application/vnd.jupyter.widget-view+json": {
       "model_id": "25e5b10fde3d407c9b1d588bc794ad0b",
       "version_major": 2,
       "version_minor": 0
      },
      "text/plain": [
       "Valid 28/30:   0%|          | 0/27 [00:00<?, ?it/s]"
      ]
     },
     "metadata": {},
     "output_type": "display_data"
    },
    {
     "data": {
      "application/vnd.jupyter.widget-view+json": {
       "model_id": "65c1e530422346ab9cc4f4ffa22db05e",
       "version_major": 2,
       "version_minor": 0
      },
      "text/plain": [
       "Train 29/30:   0%|          | 0/27 [00:00<?, ?it/s]"
      ]
     },
     "metadata": {},
     "output_type": "display_data"
    },
    {
     "data": {
      "application/vnd.jupyter.widget-view+json": {
       "model_id": "2d32d82d69ae4152ba6d7c035541af55",
       "version_major": 2,
       "version_minor": 0
      },
      "text/plain": [
       "Valid 29/30:   0%|          | 0/27 [00:00<?, ?it/s]"
      ]
     },
     "metadata": {},
     "output_type": "display_data"
    },
    {
     "data": {
      "application/vnd.jupyter.widget-view+json": {
       "model_id": "31fb8c07850f414c8b804b0017e4dc12",
       "version_major": 2,
       "version_minor": 0
      },
      "text/plain": [
       "Train 30/30:   0%|          | 0/27 [00:00<?, ?it/s]"
      ]
     },
     "metadata": {},
     "output_type": "display_data"
    },
    {
     "data": {
      "application/vnd.jupyter.widget-view+json": {
       "model_id": "d50502a9b6ab41fe948ae113a00382db",
       "version_major": 2,
       "version_minor": 0
      },
      "text/plain": [
       "Valid 30/30:   0%|          | 0/27 [00:00<?, ?it/s]"
      ]
     },
     "metadata": {},
     "output_type": "display_data"
    },
    {
     "name": "stdout",
     "output_type": "stream",
     "text": [
      "[Epoch 30] Train Loss=0.8225, Valid Loss=0.7903, Train MAPE=0.7973, Valid MAPE=0.4958\n"
     ]
    },
    {
     "data": {
      "application/vnd.jupyter.widget-view+json": {
       "model_id": "accb58eb91364709b43975f83f3d357c",
       "version_major": 2,
       "version_minor": 0
      },
      "text/plain": [
       "Epoch:   0%|          | 0/30 [00:00<?, ?it/s]"
      ]
     },
     "metadata": {},
     "output_type": "display_data"
    },
    {
     "data": {
      "application/vnd.jupyter.widget-view+json": {
       "model_id": "44365a09e4c24b7fac28041989122c2c",
       "version_major": 2,
       "version_minor": 0
      },
      "text/plain": [
       "Train 1/30:   0%|          | 0/27 [00:00<?, ?it/s]"
      ]
     },
     "metadata": {},
     "output_type": "display_data"
    },
    {
     "data": {
      "application/vnd.jupyter.widget-view+json": {
       "model_id": "702d53f7fb2743c78075835394ac9bda",
       "version_major": 2,
       "version_minor": 0
      },
      "text/plain": [
       "Valid 1/30:   0%|          | 0/27 [00:00<?, ?it/s]"
      ]
     },
     "metadata": {},
     "output_type": "display_data"
    },
    {
     "data": {
      "application/vnd.jupyter.widget-view+json": {
       "model_id": "cea899d359064723add30e014824c2ff",
       "version_major": 2,
       "version_minor": 0
      },
      "text/plain": [
       "Train 2/30:   0%|          | 0/27 [00:00<?, ?it/s]"
      ]
     },
     "metadata": {},
     "output_type": "display_data"
    },
    {
     "data": {
      "application/vnd.jupyter.widget-view+json": {
       "model_id": "82b59f26d87f464c86a3fd02341be666",
       "version_major": 2,
       "version_minor": 0
      },
      "text/plain": [
       "Valid 2/30:   0%|          | 0/27 [00:00<?, ?it/s]"
      ]
     },
     "metadata": {},
     "output_type": "display_data"
    },
    {
     "data": {
      "application/vnd.jupyter.widget-view+json": {
       "model_id": "cf14a59392b74149a00757e739c1bded",
       "version_major": 2,
       "version_minor": 0
      },
      "text/plain": [
       "Train 3/30:   0%|          | 0/27 [00:00<?, ?it/s]"
      ]
     },
     "metadata": {},
     "output_type": "display_data"
    },
    {
     "data": {
      "application/vnd.jupyter.widget-view+json": {
       "model_id": "dcc5103e85b640d99759f8d62997eb35",
       "version_major": 2,
       "version_minor": 0
      },
      "text/plain": [
       "Valid 3/30:   0%|          | 0/27 [00:00<?, ?it/s]"
      ]
     },
     "metadata": {},
     "output_type": "display_data"
    },
    {
     "data": {
      "application/vnd.jupyter.widget-view+json": {
       "model_id": "a7092d80e1834cd897b5932f8ce74242",
       "version_major": 2,
       "version_minor": 0
      },
      "text/plain": [
       "Train 4/30:   0%|          | 0/27 [00:00<?, ?it/s]"
      ]
     },
     "metadata": {},
     "output_type": "display_data"
    },
    {
     "data": {
      "application/vnd.jupyter.widget-view+json": {
       "model_id": "ba65d49a64154fbc9a3aa930b18befd7",
       "version_major": 2,
       "version_minor": 0
      },
      "text/plain": [
       "Valid 4/30:   0%|          | 0/27 [00:00<?, ?it/s]"
      ]
     },
     "metadata": {},
     "output_type": "display_data"
    },
    {
     "data": {
      "application/vnd.jupyter.widget-view+json": {
       "model_id": "6bb2ae350fde47ec89caa2265cd016bc",
       "version_major": 2,
       "version_minor": 0
      },
      "text/plain": [
       "Train 5/30:   0%|          | 0/27 [00:00<?, ?it/s]"
      ]
     },
     "metadata": {},
     "output_type": "display_data"
    },
    {
     "data": {
      "application/vnd.jupyter.widget-view+json": {
       "model_id": "d1f580dbb4454e41abb81d9b1658da63",
       "version_major": 2,
       "version_minor": 0
      },
      "text/plain": [
       "Valid 5/30:   0%|          | 0/27 [00:00<?, ?it/s]"
      ]
     },
     "metadata": {},
     "output_type": "display_data"
    },
    {
     "name": "stdout",
     "output_type": "stream",
     "text": [
      "[Epoch 5] Train Loss=1.3883, Valid Loss=1.2703, Train MAPE=1.8544, Valid MAPE=1.0174\n"
     ]
    },
    {
     "data": {
      "application/vnd.jupyter.widget-view+json": {
       "model_id": "c8f004a1cb264fceb92ff7cbe62bdd41",
       "version_major": 2,
       "version_minor": 0
      },
      "text/plain": [
       "Train 6/30:   0%|          | 0/27 [00:00<?, ?it/s]"
      ]
     },
     "metadata": {},
     "output_type": "display_data"
    },
    {
     "data": {
      "application/vnd.jupyter.widget-view+json": {
       "model_id": "170c0324e2964793a7f3cebc91e7ecdb",
       "version_major": 2,
       "version_minor": 0
      },
      "text/plain": [
       "Valid 6/30:   0%|          | 0/27 [00:00<?, ?it/s]"
      ]
     },
     "metadata": {},
     "output_type": "display_data"
    },
    {
     "data": {
      "application/vnd.jupyter.widget-view+json": {
       "model_id": "87b07bb22cfa4d52bebf4ca39424bfec",
       "version_major": 2,
       "version_minor": 0
      },
      "text/plain": [
       "Train 7/30:   0%|          | 0/27 [00:00<?, ?it/s]"
      ]
     },
     "metadata": {},
     "output_type": "display_data"
    },
    {
     "data": {
      "application/vnd.jupyter.widget-view+json": {
       "model_id": "5d801b08e07d4f2f8b4c157c1e78c231",
       "version_major": 2,
       "version_minor": 0
      },
      "text/plain": [
       "Valid 7/30:   0%|          | 0/27 [00:00<?, ?it/s]"
      ]
     },
     "metadata": {},
     "output_type": "display_data"
    },
    {
     "data": {
      "application/vnd.jupyter.widget-view+json": {
       "model_id": "591515babe6d4ab58cd0c866b8b87779",
       "version_major": 2,
       "version_minor": 0
      },
      "text/plain": [
       "Train 8/30:   0%|          | 0/27 [00:00<?, ?it/s]"
      ]
     },
     "metadata": {},
     "output_type": "display_data"
    },
    {
     "data": {
      "application/vnd.jupyter.widget-view+json": {
       "model_id": "9da65a3a2633449a86117f478bf748a8",
       "version_major": 2,
       "version_minor": 0
      },
      "text/plain": [
       "Valid 8/30:   0%|          | 0/27 [00:00<?, ?it/s]"
      ]
     },
     "metadata": {},
     "output_type": "display_data"
    },
    {
     "data": {
      "application/vnd.jupyter.widget-view+json": {
       "model_id": "511e5fcb5703449f8079e5b4fb084f29",
       "version_major": 2,
       "version_minor": 0
      },
      "text/plain": [
       "Train 9/30:   0%|          | 0/27 [00:00<?, ?it/s]"
      ]
     },
     "metadata": {},
     "output_type": "display_data"
    },
    {
     "data": {
      "application/vnd.jupyter.widget-view+json": {
       "model_id": "32fc78691b784c9f837a3cd6155542ea",
       "version_major": 2,
       "version_minor": 0
      },
      "text/plain": [
       "Valid 9/30:   0%|          | 0/27 [00:00<?, ?it/s]"
      ]
     },
     "metadata": {},
     "output_type": "display_data"
    },
    {
     "data": {
      "application/vnd.jupyter.widget-view+json": {
       "model_id": "03ea1a7036054418b731f58b6224a294",
       "version_major": 2,
       "version_minor": 0
      },
      "text/plain": [
       "Train 10/30:   0%|          | 0/27 [00:00<?, ?it/s]"
      ]
     },
     "metadata": {},
     "output_type": "display_data"
    },
    {
     "data": {
      "application/vnd.jupyter.widget-view+json": {
       "model_id": "13f787b64bd5468d849592236c0e3638",
       "version_major": 2,
       "version_minor": 0
      },
      "text/plain": [
       "Valid 10/30:   0%|          | 0/27 [00:00<?, ?it/s]"
      ]
     },
     "metadata": {},
     "output_type": "display_data"
    },
    {
     "name": "stdout",
     "output_type": "stream",
     "text": [
      "[Epoch 10] Train Loss=1.0146, Valid Loss=0.9837, Train MAPE=1.4260, Valid MAPE=0.7328\n"
     ]
    },
    {
     "data": {
      "application/vnd.jupyter.widget-view+json": {
       "model_id": "8ff1ae0269994199860f949a1ba67395",
       "version_major": 2,
       "version_minor": 0
      },
      "text/plain": [
       "Train 11/30:   0%|          | 0/27 [00:00<?, ?it/s]"
      ]
     },
     "metadata": {},
     "output_type": "display_data"
    },
    {
     "data": {
      "application/vnd.jupyter.widget-view+json": {
       "model_id": "23a2c843e9d74ba6922caaac4628501a",
       "version_major": 2,
       "version_minor": 0
      },
      "text/plain": [
       "Valid 11/30:   0%|          | 0/27 [00:00<?, ?it/s]"
      ]
     },
     "metadata": {},
     "output_type": "display_data"
    },
    {
     "data": {
      "application/vnd.jupyter.widget-view+json": {
       "model_id": "19f0867552a24b15b740ed1f87324281",
       "version_major": 2,
       "version_minor": 0
      },
      "text/plain": [
       "Train 12/30:   0%|          | 0/27 [00:00<?, ?it/s]"
      ]
     },
     "metadata": {},
     "output_type": "display_data"
    },
    {
     "data": {
      "application/vnd.jupyter.widget-view+json": {
       "model_id": "d3afabe7afe34cebb92d4eeeacdad656",
       "version_major": 2,
       "version_minor": 0
      },
      "text/plain": [
       "Valid 12/30:   0%|          | 0/27 [00:00<?, ?it/s]"
      ]
     },
     "metadata": {},
     "output_type": "display_data"
    },
    {
     "data": {
      "application/vnd.jupyter.widget-view+json": {
       "model_id": "c9a1c542a4104c309e7c9dcb7df0d2a1",
       "version_major": 2,
       "version_minor": 0
      },
      "text/plain": [
       "Train 13/30:   0%|          | 0/27 [00:00<?, ?it/s]"
      ]
     },
     "metadata": {},
     "output_type": "display_data"
    },
    {
     "data": {
      "application/vnd.jupyter.widget-view+json": {
       "model_id": "ff81669d8ab645adb29808563ee29942",
       "version_major": 2,
       "version_minor": 0
      },
      "text/plain": [
       "Valid 13/30:   0%|          | 0/27 [00:00<?, ?it/s]"
      ]
     },
     "metadata": {},
     "output_type": "display_data"
    },
    {
     "data": {
      "application/vnd.jupyter.widget-view+json": {
       "model_id": "cf91345f354340fe932c7411c6c70e0c",
       "version_major": 2,
       "version_minor": 0
      },
      "text/plain": [
       "Train 14/30:   0%|          | 0/27 [00:00<?, ?it/s]"
      ]
     },
     "metadata": {},
     "output_type": "display_data"
    },
    {
     "data": {
      "application/vnd.jupyter.widget-view+json": {
       "model_id": "bdf3d1a8a999479598b01a1da5b2b4ad",
       "version_major": 2,
       "version_minor": 0
      },
      "text/plain": [
       "Valid 14/30:   0%|          | 0/27 [00:00<?, ?it/s]"
      ]
     },
     "metadata": {},
     "output_type": "display_data"
    },
    {
     "data": {
      "application/vnd.jupyter.widget-view+json": {
       "model_id": "39c71bd371714ffa8ad1c22d9435ac0c",
       "version_major": 2,
       "version_minor": 0
      },
      "text/plain": [
       "Train 15/30:   0%|          | 0/27 [00:00<?, ?it/s]"
      ]
     },
     "metadata": {},
     "output_type": "display_data"
    },
    {
     "data": {
      "application/vnd.jupyter.widget-view+json": {
       "model_id": "a8af49b7785e4730afe5990abaa50047",
       "version_major": 2,
       "version_minor": 0
      },
      "text/plain": [
       "Valid 15/30:   0%|          | 0/27 [00:00<?, ?it/s]"
      ]
     },
     "metadata": {},
     "output_type": "display_data"
    },
    {
     "name": "stdout",
     "output_type": "stream",
     "text": [
      "[Epoch 15] Train Loss=0.9347, Valid Loss=0.8970, Train MAPE=1.2063, Valid MAPE=0.5993\n"
     ]
    },
    {
     "data": {
      "application/vnd.jupyter.widget-view+json": {
       "model_id": "fc947f9edbe14da0bf72c16119a70e96",
       "version_major": 2,
       "version_minor": 0
      },
      "text/plain": [
       "Train 16/30:   0%|          | 0/27 [00:00<?, ?it/s]"
      ]
     },
     "metadata": {},
     "output_type": "display_data"
    },
    {
     "data": {
      "application/vnd.jupyter.widget-view+json": {
       "model_id": "09078266f6034395b774aa3aa0e65977",
       "version_major": 2,
       "version_minor": 0
      },
      "text/plain": [
       "Valid 16/30:   0%|          | 0/27 [00:00<?, ?it/s]"
      ]
     },
     "metadata": {},
     "output_type": "display_data"
    },
    {
     "data": {
      "application/vnd.jupyter.widget-view+json": {
       "model_id": "31d742ed16a74ce99f4763bd6d5c4923",
       "version_major": 2,
       "version_minor": 0
      },
      "text/plain": [
       "Train 17/30:   0%|          | 0/27 [00:00<?, ?it/s]"
      ]
     },
     "metadata": {},
     "output_type": "display_data"
    },
    {
     "data": {
      "application/vnd.jupyter.widget-view+json": {
       "model_id": "c59bd19805364b3badd6c360b8378711",
       "version_major": 2,
       "version_minor": 0
      },
      "text/plain": [
       "Valid 17/30:   0%|          | 0/27 [00:00<?, ?it/s]"
      ]
     },
     "metadata": {},
     "output_type": "display_data"
    },
    {
     "data": {
      "application/vnd.jupyter.widget-view+json": {
       "model_id": "c5f89cb55b744f0d8dc6d276e43634f4",
       "version_major": 2,
       "version_minor": 0
      },
      "text/plain": [
       "Train 18/30:   0%|          | 0/27 [00:00<?, ?it/s]"
      ]
     },
     "metadata": {},
     "output_type": "display_data"
    },
    {
     "data": {
      "application/vnd.jupyter.widget-view+json": {
       "model_id": "09f0718086ea45fba51c4333fcb18ffe",
       "version_major": 2,
       "version_minor": 0
      },
      "text/plain": [
       "Valid 18/30:   0%|          | 0/27 [00:00<?, ?it/s]"
      ]
     },
     "metadata": {},
     "output_type": "display_data"
    },
    {
     "data": {
      "application/vnd.jupyter.widget-view+json": {
       "model_id": "77179bdc9e69463b899d196373a24fd0",
       "version_major": 2,
       "version_minor": 0
      },
      "text/plain": [
       "Train 19/30:   0%|          | 0/27 [00:00<?, ?it/s]"
      ]
     },
     "metadata": {},
     "output_type": "display_data"
    },
    {
     "data": {
      "application/vnd.jupyter.widget-view+json": {
       "model_id": "88b350b74cf042c89d68b1cd8a12ac2f",
       "version_major": 2,
       "version_minor": 0
      },
      "text/plain": [
       "Valid 19/30:   0%|          | 0/27 [00:00<?, ?it/s]"
      ]
     },
     "metadata": {},
     "output_type": "display_data"
    },
    {
     "data": {
      "application/vnd.jupyter.widget-view+json": {
       "model_id": "643af7d7ea8c4ec8932db401a388c5c5",
       "version_major": 2,
       "version_minor": 0
      },
      "text/plain": [
       "Train 20/30:   0%|          | 0/27 [00:00<?, ?it/s]"
      ]
     },
     "metadata": {},
     "output_type": "display_data"
    },
    {
     "data": {
      "application/vnd.jupyter.widget-view+json": {
       "model_id": "5d2eb939f8f947a0b23c55857106cd74",
       "version_major": 2,
       "version_minor": 0
      },
      "text/plain": [
       "Valid 20/30:   0%|          | 0/27 [00:00<?, ?it/s]"
      ]
     },
     "metadata": {},
     "output_type": "display_data"
    },
    {
     "name": "stdout",
     "output_type": "stream",
     "text": [
      "[Epoch 20] Train Loss=0.8939, Valid Loss=0.8564, Train MAPE=1.0704, Valid MAPE=0.6106\n"
     ]
    },
    {
     "data": {
      "application/vnd.jupyter.widget-view+json": {
       "model_id": "2265d76a367549d88ccd2bbfe751b8cf",
       "version_major": 2,
       "version_minor": 0
      },
      "text/plain": [
       "Train 21/30:   0%|          | 0/27 [00:00<?, ?it/s]"
      ]
     },
     "metadata": {},
     "output_type": "display_data"
    },
    {
     "data": {
      "application/vnd.jupyter.widget-view+json": {
       "model_id": "e66c81ef8e594ceda15db5aaf3ab430f",
       "version_major": 2,
       "version_minor": 0
      },
      "text/plain": [
       "Valid 21/30:   0%|          | 0/27 [00:00<?, ?it/s]"
      ]
     },
     "metadata": {},
     "output_type": "display_data"
    },
    {
     "data": {
      "application/vnd.jupyter.widget-view+json": {
       "model_id": "413e60ed85a943888dadb56d524d2c0c",
       "version_major": 2,
       "version_minor": 0
      },
      "text/plain": [
       "Train 22/30:   0%|          | 0/27 [00:00<?, ?it/s]"
      ]
     },
     "metadata": {},
     "output_type": "display_data"
    },
    {
     "data": {
      "application/vnd.jupyter.widget-view+json": {
       "model_id": "dbfc42a7ec304fabbff3ce497fede951",
       "version_major": 2,
       "version_minor": 0
      },
      "text/plain": [
       "Valid 22/30:   0%|          | 0/27 [00:00<?, ?it/s]"
      ]
     },
     "metadata": {},
     "output_type": "display_data"
    },
    {
     "data": {
      "application/vnd.jupyter.widget-view+json": {
       "model_id": "1118a4bf238446dba34f15db253a115e",
       "version_major": 2,
       "version_minor": 0
      },
      "text/plain": [
       "Train 23/30:   0%|          | 0/27 [00:00<?, ?it/s]"
      ]
     },
     "metadata": {},
     "output_type": "display_data"
    },
    {
     "data": {
      "application/vnd.jupyter.widget-view+json": {
       "model_id": "08a51ce0b6a04351a20eba94578aa9d2",
       "version_major": 2,
       "version_minor": 0
      },
      "text/plain": [
       "Valid 23/30:   0%|          | 0/27 [00:00<?, ?it/s]"
      ]
     },
     "metadata": {},
     "output_type": "display_data"
    },
    {
     "data": {
      "application/vnd.jupyter.widget-view+json": {
       "model_id": "243262c4a5e645a9b53827653b56421e",
       "version_major": 2,
       "version_minor": 0
      },
      "text/plain": [
       "Train 24/30:   0%|          | 0/27 [00:00<?, ?it/s]"
      ]
     },
     "metadata": {},
     "output_type": "display_data"
    },
    {
     "data": {
      "application/vnd.jupyter.widget-view+json": {
       "model_id": "2ebc14938d204dd999ad275a989e7d06",
       "version_major": 2,
       "version_minor": 0
      },
      "text/plain": [
       "Valid 24/30:   0%|          | 0/27 [00:00<?, ?it/s]"
      ]
     },
     "metadata": {},
     "output_type": "display_data"
    },
    {
     "data": {
      "application/vnd.jupyter.widget-view+json": {
       "model_id": "8b6b8cf238f2454590f4ea761c87f3fe",
       "version_major": 2,
       "version_minor": 0
      },
      "text/plain": [
       "Train 25/30:   0%|          | 0/27 [00:00<?, ?it/s]"
      ]
     },
     "metadata": {},
     "output_type": "display_data"
    },
    {
     "data": {
      "application/vnd.jupyter.widget-view+json": {
       "model_id": "75321ad4e5c94c5da87377729bc00f60",
       "version_major": 2,
       "version_minor": 0
      },
      "text/plain": [
       "Valid 25/30:   0%|          | 0/27 [00:00<?, ?it/s]"
      ]
     },
     "metadata": {},
     "output_type": "display_data"
    },
    {
     "name": "stdout",
     "output_type": "stream",
     "text": [
      "[Epoch 25] Train Loss=0.8606, Valid Loss=0.8225, Train MAPE=0.9442, Valid MAPE=0.4993\n"
     ]
    },
    {
     "data": {
      "application/vnd.jupyter.widget-view+json": {
       "model_id": "905a4cc98458482a98831fd4c97198fb",
       "version_major": 2,
       "version_minor": 0
      },
      "text/plain": [
       "Train 26/30:   0%|          | 0/27 [00:00<?, ?it/s]"
      ]
     },
     "metadata": {},
     "output_type": "display_data"
    },
    {
     "data": {
      "application/vnd.jupyter.widget-view+json": {
       "model_id": "a45ee5d11fbb49eba0674692dd4a595f",
       "version_major": 2,
       "version_minor": 0
      },
      "text/plain": [
       "Valid 26/30:   0%|          | 0/27 [00:00<?, ?it/s]"
      ]
     },
     "metadata": {},
     "output_type": "display_data"
    },
    {
     "data": {
      "application/vnd.jupyter.widget-view+json": {
       "model_id": "ee03227f0bd14e6bb8e21dfa5701322e",
       "version_major": 2,
       "version_minor": 0
      },
      "text/plain": [
       "Train 27/30:   0%|          | 0/27 [00:00<?, ?it/s]"
      ]
     },
     "metadata": {},
     "output_type": "display_data"
    },
    {
     "data": {
      "application/vnd.jupyter.widget-view+json": {
       "model_id": "1da0f62d71ec48cdb95166a97d5cc9ce",
       "version_major": 2,
       "version_minor": 0
      },
      "text/plain": [
       "Valid 27/30:   0%|          | 0/27 [00:00<?, ?it/s]"
      ]
     },
     "metadata": {},
     "output_type": "display_data"
    },
    {
     "data": {
      "application/vnd.jupyter.widget-view+json": {
       "model_id": "194ab6e96bd844fdadbe6ab03bbfb5e7",
       "version_major": 2,
       "version_minor": 0
      },
      "text/plain": [
       "Train 28/30:   0%|          | 0/27 [00:00<?, ?it/s]"
      ]
     },
     "metadata": {},
     "output_type": "display_data"
    },
    {
     "data": {
      "application/vnd.jupyter.widget-view+json": {
       "model_id": "2c90433793d244338b25d5ae17c0b6f2",
       "version_major": 2,
       "version_minor": 0
      },
      "text/plain": [
       "Valid 28/30:   0%|          | 0/27 [00:00<?, ?it/s]"
      ]
     },
     "metadata": {},
     "output_type": "display_data"
    },
    {
     "data": {
      "application/vnd.jupyter.widget-view+json": {
       "model_id": "3a9633486f164f0580ee1da216d96467",
       "version_major": 2,
       "version_minor": 0
      },
      "text/plain": [
       "Train 29/30:   0%|          | 0/27 [00:00<?, ?it/s]"
      ]
     },
     "metadata": {},
     "output_type": "display_data"
    },
    {
     "data": {
      "application/vnd.jupyter.widget-view+json": {
       "model_id": "2c2f46258d8d48ab8f3a9324bb2a728c",
       "version_major": 2,
       "version_minor": 0
      },
      "text/plain": [
       "Valid 29/30:   0%|          | 0/27 [00:00<?, ?it/s]"
      ]
     },
     "metadata": {},
     "output_type": "display_data"
    },
    {
     "data": {
      "application/vnd.jupyter.widget-view+json": {
       "model_id": "18f4acfa82014a0593730216d16ba4ef",
       "version_major": 2,
       "version_minor": 0
      },
      "text/plain": [
       "Train 30/30:   0%|          | 0/27 [00:00<?, ?it/s]"
      ]
     },
     "metadata": {},
     "output_type": "display_data"
    },
    {
     "data": {
      "application/vnd.jupyter.widget-view+json": {
       "model_id": "22e3672e9c4842f596cc6bc7a9832d2c",
       "version_major": 2,
       "version_minor": 0
      },
      "text/plain": [
       "Valid 30/30:   0%|          | 0/27 [00:00<?, ?it/s]"
      ]
     },
     "metadata": {},
     "output_type": "display_data"
    },
    {
     "name": "stdout",
     "output_type": "stream",
     "text": [
      "[Epoch 30] Train Loss=0.8347, Valid Loss=0.7992, Train MAPE=0.8512, Valid MAPE=0.5234\n"
     ]
    },
    {
     "data": {
      "image/png": "[encoded data removed]",
      "text/plain": [
       "<Figure size 640x480 with 1 Axes>"
      ]
     },
     "metadata": {},
     "output_type": "display_data"
    },
    {
     "data": {
      "image/png": "[encoded data removed]",
      "text/plain": [
       "<Figure size 640x480 with 1 Axes>"
      ]
     },
     "metadata": {},
     "output_type": "display_data"
    },
    {
     "data": {
      "image/png": "[encoded data removed]",
      "text/plain": [
       "<Figure size 600x400 with 1 Axes>"
      ]
     },
     "metadata": {},
     "output_type": "display_data"
    },
    {
     "name": "stdout",
     "output_type": "stream",
     "text": [
      "Seed=0, 조합 인덱스=6\n"
     ]
    },
    {
     "data": {
      "application/vnd.jupyter.widget-view+json": {
       "model_id": "ac22a621928f4ce4835aeeaf153b2d4b",
       "version_major": 2,
       "version_minor": 0
      },
      "text/plain": [
       "Epoch:   0%|          | 0/30 [00:00<?, ?it/s]"
      ]
     },
     "metadata": {},
     "output_type": "display_data"
    },
    {
     "data": {
      "application/vnd.jupyter.widget-view+json": {
       "model_id": "27c8674eeae94f5fa3ba21f6354c235e",
       "version_major": 2,
       "version_minor": 0
      },
      "text/plain": [
       "Train 1/30:   0%|          | 0/27 [00:00<?, ?it/s]"
      ]
     },
     "metadata": {},
     "output_type": "display_data"
    },
    {
     "data": {
      "application/vnd.jupyter.widget-view+json": {
       "model_id": "cd7a6c6fcef64e98aa0c1cd9dfd6c919",
       "version_major": 2,
       "version_minor": 0
      },
      "text/plain": [
       "Valid 1/30:   0%|          | 0/27 [00:00<?, ?it/s]"
      ]
     },
     "metadata": {},
     "output_type": "display_data"
    },
    {
     "data": {
      "application/vnd.jupyter.widget-view+json": {
       "model_id": "3ba3f84ee4324e0e9a497d6589df35de",
       "version_major": 2,
       "version_minor": 0
      },
      "text/plain": [
       "Train 2/30:   0%|          | 0/27 [00:00<?, ?it/s]"
      ]
     },
     "metadata": {},
     "output_type": "display_data"
    },
    {
     "data": {
      "application/vnd.jupyter.widget-view+json": {
       "model_id": "c1e43f31edcd48549713ed504d651302",
       "version_major": 2,
       "version_minor": 0
      },
      "text/plain": [
       "Valid 2/30:   0%|          | 0/27 [00:00<?, ?it/s]"
      ]
     },
     "metadata": {},
     "output_type": "display_data"
    },
    {
     "data": {
      "application/vnd.jupyter.widget-view+json": {
       "model_id": "73a1b5adda7841f79560a115abb5e36d",
       "version_major": 2,
       "version_minor": 0
      },
      "text/plain": [
       "Train 3/30:   0%|          | 0/27 [00:00<?, ?it/s]"
      ]
     },
     "metadata": {},
     "output_type": "display_data"
    },
    {
     "data": {
      "application/vnd.jupyter.widget-view+json": {
       "model_id": "eb6e7ed45ed140c293f65d5fb9196820",
       "version_major": 2,
       "version_minor": 0
      },
      "text/plain": [
       "Valid 3/30:   0%|          | 0/27 [00:00<?, ?it/s]"
      ]
     },
     "metadata": {},
     "output_type": "display_data"
    },
    {
     "data": {
      "application/vnd.jupyter.widget-view+json": {
       "model_id": "4f9f0b39e4f347519378337942bc9f81",
       "version_major": 2,
       "version_minor": 0
      },
      "text/plain": [
       "Train 4/30:   0%|          | 0/27 [00:00<?, ?it/s]"
      ]
     },
     "metadata": {},
     "output_type": "display_data"
    },
    {
     "data": {
      "application/vnd.jupyter.widget-view+json": {
       "model_id": "b4fcb184571d421eae57aa9af878d1ae",
       "version_major": 2,
       "version_minor": 0
      },
      "text/plain": [
       "Valid 4/30:   0%|          | 0/27 [00:00<?, ?it/s]"
      ]
     },
     "metadata": {},
     "output_type": "display_data"
    },
    {
     "data": {
      "application/vnd.jupyter.widget-view+json": {
       "model_id": "8122f5d802a5463793facb39c67ff62e",
       "version_major": 2,
       "version_minor": 0
      },
      "text/plain": [
       "Train 5/30:   0%|          | 0/27 [00:00<?, ?it/s]"
      ]
     },
     "metadata": {},
     "output_type": "display_data"
    },
    {
     "data": {
      "application/vnd.jupyter.widget-view+json": {
       "model_id": "f54ab45bcd36433786fbbd0f29425fc0",
       "version_major": 2,
       "version_minor": 0
      },
      "text/plain": [
       "Valid 5/30:   0%|          | 0/27 [00:00<?, ?it/s]"
      ]
     },
     "metadata": {},
     "output_type": "display_data"
    },
    {
     "name": "stdout",
     "output_type": "stream",
     "text": [
      "[Epoch 5] Train Loss=1.3076, Valid Loss=1.2069, Train MAPE=1.7016, Valid MAPE=0.8819\n"
     ]
    },
    {
     "data": {
      "application/vnd.jupyter.widget-view+json": {
       "model_id": "502c8fbce4eb4a6fb9dc6e9b7ea06566",
       "version_major": 2,
       "version_minor": 0
      },
      "text/plain": [
       "Train 6/30:   0%|          | 0/27 [00:00<?, ?it/s]"
      ]
     },
     "metadata": {},
     "output_type": "display_data"
    },
    {
     "data": {
      "application/vnd.jupyter.widget-view+json": {
       "model_id": "c276392ab35b4a9093cd3fc44f4b5f95",
       "version_major": 2,
       "version_minor": 0
      },
      "text/plain": [
       "Valid 6/30:   0%|          | 0/27 [00:00<?, ?it/s]"
      ]
     },
     "metadata": {},
     "output_type": "display_data"
    },
    {
     "data": {
      "application/vnd.jupyter.widget-view+json": {
       "model_id": "cc20df7593524fee8f4265bfd82310b1",
       "version_major": 2,
       "version_minor": 0
      },
      "text/plain": [
       "Train 7/30:   0%|          | 0/27 [00:00<?, ?it/s]"
      ]
     },
     "metadata": {},
     "output_type": "display_data"
    },
    {
     "data": {
      "application/vnd.jupyter.widget-view+json": {
       "model_id": "ff28bcbd070b467bae0b9342c207d399",
       "version_major": 2,
       "version_minor": 0
      },
      "text/plain": [
       "Valid 7/30:   0%|          | 0/27 [00:00<?, ?it/s]"
      ]
     },
     "metadata": {},
     "output_type": "display_data"
    },
    {
     "data": {
      "application/vnd.jupyter.widget-view+json": {
       "model_id": "83603e50aa814f449a68a7f388d39244",
       "version_major": 2,
       "version_minor": 0
      },
      "text/plain": [
       "Train 8/30:   0%|          | 0/27 [00:00<?, ?it/s]"
      ]
     },
     "metadata": {},
     "output_type": "display_data"
    },
    {
     "data": {
      "application/vnd.jupyter.widget-view+json": {
       "model_id": "7dbb87e0d2144d819b059d83d2d950a4",
       "version_major": 2,
       "version_minor": 0
      },
      "text/plain": [
       "Valid 8/30:   0%|          | 0/27 [00:00<?, ?it/s]"
      ]
     },
     "metadata": {},
     "output_type": "display_data"
    },
    {
     "ename": "KeyboardInterrupt",
     "evalue": "",
     "output_type": "error",
     "traceback": [
      "\u001b[1;31m---------------------------------------------------------------------------\u001b[0m",
      "\u001b[1;31mKeyboardInterrupt\u001b[0m                         Traceback (most recent call last)",
      "Cell \u001b[1;32mIn[12], line 47\u001b[0m\n\u001b[0;32m     44\u001b[0m epochs \u001b[38;5;241m=\u001b[39m \u001b[38;5;241m30\u001b[39m\n\u001b[0;32m     46\u001b[0m \u001b[38;5;66;03m# 4-1) Base 모델 학습\u001b[39;00m\n\u001b[1;32m---> 47\u001b[0m history_base \u001b[38;5;241m=\u001b[39m \u001b[43mtrain_and_evaluate\u001b[49m\u001b[43m(\u001b[49m\u001b[43mmodel_base\u001b[49m\u001b[43m,\u001b[49m\u001b[43m \u001b[49m\u001b[43mtrain_loader\u001b[49m\u001b[43m,\u001b[49m\u001b[43m \u001b[49m\u001b[43mvalid_loader\u001b[49m\u001b[43m,\u001b[49m\u001b[43m \u001b[49m\u001b[43mlr\u001b[49m\u001b[43m,\u001b[49m\u001b[43m \u001b[49m\u001b[43mweight_decay\u001b[49m\u001b[43m,\u001b[49m\u001b[43m \u001b[49m\u001b[43mepochs\u001b[49m\u001b[43m,\u001b[49m\u001b[43m \u001b[49m\u001b[43mseed\u001b[49m\u001b[43m)\u001b[49m\n\u001b[0;32m     48\u001b[0m \u001b[38;5;66;03m# 4-2) Hop‑Biased 모델 학습\u001b[39;00m\n\u001b[0;32m     49\u001b[0m history_hop  \u001b[38;5;241m=\u001b[39m train_and_evaluate(model_hop,  train_loader, valid_loader, lr, weight_decay, epochs, seed)\n",
      "Cell \u001b[1;32mIn[12], line 31\u001b[0m, in \u001b[0;36mtrain_and_evaluate\u001b[1;34m(model, train_loader, val_loader, lr, weight_decay, epochs, seed)\u001b[0m\n\u001b[0;32m     19\u001b[0m criterion \u001b[38;5;241m=\u001b[39m nn\u001b[38;5;241m.\u001b[39mL1Loss()\n\u001b[0;32m     20\u001b[0m trainer \u001b[38;5;241m=\u001b[39m Trainer(\n\u001b[0;32m     21\u001b[0m     model\u001b[38;5;241m=\u001b[39mmodel,\n\u001b[0;32m     22\u001b[0m     train_loader\u001b[38;5;241m=\u001b[39mtrain_loader,\n\u001b[1;32m   (...)\u001b[0m\n\u001b[0;32m     29\u001b[0m     plot_interval\u001b[38;5;241m=\u001b[39m\u001b[38;5;241m0\u001b[39m\n\u001b[0;32m     30\u001b[0m )\n\u001b[1;32m---> 31\u001b[0m \u001b[43mtrainer\u001b[49m\u001b[38;5;241;43m.\u001b[39;49m\u001b[43mfit\u001b[49m\u001b[43m(\u001b[49m\u001b[43m)\u001b[49m\n\u001b[0;32m     32\u001b[0m history \u001b[38;5;241m=\u001b[39m trainer\u001b[38;5;241m.\u001b[39mget_history()\n\u001b[0;32m     33\u001b[0m \u001b[38;5;28;01mreturn\u001b[39;00m history\n",
      "File \u001b[1;32mc:\\Users\\gauoo\\OneDrive\\문서\\GitHub\\Traffic_Congestion_Prediction\\Traffic-Congestion-Prediction\\src\\utils\\Trainer.py:145\u001b[0m, in \u001b[0;36mTrainer.fit\u001b[1;34m(self)\u001b[0m\n\u001b[0;32m    142\u001b[0m loss \u001b[38;5;241m=\u001b[39m \u001b[38;5;28mself\u001b[39m\u001b[38;5;241m.\u001b[39mcriterion(pred, y_batch)\n\u001b[0;32m    144\u001b[0m B \u001b[38;5;241m=\u001b[39m x_batch\u001b[38;5;241m.\u001b[39msize(\u001b[38;5;241m0\u001b[39m)\n\u001b[1;32m--> 145\u001b[0m val_loss \u001b[38;5;241m+\u001b[39m\u001b[38;5;241m=\u001b[39m \u001b[43mloss\u001b[49m\u001b[38;5;241;43m.\u001b[39;49m\u001b[43mitem\u001b[49m\u001b[43m(\u001b[49m\u001b[43m)\u001b[49m \u001b[38;5;241m*\u001b[39m B\n\u001b[0;32m    146\u001b[0m val_mape \u001b[38;5;241m+\u001b[39m\u001b[38;5;241m=\u001b[39m \u001b[38;5;28mself\u001b[39m\u001b[38;5;241m.\u001b[39mmape(pred, y_batch) \u001b[38;5;241m*\u001b[39m B\n\u001b[0;32m    147\u001b[0m n_val \u001b[38;5;241m+\u001b[39m\u001b[38;5;241m=\u001b[39m B\n",
      "\u001b[1;31mKeyboardInterrupt\u001b[0m: "
     ]
    },
    {
     "data": {
      "image/png": "[encoded data removed]",
      "text/plain": [
       "<Figure size 640x480 with 1 Axes>"
      ]
     },
     "metadata": {},
     "output_type": "display_data"
    }
   ],
   "source": [
    "# %% [markdown]\n",
    "# 4. 반복 실험: 16개의 시드를 사용해 학습 수행\n",
    "#\n",
    "# 결과를 기록할 리스트 초기화\n",
    "results = []\n",
    "# 시드 목록 (16개)\n",
    "seeds = list(range(16))\n",
    "\n",
    "# distance_hop_tensor 준비 (E, E)\n",
    "# dataset_config.py에서 edge_spd를 가져왔으므로, numpy -> torch.LongTensor로 변환\n",
    "from dataset.dataset_config import edge_spd\n",
    "edge_spd_tensor = torch.from_numpy(edge_spd).long().to(DEVICE)\n",
    "\n",
    "# 학습·평가 함수 정의\n",
    "\n",
    "def train_and_evaluate(model, train_loader, val_loader, lr, weight_decay, epochs, seed):\n",
    "    set_seed(seed)\n",
    "    optimizer = torch.optim.AdamW(model.parameters(), lr=lr, weight_decay=weight_decay)\n",
    "    criterion = nn.L1Loss()\n",
    "    trainer = Trainer(\n",
    "        model=model,\n",
    "        train_loader=train_loader,\n",
    "        valid_loader=val_loader,\n",
    "        optimizer=optimizer,\n",
    "        criterion=criterion,\n",
    "        epochs=epochs,\n",
    "        device=DEVICE,\n",
    "        print_interval=5,\n",
    "        plot_interval=0\n",
    "    )\n",
    "    trainer.fit()\n",
    "    history = trainer.get_history()\n",
    "    return history\n",
    "\n",
    "# 메인 루프\n",
    "for seed in seeds:\n",
    "    for idx, params in enumerate(selected_params):\n",
    "        print(f\"Seed={seed}, 조합 인덱스={idx}\")\n",
    "        # 모델 초기화\n",
    "        model_base, model_hop = make_models(params, edge_spd_tensor)\n",
    "        # 하이퍼파라미터: 학습률·감쇠 비율 (고정 혹은 params에 포함하면 추가)\n",
    "        lr = 1e-4\n",
    "        weight_decay = 1e-5\n",
    "        epochs = 30\n",
    "        \n",
    "        # 4-1) Base 모델 학습\n",
    "        history_base = train_and_evaluate(model_base, train_loader, valid_loader, lr, weight_decay, epochs, seed)\n",
    "        # 4-2) Hop‑Biased 모델 학습\n",
    "        history_hop  = train_and_evaluate(model_hop,  train_loader, valid_loader, lr, weight_decay, epochs, seed)\n",
    "\n",
    "        # 4-3) 기록: history에서 valid MAPE, valid loss 추출\n",
    "        val_mape_base = history_base['valid_mape']  # (length=epochs)\n",
    "        val_loss_base = history_base['valid_loss']  # (length=epochs)\n",
    "        val_mape_hop  = history_hop['valid_mape']\n",
    "        val_loss_hop  = history_hop['valid_loss']\n",
    "\n",
    "        # MAPE=1, 0.5 달성 에폭 찾기\n",
    "        def first_epoch_leq(arr, threshold):\n",
    "            for i, v in enumerate(arr):\n",
    "                if v <= threshold:\n",
    "                    return i + 1  # 1-based epoch\n",
    "            return None\n",
    "\n",
    "        mape1_epoch_base = first_epoch_leq(val_mape_base, 1.0)\n",
    "        mape05_epoch_base = first_epoch_leq(val_mape_base, 0.5)\n",
    "        min_mape_base = float(np.min(val_mape_base))\n",
    "        min_loss_base = float(np.min(val_loss_base))\n",
    "\n",
    "        mape1_epoch_hop = first_epoch_leq(val_mape_hop, 1.0)\n",
    "        mape05_epoch_hop = first_epoch_leq(val_mape_hop, 0.5)\n",
    "        min_mape_hop = float(np.min(val_mape_hop))\n",
    "        min_loss_hop = float(np.min(val_loss_hop))\n",
    "\n",
    "        # 4-4) 결과 저장\n",
    "        results.append({\n",
    "            'seed': seed,\n",
    "            'combo_index': idx,\n",
    "            'params': params,\n",
    "            'mape1_epoch_base': mape1_epoch_base,\n",
    "            'mape05_epoch_base': mape05_epoch_base,\n",
    "            'min_mape_base': min_mape_base,\n",
    "            'min_loss_base': min_loss_base,\n",
    "            'mape1_epoch_hop': mape1_epoch_hop,\n",
    "            'mape05_epoch_hop': mape05_epoch_hop,\n",
    "            'min_mape_hop': min_mape_hop,\n",
    "            'min_loss_hop': min_loss_hop,\n",
    "            'history_base_mape': val_mape_base,\n",
    "            'history_hop_mape': val_mape_hop,\n",
    "        })\n",
    "        \n",
    "        # 4-5) 동적으로 검증 MAPE-에폭 그래프를 그리기\n",
    "        # Base 모델 기록된 에폭 수\n",
    "        epochs_base = len(val_mape_base)  # 예: 30이 아니라 15일 수도 있습니다.\n",
    "\n",
    "        # HopBias 모델 기록된 에폭 수\n",
    "        epochs_hop  = len(val_mape_hop)   # 예: 30이 아니라 20일 수도 있습니다.\n",
    "\n",
    "        plt.figure(figsize=(6, 4))\n",
    "        # Base 모델은 실제 기록 길이만큼, HopBias 모델도 마찬가지로 그립니다.\n",
    "        plt.plot(range(1, epochs_base + 1), val_mape_base, label='Base')\n",
    "        plt.plot(range(1, epochs_hop  + 1), val_mape_hop,  label='HopBias')\n",
    "\n",
    "        plt.axhline(1.0, color='gray', linestyle='--', alpha=0.5)\n",
    "        plt.axhline(0.5, color='gray', linestyle=':',  alpha=0.5)\n",
    "        plt.xlabel('Epoch')\n",
    "        plt.ylabel('Validation MAPE')\n",
    "        plt.title(f'Seed {seed} - Combo {idx}')\n",
    "        plt.legend()\n",
    "        plt.tight_layout()\n",
    "        plt.show()\n"
   ]
  },
  {
   "cell_type": "code",
   "execution_count": null,
   "id": "bb5a2679",
   "metadata": {},
   "outputs": [],
   "source": [
    "# 5. 실험 결과 분석\n",
    "df_results = pd.DataFrame(results)\n",
    "\n",
    "# 예시: combo별로 평균 최저 MAPE 비교 (모델별)\n",
    "agg_df = df_results.groupby('combo_index').agg({\n",
    "    'min_mape_base': ['mean', 'std'],\n",
    "    'min_mape_hop':  ['mean', 'std'],\n",
    "    'mape1_epoch_base': ['mean', 'std'],\n",
    "    'mape1_epoch_hop':  ['mean', 'std'],\n",
    "})\n",
    "print(agg_df)\n",
    "\n",
    "# %% [markdown]\n",
    "# 추가로, Hop‑Biased 모델의 개선 효과를 시각화할 수 있습니다.\n",
    "# 예: combo별 (`combo_index`)로 Base 대비 HopBias가 몇 에폭 빠르게 MAPE=1을 달성했는지 등.\n",
    "\n",
    "# (원하는 분석/시각화 코드를 여기에 추가)\n",
    "\n",
    "# %% [markdown]\n",
    "# 실험이 완료되었습니다.\n"
   ]
  }
 ],
 "metadata": {
  "kernelspec": {
   "display_name": "[d2l]",
   "language": "python",
   "name": "d2l"
  },
  "language_info": {
   "codemirror_mode": {
    "name": "ipython",
    "version": 3
   },
   "file_extension": ".py",
   "mimetype": "text/x-python",
   "name": "python",
   "nbconvert_exporter": "python",
   "pygments_lexer": "ipython3",
   "version": "3.9.19"
  }
 },
 "nbformat": 4,
 "nbformat_minor": 5
}
