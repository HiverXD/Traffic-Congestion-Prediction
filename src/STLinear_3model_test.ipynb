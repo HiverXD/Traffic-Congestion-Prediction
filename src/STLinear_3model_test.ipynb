{
 "cells": [
  {
   "cell_type": "markdown",
   "id": "574a1218",
   "metadata": {},
   "source": [
    "STLinear vs. Hop‑Biased STLinear vs SPE STLinear 비교 실험"
   ]
  },
  {
   "cell_type": "code",
   "execution_count": 1,
   "id": "bbdf4f5f",
   "metadata": {},
   "outputs": [
    {
     "name": "stderr",
     "output_type": "stream",
     "text": [
      "c:\\Users\\gauoo\\miniconda3\\envs\\d2l\\lib\\site-packages\\torch_geometric\\graphgym\\config.py:19: UserWarning: Could not define global config object. Please install 'yacs' via 'pip install yacs' in order to use GraphGym\n",
      "  warnings.warn(\"Could not define global config object. Please install \"\n",
      "c:\\Users\\gauoo\\miniconda3\\envs\\d2l\\lib\\site-packages\\torch_geometric\\graphgym\\imports.py:14: UserWarning: Please install 'pytorch_lightning' via  'pip install pytorch_lightning' in order to use GraphGym\n",
      "  warnings.warn(\"Please install 'pytorch_lightning' via  \"\n"
     ]
    }
   ],
   "source": [
    "# 기본\n",
    "import numpy as np\n",
    "import os\n",
    "import pandas as pd\n",
    "import matplotlib.pyplot as plt\n",
    "import time\n",
    "import random\n",
    "from collections import defaultdict\n",
    "\n",
    "# torch\n",
    "import torch\n",
    "import torch.nn as nn\n",
    "import torch.nn.functional as F\n",
    "from torch.optim import AdamW\n",
    "from torch.utils.data import DataLoader\n",
    "\n",
    "# 프로젝트\n",
    "from dataset.dataset_config import edge_index, edge_attr, week_steps, edge_adj_mat\n",
    "from dataset.traffic_dataset import TrafficDataset\n",
    "from utils.Trainer import Trainer\n",
    "from utils.calculate_performance_index import calculate_performance_index\n",
    "from models.baselines import GCNMLP, DCRNN, STGCN, MLPBASED, STGAT\n",
    "from models.STGCN_with_auxiliary_network_model import STGCNWithAux\n",
    "from models.STLinear import STLinear\n",
    "from models.STLinear_deriven import STLinear_HopBiased, STLinear_SPE, compute_spe_torch"
   ]
  },
  {
   "cell_type": "code",
   "execution_count": 2,
   "id": "ba7352ee",
   "metadata": {},
   "outputs": [],
   "source": [
    "# reproducibility 확보\n",
    "def set_seed(seed):\n",
    "    random.seed(seed)\n",
    "    np.random.seed(seed)\n",
    "    torch.manual_seed(seed)\n",
    "    torch.cuda.manual_seed_all(seed)\n",
    "\n",
    "# 하이퍼파라미터 & 데이터셋 준비\n",
    "BATCH_SIZE = 256\n",
    "EPOCHS = 50\n",
    "WINDOW = 12                   # 입력 시퀀스 길이\n",
    "N_PRED = 3                    # 예측 시퀀스 길이\n",
    "DEVICE = 'cuda' if torch.cuda.is_available() else 'cpu'\n",
    "\n",
    "data = np.load('dataset/traffic_dataset_13_smoothen.npy')  # (T_total, E, C) (33600, 50, 3)\n",
    "# train/valid split (예: 시계열 뒤쪽 20%를 검증으로)\n",
    "\n",
    "split_idx = int(data.shape[0] * 0.8)\n",
    "train_data, valid_data = data[:split_idx], data[split_idx:]\n",
    "\n",
    "def collate_fn(batch):\n",
    "    xs = torch.stack([item.x for item in batch], dim=0)\n",
    "    ys = torch.stack([item.y for item in batch], dim=0)\n",
    "    return xs, ys\n",
    "\n",
    "train_ds = TrafficDataset(train_data, window=WINDOW, randomize=True)\n",
    "valid_ds = TrafficDataset(valid_data, window=WINDOW, randomize=False)\n",
    "train_loader = DataLoader(train_ds, batch_size=BATCH_SIZE, shuffle=False, collate_fn=collate_fn)\n",
    "valid_loader = DataLoader(valid_ds, batch_size=BATCH_SIZE, shuffle=False, collate_fn=collate_fn)"
   ]
  },
  {
   "cell_type": "code",
   "execution_count": 3,
   "id": "5642fc8e",
   "metadata": {},
   "outputs": [],
   "source": [
    "# 모델 생성 함수 (하이퍼파라미터를 인자로 받아 초기화)\n",
    "def make_models(params, distance_hop_tensor):\n",
    "    \"\"\"\n",
    "    params: dict, 하이퍼파라미터 조합 예시\n",
    "    distance_hop_tensor: torch.LongTensor, shape (E, E)\n",
    "    반환: (model_base, model_hopbias)\n",
    "    \"\"\"\n",
    "    common_args = {\n",
    "        'num_nodes': params['num_nodes'],\n",
    "        'kernel_size': params['kernel_size'],\n",
    "        'in_steps': params['in_steps'],\n",
    "        'out_steps': params['out_steps'],\n",
    "        'input_embedding_dim': params['input_embedding_dim'],\n",
    "        'tod_embedding_dim': params['tod_embedding_dim'],\n",
    "        'dow_embedding_dim': params['dow_embedding_dim'],\n",
    "        'spatial_embedding_dim': params['spatial_embedding_dim'],\n",
    "        'adaptive_embedding_dim': params['adaptive_embedding_dim'],\n",
    "        'feed_forward_dim': params['feed_forward_dim'],\n",
    "        'num_heads': params['num_heads'],  # base 모델도 num_heads 인자는 있지만, 실제로 사용하지 않을 수 있음\n",
    "        'num_layers': params['num_layers'],\n",
    "        'dropout': params['dropout'],\n",
    "        'use_mixed_proj': True,\n",
    "    }\n",
    "    # Base STLinear 모델\n",
    "    model_base = STLinear(**common_args).to(DEVICE)\n",
    "    # Hop‑Biased 모델\n",
    "    common_args_hop = common_args.copy()\n",
    "    common_args_hop['num_heads'] = params['num_heads']  # d_model % num_heads == 0인지 확인 필요\n",
    "    # distance_hop_tensor은 미리 준비된 (E,E) LongTensor\n",
    "    model_hop = STLinear_HopBiased(\n",
    "        **common_args_hop\n",
    "    ).to(DEVICE)\n",
    "    # SPE 모델\n",
    "    common_args_spe = common_args.copy()\n",
    "    common_args_spe['num_heads'] = params['num_heads']  # d_model % num_heads == 0인지 확인 필요\n",
    "    model_spe = STLinear_SPE(\n",
    "        **common_args_spe, spe_dim=32\n",
    "    ).to(DEVICE)\n",
    "\n",
    "    return model_base, model_hop, model_spe\n"
   ]
  },
  {
   "cell_type": "code",
   "execution_count": 4,
   "id": "a5f3d537",
   "metadata": {},
   "outputs": [
    {
     "name": "stdout",
     "output_type": "stream",
     "text": [
      "총 조합 수: 1, 선택된 실험 조합 수: 1\n"
     ]
    }
   ],
   "source": [
    "# 3. 하이퍼파라미터 조합 생성 (32가지)\n",
    "from itertools import product\n",
    "\n",
    "# 후보 값 정의\n",
    "param_space = {\n",
    "    'num_nodes': [50],\n",
    "    'in_steps': [12],\n",
    "    'out_steps': [3],\n",
    "    'kernel_size': [33],\n",
    "    'input_embedding_dim': [32],\n",
    "    'tod_embedding_dim': [32],\n",
    "    'dow_embedding_dim': [32],\n",
    "    'spatial_embedding_dim': [32],\n",
    "    'adaptive_embedding_dim': [32],\n",
    "    'feed_forward_dim': [256],\n",
    "    'num_heads': [4],           # d_model = input_emb+tod+dow+... = e.g.32+32+32 =96 → 96 % heads ==0? 확인 필요\n",
    "    'num_layers': [6],\n",
    "    'dropout': [0.1],\n",
    "}\n",
    "\n",
    "# 가능한 모든 조합\n",
    "all_combinations = list(product(*param_space.values()))\n",
    "\n",
    "# 딕셔너리 목록으로 변환\n",
    "keys = list(param_space.keys())\n",
    "param_dicts = [dict(zip(keys, comb)) for comb in all_combinations]\n",
    "\n",
    "# 32개만 랜덤으로 추출 (혹은 앞 32개)\n",
    "random.seed(42)\n",
    "selected_params = random.sample(param_dicts, 1)\n",
    "\n",
    "print(f\"총 조합 수: {len(all_combinations)}, 선택된 실험 조합 수: {len(selected_params)}\")"
   ]
  },
  {
   "cell_type": "code",
   "execution_count": 6,
   "id": "fa36e477",
   "metadata": {
    "scrolled": true
   },
   "outputs": [
    {
     "name": "stdout",
     "output_type": "stream",
     "text": [
      "Seed=0, 조합 인덱스=0\n"
     ]
    },
    {
     "data": {
      "application/vnd.jupyter.widget-view+json": {
       "model_id": "f5518eee554e42fc81f39c6cd73efa33",
       "version_major": 2,
       "version_minor": 0
      },
      "text/plain": [
       "Epoch:   0%|          | 0/1 [00:00<?, ?it/s]"
      ]
     },
     "metadata": {},
     "output_type": "display_data"
    },
    {
     "data": {
      "application/vnd.jupyter.widget-view+json": {
       "model_id": "2a95eee48d6f404ea33c85e599bd6d24",
       "version_major": 2,
       "version_minor": 0
      },
      "text/plain": [
       "Train 1/1:   0%|          | 0/14 [00:00<?, ?it/s]"
      ]
     },
     "metadata": {},
     "output_type": "display_data"
    },
    {
     "data": {
      "application/vnd.jupyter.widget-view+json": {
       "model_id": "340fa420e68d43b29b919586f16845e2",
       "version_major": 2,
       "version_minor": 0
      },
      "text/plain": [
       "Valid 1/1:   0%|          | 0/14 [00:00<?, ?it/s]"
      ]
     },
     "metadata": {},
     "output_type": "display_data"
    },
    {
     "data": {
      "application/vnd.jupyter.widget-view+json": {
       "model_id": "d5e2a0c126964df09db31137f24d7317",
       "version_major": 2,
       "version_minor": 0
      },
      "text/plain": [
       "Epoch:   0%|          | 0/1 [00:00<?, ?it/s]"
      ]
     },
     "metadata": {},
     "output_type": "display_data"
    },
    {
     "data": {
      "application/vnd.jupyter.widget-view+json": {
       "model_id": "848de369ed384a8a948023e7ef896929",
       "version_major": 2,
       "version_minor": 0
      },
      "text/plain": [
       "Train 1/1:   0%|          | 0/14 [00:00<?, ?it/s]"
      ]
     },
     "metadata": {},
     "output_type": "display_data"
    },
    {
     "data": {
      "application/vnd.jupyter.widget-view+json": {
       "model_id": "e60792b1b8d74a6f810c3813d96f2bb9",
       "version_major": 2,
       "version_minor": 0
      },
      "text/plain": [
       "Valid 1/1:   0%|          | 0/14 [00:00<?, ?it/s]"
      ]
     },
     "metadata": {},
     "output_type": "display_data"
    },
    {
     "data": {
      "application/vnd.jupyter.widget-view+json": {
       "model_id": "866075457385437c927c377fb4cc56c2",
       "version_major": 2,
       "version_minor": 0
      },
      "text/plain": [
       "Epoch:   0%|          | 0/1 [00:00<?, ?it/s]"
      ]
     },
     "metadata": {},
     "output_type": "display_data"
    },
    {
     "data": {
      "application/vnd.jupyter.widget-view+json": {
       "model_id": "18eb3ebaebf94318ab63082263ef9363",
       "version_major": 2,
       "version_minor": 0
      },
      "text/plain": [
       "Train 1/1:   0%|          | 0/14 [00:00<?, ?it/s]"
      ]
     },
     "metadata": {},
     "output_type": "display_data"
    },
    {
     "ename": "KeyboardInterrupt",
     "evalue": "",
     "output_type": "error",
     "traceback": [
      "\u001b[1;31m---------------------------------------------------------------------------\u001b[0m",
      "\u001b[1;31mKeyboardInterrupt\u001b[0m                         Traceback (most recent call last)",
      "Cell \u001b[1;32mIn[6], line 52\u001b[0m\n\u001b[0;32m     50\u001b[0m history_hop  \u001b[38;5;241m=\u001b[39m train_and_evaluate(model_hop,  train_loader, valid_loader, lr, weight_decay, epochs, seed)\n\u001b[0;32m     51\u001b[0m \u001b[38;5;66;03m# 4-2-2) SPE 모델 학습\u001b[39;00m\n\u001b[1;32m---> 52\u001b[0m history_spe  \u001b[38;5;241m=\u001b[39m \u001b[43mtrain_and_evaluate\u001b[49m\u001b[43m(\u001b[49m\u001b[43mmodel_spe\u001b[49m\u001b[43m,\u001b[49m\u001b[43m  \u001b[49m\u001b[43mtrain_loader\u001b[49m\u001b[43m,\u001b[49m\u001b[43m \u001b[49m\u001b[43mvalid_loader\u001b[49m\u001b[43m,\u001b[49m\u001b[43m \u001b[49m\u001b[43mlr\u001b[49m\u001b[43m,\u001b[49m\u001b[43m \u001b[49m\u001b[43mweight_decay\u001b[49m\u001b[43m,\u001b[49m\u001b[43m \u001b[49m\u001b[43mepochs\u001b[49m\u001b[43m,\u001b[49m\u001b[43m \u001b[49m\u001b[43mseed\u001b[49m\u001b[43m)\u001b[49m\n\u001b[0;32m     54\u001b[0m \u001b[38;5;66;03m# 4-3) 기록: history에서 valid MAPE, valid loss 추출\u001b[39;00m\n\u001b[0;32m     55\u001b[0m val_mape_base \u001b[38;5;241m=\u001b[39m history_base[\u001b[38;5;124m'\u001b[39m\u001b[38;5;124mvalid_mape\u001b[39m\u001b[38;5;124m'\u001b[39m]  \u001b[38;5;66;03m# (length=epochs)\u001b[39;00m\n",
      "Cell \u001b[1;32mIn[6], line 32\u001b[0m, in \u001b[0;36mtrain_and_evaluate\u001b[1;34m(model, train_loader, val_loader, lr, weight_decay, epochs, seed)\u001b[0m\n\u001b[0;32m     19\u001b[0m criterion \u001b[38;5;241m=\u001b[39m nn\u001b[38;5;241m.\u001b[39mL1Loss()\n\u001b[0;32m     20\u001b[0m trainer \u001b[38;5;241m=\u001b[39m Trainer(\n\u001b[0;32m     21\u001b[0m     model\u001b[38;5;241m=\u001b[39mmodel,\n\u001b[0;32m     22\u001b[0m     train_loader\u001b[38;5;241m=\u001b[39mtrain_loader,\n\u001b[1;32m   (...)\u001b[0m\n\u001b[0;32m     30\u001b[0m     auto_save\u001b[38;5;241m=\u001b[39m\u001b[38;5;28;01mTrue\u001b[39;00m,\n\u001b[0;32m     31\u001b[0m )\n\u001b[1;32m---> 32\u001b[0m \u001b[43mtrainer\u001b[49m\u001b[38;5;241;43m.\u001b[39;49m\u001b[43mfit\u001b[49m\u001b[43m(\u001b[49m\u001b[43m)\u001b[49m\n\u001b[0;32m     33\u001b[0m history \u001b[38;5;241m=\u001b[39m trainer\u001b[38;5;241m.\u001b[39mget_history()\n\u001b[0;32m     34\u001b[0m \u001b[38;5;28;01mreturn\u001b[39;00m history\n",
      "File \u001b[1;32mc:\\Users\\gauoo\\OneDrive\\문서\\GitHub\\Traffic_Congestion_Prediction\\Traffic-Congestion-Prediction\\src\\utils\\Trainer.py:113\u001b[0m, in \u001b[0;36mTrainer.fit\u001b[1;34m(self)\u001b[0m\n\u001b[0;32m    111\u001b[0m \u001b[38;5;28mself\u001b[39m\u001b[38;5;241m.\u001b[39moptimizer\u001b[38;5;241m.\u001b[39mzero_grad()\n\u001b[0;32m    112\u001b[0m \u001b[38;5;28mself\u001b[39m\u001b[38;5;241m.\u001b[39mscaler\u001b[38;5;241m.\u001b[39mscale(loss)\u001b[38;5;241m.\u001b[39mbackward()\n\u001b[1;32m--> 113\u001b[0m \u001b[38;5;28;43mself\u001b[39;49m\u001b[38;5;241;43m.\u001b[39;49m\u001b[43mscaler\u001b[49m\u001b[38;5;241;43m.\u001b[39;49m\u001b[43mstep\u001b[49m\u001b[43m(\u001b[49m\u001b[38;5;28;43mself\u001b[39;49m\u001b[38;5;241;43m.\u001b[39;49m\u001b[43moptimizer\u001b[49m\u001b[43m)\u001b[49m\n\u001b[0;32m    114\u001b[0m \u001b[38;5;28mself\u001b[39m\u001b[38;5;241m.\u001b[39mscaler\u001b[38;5;241m.\u001b[39mupdate()\n\u001b[0;32m    116\u001b[0m B \u001b[38;5;241m=\u001b[39m x_batch\u001b[38;5;241m.\u001b[39msize(\u001b[38;5;241m0\u001b[39m)\n",
      "File \u001b[1;32mc:\\Users\\gauoo\\miniconda3\\envs\\d2l\\lib\\site-packages\\torch\\amp\\grad_scaler.py:454\u001b[0m, in \u001b[0;36mGradScaler.step\u001b[1;34m(self, optimizer, *args, **kwargs)\u001b[0m\n\u001b[0;32m    448\u001b[0m     \u001b[38;5;28mself\u001b[39m\u001b[38;5;241m.\u001b[39munscale_(optimizer)\n\u001b[0;32m    450\u001b[0m \u001b[38;5;28;01massert\u001b[39;00m (\n\u001b[0;32m    451\u001b[0m     \u001b[38;5;28mlen\u001b[39m(optimizer_state[\u001b[38;5;124m\"\u001b[39m\u001b[38;5;124mfound_inf_per_device\u001b[39m\u001b[38;5;124m\"\u001b[39m]) \u001b[38;5;241m>\u001b[39m \u001b[38;5;241m0\u001b[39m\n\u001b[0;32m    452\u001b[0m ), \u001b[38;5;124m\"\u001b[39m\u001b[38;5;124mNo inf checks were recorded for this optimizer.\u001b[39m\u001b[38;5;124m\"\u001b[39m\n\u001b[1;32m--> 454\u001b[0m retval \u001b[38;5;241m=\u001b[39m \u001b[38;5;28mself\u001b[39m\u001b[38;5;241m.\u001b[39m_maybe_opt_step(optimizer, optimizer_state, \u001b[38;5;241m*\u001b[39margs, \u001b[38;5;241m*\u001b[39m\u001b[38;5;241m*\u001b[39mkwargs)\n\u001b[0;32m    456\u001b[0m optimizer_state[\u001b[38;5;124m\"\u001b[39m\u001b[38;5;124mstage\u001b[39m\u001b[38;5;124m\"\u001b[39m] \u001b[38;5;241m=\u001b[39m OptState\u001b[38;5;241m.\u001b[39mSTEPPED\n\u001b[0;32m    458\u001b[0m \u001b[38;5;28;01mreturn\u001b[39;00m retval\n",
      "File \u001b[1;32mc:\\Users\\gauoo\\miniconda3\\envs\\d2l\\lib\\site-packages\\torch\\amp\\grad_scaler.py:351\u001b[0m, in \u001b[0;36mGradScaler._maybe_opt_step\u001b[1;34m(self, optimizer, optimizer_state, *args, **kwargs)\u001b[0m\n\u001b[0;32m    343\u001b[0m \u001b[38;5;28;01mdef\u001b[39;00m \u001b[38;5;21m_maybe_opt_step\u001b[39m(\n\u001b[0;32m    344\u001b[0m     \u001b[38;5;28mself\u001b[39m,\n\u001b[0;32m    345\u001b[0m     optimizer: torch\u001b[38;5;241m.\u001b[39moptim\u001b[38;5;241m.\u001b[39mOptimizer,\n\u001b[1;32m   (...)\u001b[0m\n\u001b[0;32m    348\u001b[0m     \u001b[38;5;241m*\u001b[39m\u001b[38;5;241m*\u001b[39mkwargs: Any,\n\u001b[0;32m    349\u001b[0m ) \u001b[38;5;241m-\u001b[39m\u001b[38;5;241m>\u001b[39m Optional[\u001b[38;5;28mfloat\u001b[39m]:\n\u001b[0;32m    350\u001b[0m     retval: Optional[\u001b[38;5;28mfloat\u001b[39m] \u001b[38;5;241m=\u001b[39m \u001b[38;5;28;01mNone\u001b[39;00m\n\u001b[1;32m--> 351\u001b[0m     \u001b[38;5;28;01mif\u001b[39;00m \u001b[38;5;129;01mnot\u001b[39;00m \u001b[38;5;28;43msum\u001b[39;49m\u001b[43m(\u001b[49m\u001b[43mv\u001b[49m\u001b[38;5;241;43m.\u001b[39;49m\u001b[43mitem\u001b[49m\u001b[43m(\u001b[49m\u001b[43m)\u001b[49m\u001b[43m \u001b[49m\u001b[38;5;28;43;01mfor\u001b[39;49;00m\u001b[43m \u001b[49m\u001b[43mv\u001b[49m\u001b[43m \u001b[49m\u001b[38;5;129;43;01min\u001b[39;49;00m\u001b[43m \u001b[49m\u001b[43moptimizer_state\u001b[49m\u001b[43m[\u001b[49m\u001b[38;5;124;43m\"\u001b[39;49m\u001b[38;5;124;43mfound_inf_per_device\u001b[39;49m\u001b[38;5;124;43m\"\u001b[39;49m\u001b[43m]\u001b[49m\u001b[38;5;241;43m.\u001b[39;49m\u001b[43mvalues\u001b[49m\u001b[43m(\u001b[49m\u001b[43m)\u001b[49m\u001b[43m)\u001b[49m:\n\u001b[0;32m    352\u001b[0m         retval \u001b[38;5;241m=\u001b[39m optimizer\u001b[38;5;241m.\u001b[39mstep(\u001b[38;5;241m*\u001b[39margs, \u001b[38;5;241m*\u001b[39m\u001b[38;5;241m*\u001b[39mkwargs)\n\u001b[0;32m    353\u001b[0m     \u001b[38;5;28;01mreturn\u001b[39;00m retval\n",
      "File \u001b[1;32mc:\\Users\\gauoo\\miniconda3\\envs\\d2l\\lib\\site-packages\\torch\\amp\\grad_scaler.py:351\u001b[0m, in \u001b[0;36m<genexpr>\u001b[1;34m(.0)\u001b[0m\n\u001b[0;32m    343\u001b[0m \u001b[38;5;28;01mdef\u001b[39;00m \u001b[38;5;21m_maybe_opt_step\u001b[39m(\n\u001b[0;32m    344\u001b[0m     \u001b[38;5;28mself\u001b[39m,\n\u001b[0;32m    345\u001b[0m     optimizer: torch\u001b[38;5;241m.\u001b[39moptim\u001b[38;5;241m.\u001b[39mOptimizer,\n\u001b[1;32m   (...)\u001b[0m\n\u001b[0;32m    348\u001b[0m     \u001b[38;5;241m*\u001b[39m\u001b[38;5;241m*\u001b[39mkwargs: Any,\n\u001b[0;32m    349\u001b[0m ) \u001b[38;5;241m-\u001b[39m\u001b[38;5;241m>\u001b[39m Optional[\u001b[38;5;28mfloat\u001b[39m]:\n\u001b[0;32m    350\u001b[0m     retval: Optional[\u001b[38;5;28mfloat\u001b[39m] \u001b[38;5;241m=\u001b[39m \u001b[38;5;28;01mNone\u001b[39;00m\n\u001b[1;32m--> 351\u001b[0m     \u001b[38;5;28;01mif\u001b[39;00m \u001b[38;5;129;01mnot\u001b[39;00m \u001b[38;5;28msum\u001b[39m(\u001b[43mv\u001b[49m\u001b[38;5;241;43m.\u001b[39;49m\u001b[43mitem\u001b[49m\u001b[43m(\u001b[49m\u001b[43m)\u001b[49m \u001b[38;5;28;01mfor\u001b[39;00m v \u001b[38;5;129;01min\u001b[39;00m optimizer_state[\u001b[38;5;124m\"\u001b[39m\u001b[38;5;124mfound_inf_per_device\u001b[39m\u001b[38;5;124m\"\u001b[39m]\u001b[38;5;241m.\u001b[39mvalues()):\n\u001b[0;32m    352\u001b[0m         retval \u001b[38;5;241m=\u001b[39m optimizer\u001b[38;5;241m.\u001b[39mstep(\u001b[38;5;241m*\u001b[39margs, \u001b[38;5;241m*\u001b[39m\u001b[38;5;241m*\u001b[39mkwargs)\n\u001b[0;32m    353\u001b[0m     \u001b[38;5;28;01mreturn\u001b[39;00m retval\n",
      "\u001b[1;31mKeyboardInterrupt\u001b[0m: "
     ]
    },
    {
     "data": {
      "image/png": "[encoded data removed]",
      "text/plain": [
       "<Figure size 640x480 with 1 Axes>"
      ]
     },
     "metadata": {},
     "output_type": "display_data"
    },
    {
     "data": {
      "image/png": "[encoded data removed]",
      "text/plain": [
       "<Figure size 640x480 with 1 Axes>"
      ]
     },
     "metadata": {},
     "output_type": "display_data"
    },
    {
     "data": {
      "image/png": "[encoded data removed]",
      "text/plain": [
       "<Figure size 640x480 with 1 Axes>"
      ]
     },
     "metadata": {},
     "output_type": "display_data"
    }
   ],
   "source": [
    "# %% [markdown]\n",
    "# 4. 반복 실험: 16개의 시드를 사용해 학습 수행\n",
    "#\n",
    "# 결과를 기록할 리스트 초기화\n",
    "results = []\n",
    "# 시드 목록 (16개)\n",
    "seeds = list(range(16))\n",
    "\n",
    "# distance_hop_tensor 준비 (E, E)\n",
    "# dataset_config.py에서 edge_spd를 가져왔으므로, numpy -> torch.LongTensor로 변환\n",
    "from dataset.dataset_config import edge_spd\n",
    "edge_spd_tensor = torch.from_numpy(edge_spd).long().to(DEVICE)\n",
    "\n",
    "# 학습·평가 함수 정의\n",
    "\n",
    "def train_and_evaluate(model, train_loader, val_loader, lr, weight_decay, epochs, seed):\n",
    "    set_seed(seed)\n",
    "    optimizer = torch.optim.AdamW(model.parameters(), lr=lr, weight_decay=weight_decay)\n",
    "    criterion = nn.L1Loss()\n",
    "    trainer = Trainer(\n",
    "        model=model,\n",
    "        train_loader=train_loader,\n",
    "        valid_loader=val_loader,\n",
    "        optimizer=optimizer,\n",
    "        criterion=criterion,\n",
    "        epochs=epochs,\n",
    "        device=DEVICE,\n",
    "        print_interval=0,\n",
    "        plot_interval=5,\n",
    "        auto_save=True,\n",
    "    )\n",
    "    trainer.fit()\n",
    "    history = trainer.get_history()\n",
    "    return history\n",
    "\n",
    "# 메인 루프\n",
    "for seed in seeds:\n",
    "    for idx, params in enumerate(selected_params):\n",
    "        print(f\"Seed={seed}, 조합 인덱스={idx}\")\n",
    "        # 모델 초기화\n",
    "        model_base, model_hop, model_spe = make_models(params, edge_spd_tensor)\n",
    "        # 하이퍼파라미터: 학습률·감쇠 비율 (고정 혹은 params에 포함하면 추가)\n",
    "        lr = 5e-5\n",
    "        weight_decay = 1e-5\n",
    "        epochs = 1\n",
    "        \n",
    "        # 4-1) Base 모델 학습\n",
    "        history_base = train_and_evaluate(model_base, train_loader, valid_loader, lr, weight_decay, epochs, seed)\n",
    "        # 4-2) Hop‑Biased 모델 학습\n",
    "        history_hop  = train_and_evaluate(model_hop,  train_loader, valid_loader, lr, weight_decay, epochs, seed)\n",
    "        # 4-2-2) SPE 모델 학습\n",
    "        history_spe  = train_and_evaluate(model_spe,  train_loader, valid_loader, lr, weight_decay, epochs, seed)\n",
    "\n",
    "        # 4-3) 기록: history에서 valid MAPE, valid loss 추출\n",
    "        val_mape_base = history_base['valid_mape']  # (length=epochs)\n",
    "        val_loss_base = history_base['valid_loss']  # (length=epochs)\n",
    "        val_mape_hop  = history_hop['valid_mape']\n",
    "        val_loss_hop  = history_hop['valid_loss']\n",
    "        val_mape_spe  = history_spe['valid_mape']\n",
    "        val_loss_spe  = history_spe['valid_loss']\n",
    "\n",
    "        # MAPE=1, 0.5 달성 에폭 찾기\n",
    "        def first_epoch_leq(arr, threshold):\n",
    "            for i, v in enumerate(arr):\n",
    "                if v <= threshold:\n",
    "                    return i + 1  # 1-based epoch\n",
    "            return None\n",
    "\n",
    "        mape1_epoch_base = first_epoch_leq(val_mape_base, 1.0)\n",
    "        mape05_epoch_base = first_epoch_leq(val_mape_base, 0.5)\n",
    "        min_mape_base = float(np.min(val_mape_base))\n",
    "        min_loss_base = float(np.min(val_loss_base))\n",
    "\n",
    "        mape1_epoch_hop = first_epoch_leq(val_mape_hop, 1.0)\n",
    "        mape05_epoch_hop = first_epoch_leq(val_mape_hop, 0.5)\n",
    "        min_mape_hop = float(np.min(val_mape_hop))\n",
    "        min_loss_hop = float(np.min(val_loss_hop))\n",
    "\n",
    "        mape1_epoch_spe = first_epoch_leq(val_mape_spe, 1.0)\n",
    "        mape05_epoch_spe = first_epoch_leq(val_mape_spe, 0.5)\n",
    "        min_mape_spe = float(np.min(val_mape_spe))\n",
    "        min_loss_spe = float(np.min(val_loss_spe))\n",
    "\n",
    "        # 4-4) 결과 저장\n",
    "        results.append({\n",
    "            'seed': seed,\n",
    "            'combo_index': idx,\n",
    "            'params': params,\n",
    "            'mape1_epoch_base': mape1_epoch_base,\n",
    "            'mape05_epoch_base': mape05_epoch_base,\n",
    "            'min_mape_base': min_mape_base,\n",
    "            'min_loss_base': min_loss_base,\n",
    "            'history_base_mape': val_mape_base,\n",
    "            \n",
    "\n",
    "            'mape1_epoch_hop': mape1_epoch_hop,\n",
    "            'mape05_epoch_hop': mape05_epoch_hop,\n",
    "            'min_mape_hop': min_mape_hop,\n",
    "            'min_loss_hop': min_loss_hop,\n",
    "            'history_hop_mape': val_mape_hop,\n",
    "            \n",
    "            \n",
    "            'mape1_epoch_spe': mape1_epoch_spe,\n",
    "            'mape05_epoch_spe': mape05_epoch_spe,\n",
    "            'min_mape_spe': min_mape_spe,\n",
    "            'min_loss_spe': min_loss_spe,\n",
    "            'history_spe_mape': val_mape_spe,\n",
    "        })\n",
    "        \n",
    "        # 4-5) 동적으로 검증 MAPE-에폭 그래프를 그리기\n",
    "        # Base 모델 기록된 에폭 수\n",
    "        epochs_base = len(val_mape_base)  # 예: 30이 아니라 15일 수도 있습니다.\n",
    "\n",
    "        # HopBias 모델 기록된 에폭 수\n",
    "        epochs_hop  = len(val_mape_hop)   # 예: 30이 아니라 20일 수도 있습니다.\n",
    "        \n",
    "        # spe 모델 \n",
    "        epochs_spe = len(val_mape_spe)\n",
    "\n",
    "\n",
    "        plt.figure(figsize=(6, 4))\n",
    "        # Base 모델은 실제 기록 길이만큼, HopBias 모델도 마찬가지로 그립니다.\n",
    "        plt.plot(range(1, epochs_base + 1), val_mape_base, label='Base')\n",
    "        plt.plot(range(1, epochs_hop  + 1), val_mape_hop,  label='HopBias')\n",
    "        plt.plot(range(1, epochs_spe  + 1), val_mape_spe,  label='speBias')\n",
    "\n",
    "        plt.axhline(1.0, color='gray', linestyle='--', alpha=0.5)\n",
    "        plt.axhline(0.5, color='gray', linestyle=':',  alpha=0.5)\n",
    "        plt.xlabel('Epoch')\n",
    "        plt.ylabel('Validation MAPE')\n",
    "        plt.title(f'Seed {seed} - Combo {idx}')\n",
    "        plt.legend()\n",
    "        plt.tight_layout()\n",
    "        plt.show()\n"
   ]
  }
 ],
 "metadata": {
  "kernelspec": {
   "display_name": "[d2l]",
   "language": "python",
   "name": "d2l"
  },
  "language_info": {
   "codemirror_mode": {
    "name": "ipython",
    "version": 3
   },
   "file_extension": ".py",
   "mimetype": "text/x-python",
   "name": "python",
   "nbconvert_exporter": "python",
   "pygments_lexer": "ipython3",
   "version": "3.9.19"
  }
 },
 "nbformat": 4,
 "nbformat_minor": 5
}
