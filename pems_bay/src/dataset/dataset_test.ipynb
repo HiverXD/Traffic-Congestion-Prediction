{
 "cells": [
  {
   "cell_type": "code",
   "execution_count": 2,
   "id": "a412fc88",
   "metadata": {},
   "outputs": [
    {
     "ename": "NameError",
     "evalue": "name '__file__' is not defined",
     "output_type": "error",
     "traceback": [
      "\u001b[1;31m---------------------------------------------------------------------------\u001b[0m",
      "\u001b[1;31mNameError\u001b[0m                                 Traceback (most recent call last)",
      "Cell \u001b[1;32mIn[2], line 6\u001b[0m\n\u001b[0;32m      3\u001b[0m \u001b[38;5;28;01mimport\u001b[39;00m \u001b[38;5;21;01mnumpy\u001b[39;00m \u001b[38;5;28;01mas\u001b[39;00m \u001b[38;5;21;01mnp\u001b[39;00m\n\u001b[0;32m      5\u001b[0m \u001b[38;5;66;03m# 1) 파일 경로\u001b[39;00m\n\u001b[1;32m----> 6\u001b[0m BASE_DIR \u001b[38;5;241m=\u001b[39m os\u001b[38;5;241m.\u001b[39mpath\u001b[38;5;241m.\u001b[39mjoin(os\u001b[38;5;241m.\u001b[39mpath\u001b[38;5;241m.\u001b[39mdirname(\u001b[38;5;18;43m__file__\u001b[39;49m), \u001b[38;5;124m'\u001b[39m\u001b[38;5;124mpems_bay_dataset\u001b[39m\u001b[38;5;124m'\u001b[39m)\n\u001b[0;32m      7\u001b[0m H5_PATH  \u001b[38;5;241m=\u001b[39m os\u001b[38;5;241m.\u001b[39mpath\u001b[38;5;241m.\u001b[39mjoin(BASE_DIR, \u001b[38;5;124m'\u001b[39m\u001b[38;5;124mpems-bay.h5\u001b[39m\u001b[38;5;124m'\u001b[39m)\n\u001b[0;32m      8\u001b[0m OUT_NPZ  \u001b[38;5;241m=\u001b[39m os\u001b[38;5;241m.\u001b[39mpath\u001b[38;5;241m.\u001b[39mjoin(BASE_DIR, \u001b[38;5;124m'\u001b[39m\u001b[38;5;124mpems_bay_data.npz\u001b[39m\u001b[38;5;124m'\u001b[39m)\n",
      "\u001b[1;31mNameError\u001b[0m: name '__file__' is not defined"
     ]
    }
   ],
   "source": [
    "import os\n",
    "import h5py\n",
    "import numpy as np\n",
    "\n",
    "# 1) 파일 경로\n",
    "BASE_DIR = os.path.join(os.path.dirname(__file__), 'pems_bay_dataset')\n",
    "H5_PATH  = os.path.join(BASE_DIR, 'pems-bay.h5')\n",
    "OUT_NPZ  = os.path.join(BASE_DIR, 'pems_bay_data.npz')\n",
    "\n",
    "# 2) HDF5 로드\n",
    "with h5py.File(H5_PATH, 'r') as f:\n",
    "    speed_grp = f['speed']\n",
    "    # 시간×센서 행렬\n",
    "    data = speed_grp['block0_values'][:]    # shape (타임스텝, 센서 수)\n",
    "    timestamps = speed_grp['axis1'][:]       # 타임스탬프\n",
    "    sensor_ids = speed_grp['axis0'][:]       # 센서 ID\n",
    "\n",
    "# # 3) NumPy로 저장 (.npz: 여러 배열 포함 가능)\n",
    "# np.savez(\n",
    "#     OUT_NPZ,\n",
    "#     data=data,\n",
    "#     timestamps=timestamps.astype('U'),  # 문자열 배열 저장 시 인코딩\n",
    "#     sensor_ids=sensor_ids.astype('U')\n",
    "# )\n",
    "\n",
    "# print(f\"저장 완료: {OUT_NPZ}\")\n"
   ]
  }
 ],
 "metadata": {
  "kernelspec": {
   "display_name": "[d2l]",
   "language": "python",
   "name": "d2l"
  },
  "language_info": {
   "codemirror_mode": {
    "name": "ipython",
    "version": 3
   },
   "file_extension": ".py",
   "mimetype": "text/x-python",
   "name": "python",
   "nbconvert_exporter": "python",
   "pygments_lexer": "ipython3",
   "version": "3.9.19"
  }
 },
 "nbformat": 4,
 "nbformat_minor": 5
}
